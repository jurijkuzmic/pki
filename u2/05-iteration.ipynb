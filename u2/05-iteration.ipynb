{
 "cells": [
  {
   "cell_type": "markdown",
   "id": "8e32983f",
   "metadata": {},
   "source": [
    "<figure>\n",
    "  <IMG SRC=\"https://upload.wikimedia.org/wikipedia/commons/thumb/d/d5/Fachhochschule_Südwestfalen_20xx_logo.svg/320px-Fachhochschule_Südwestfalen_20xx_logo.svg.png\" WIDTH=250 ALIGN=\"right\">\n",
    "</figure>\n",
    "\n",
    "# Programmierung für KI\n",
    "### Winterersemester 2022/23\n",
    "Prof. Dr. Heiner Giefers"
   ]
  },
  {
   "cell_type": "markdown",
   "id": "aefc692c",
   "metadata": {
    "deletable": false,
    "editable": false,
    "nbgrader": {
     "grade": false,
     "grade_id": "cell-9645d28f0c97f178",
     "locked": true,
     "schema_version": 3,
     "solution": false,
     "task": false
    }
   },
   "source": [
    "**Aufgabe 1: Schreiben Sie ein Programm, das wiederholt Zahlen einliest, bis der Benutzer den Befehl `done` eingibt. Sobald `done` eingegeben wurde, geben Sie die Summe, die Anzahl und den Durchschnitt der Zahlen aus. Wenn der Benutzer etwas anderes als eine Zahl eingibt, erkennen Sie seinen Fehler mit `try` und `except` und verlassen die Funktion, indem Sie die Fehlermeldung `Es werden nur Zahlen akzeptiert. Beenden mit 'done'` als Zeichenkette (mit `return`) \n",
    "zurückgeben.**\n",
    "\n",
    "*Erwartete Ausgabe:*\n",
    "\n",
    "    Bitte eine Zahl eingeben: 2\n",
    "    Bitte eine Zahl eingeben: 4\n",
    "    Bitte eine Zahl eingeben: 6\n",
    "    Bitte eine Zahl eingeben: done\n",
    "    Anzahl: 3 Summe: 12.0 Durchschnitt: 4.0"
   ]
  },
  {
   "cell_type": "code",
   "execution_count": null,
   "id": "8659c74e",
   "metadata": {
    "deletable": false,
    "nbgrader": {
     "grade": false,
     "grade_id": "cell-aaa380245b05e7d3",
     "locked": false,
     "schema_version": 3,
     "solution": true,
     "task": false
    }
   },
   "outputs": [],
   "source": [
    "def durchschnitt():\n",
    "    anzahl = 0\n",
    "    summe = 0\n",
    "    durchschnitt = 0\n",
    "    # YOUR CODE HERE\n",
    "    raise NotImplementedError()\n",
    "    erg = \"Anzahl: \" + str(anzahl) + \" Summe: \" + str(summe) + \" Durchschnitt: \" + str(durchschnitt)\n",
    "    print(erg)\n",
    "    return erg"
   ]
  },
  {
   "cell_type": "code",
   "execution_count": null,
   "id": "17b3dfb8",
   "metadata": {
    "deletable": false,
    "editable": false,
    "nbgrader": {
     "grade": true,
     "grade_id": "cell-09543649eed06a8a",
     "locked": true,
     "points": 2,
     "schema_version": 3,
     "solution": false,
     "task": false
    }
   },
   "outputs": [],
   "source": [
    "\"\"\"Teste die Funktion durchschnitt auf Gültigkeit.\"\"\"\n",
    "\n",
    "def myinput(inputs):\n",
    "    def foo(a):\n",
    "        print(a)\n",
    "        input.counter += 1\n",
    "        if input.counter > len(inputs) :\n",
    "            raise \"Nicht genügend inputs\"\n",
    "        else:\n",
    "            return inputs[input.counter-1]\n",
    "    foo.counter = 0\n",
    "    return foo\n",
    "\n",
    "from nose.tools import assert_equal\n",
    "\n",
    "input_old = input\n",
    "# Erster Testlauf, Abschluss der Eingabe mit \"done\"\n",
    "input = myinput(['2','4', '6', 'done'])\n",
    "s1 = durchschnitt()\n",
    "# Zweiter Testlauf, Abschluss der Eingabe mit fehlerhaftem Input\n",
    "input = myinput(['2','4','falsch'])\n",
    "s2 = durchschnitt()\n",
    "input = input_old\n",
    "\n",
    "assert \"Anzahl: 3 Summe: 12.0 Durchschnitt: 4.0\" in s1, \"Die Ausgabe stimmt nicht\"\n",
    "assert \"Es werden nur Zahlen akzeptiert\" in s2, \"Die Fehlermeldung ist nicht korrekt\""
   ]
  },
  {
   "cell_type": "markdown",
   "id": "0ad49511",
   "metadata": {
    "deletable": false,
    "editable": false,
    "nbgrader": {
     "grade": false,
     "grade_id": "cell-ec31473295561606",
     "locked": true,
     "schema_version": 3,
     "solution": false,
     "task": false
    }
   },
   "source": [
    "**Aufgabe 2: Schreiben Sie ein weiteres Programm, das eine Liste von Zahlen wie oben abfragt und am Ende sowohl das Maximum als auch das Minimum der Zahlen anstelle des Durchschnitts ausgibt.**"
   ]
  },
  {
   "cell_type": "code",
   "execution_count": null,
   "id": "1ff84747",
   "metadata": {
    "deletable": false,
    "nbgrader": {
     "grade": false,
     "grade_id": "cell-684d8a49ce7ad30e",
     "locked": false,
     "schema_version": 3,
     "solution": true,
     "task": false
    }
   },
   "outputs": [],
   "source": [
    "def minmax():\n",
    "    anzahl = 0\n",
    "    minimum = None\n",
    "    maximum = None\n",
    "    # YOUR CODE HERE\n",
    "    raise NotImplementedError()\n",
    "    erg = \"Minimum: \" + str(minimum) + \" Maximum: \" + str(maximum)\n",
    "    print(erg)\n",
    "    return erg"
   ]
  },
  {
   "cell_type": "code",
   "execution_count": null,
   "id": "94df515a",
   "metadata": {
    "deletable": false,
    "editable": false,
    "nbgrader": {
     "grade": true,
     "grade_id": "cell-806efb201458eefd",
     "locked": true,
     "points": 2,
     "schema_version": 3,
     "solution": false,
     "task": false
    }
   },
   "outputs": [],
   "source": [
    "\"\"\"Teste die Funktion minmax auf Gültigkeit.\"\"\"\n",
    "\n",
    "def myinput(inputs):\n",
    "    def foo(a):\n",
    "        print(a)\n",
    "        input.counter += 1\n",
    "        if input.counter > len(inputs) :\n",
    "            raise \"Nicht genügend inputs\"\n",
    "        else:\n",
    "            return inputs[input.counter-1]\n",
    "    foo.counter = 0\n",
    "    return foo\n",
    "\n",
    "from nose.tools import assert_equal\n",
    "\n",
    "input_old = input\n",
    "input = myinput(['2','4','1','done'])\n",
    "s1 = minmax()\n",
    "input = myinput(['2','4','test'])\n",
    "s2 = minmax()\n",
    "input = input_old\n",
    "\n",
    "assert \"Minimum: 1.0 Maximum: 4.0\" in s1, \"Die Ausgabe stimmt nicht\"\n",
    "assert \"Es werden nur Zahlen akzeptiert\" in s2, \"Die Fehlermeldung ist nicht korrekt\""
   ]
  },
  {
   "cell_type": "code",
   "execution_count": null,
   "id": "0aef8b0d",
   "metadata": {},
   "outputs": [],
   "source": []
  }
 ],
 "metadata": {
  "kernelspec": {
   "display_name": "Python 3",
   "language": "python",
   "name": "python3"
  },
  "language_info": {
   "codemirror_mode": {
    "name": "ipython",
    "version": 3
   },
   "file_extension": ".py",
   "mimetype": "text/x-python",
   "name": "python",
   "nbconvert_exporter": "python",
   "pygments_lexer": "ipython3",
   "version": "3.10.6"
  }
 },
 "nbformat": 4,
 "nbformat_minor": 5
}
