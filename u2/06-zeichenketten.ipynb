{
 "cells": [
  {
   "cell_type": "markdown",
   "id": "fca8970d",
   "metadata": {},
   "source": [
    "<figure>\n",
    "  <IMG SRC=\"https://upload.wikimedia.org/wikipedia/commons/thumb/d/d5/Fachhochschule_Südwestfalen_20xx_logo.svg/320px-Fachhochschule_Südwestfalen_20xx_logo.svg.png\" WIDTH=250 ALIGN=\"right\">\n",
    "</figure>\n",
    "\n",
    "# Programmierung für KI\n",
    "### Winterersemester 2022/23\n",
    "Prof. Dr. Heiner Giefers"
   ]
  },
  {
   "cell_type": "markdown",
   "id": "9de23ddd",
   "metadata": {
    "deletable": false,
    "editable": false,
    "nbgrader": {
     "grade": false,
     "grade_id": "cell-0f118b83881cf228",
     "locked": true,
     "schema_version": 3,
     "solution": false,
     "task": false
    }
   },
   "source": [
    "**Aufgabe 1: Schreiben Sie eine while-Schleife, die beim letzten Zeichen in der Zeichenkette beginnt und sich rückwärts bis zum ersten Zeichen in der Zeichenkette vorarbeitet, wobei jeder Buchstabe in einer eigenen Zeile ausgegeben wird, natürlich rückwärts.**"
   ]
  },
  {
   "cell_type": "code",
   "execution_count": null,
   "id": "0260c7b3",
   "metadata": {
    "deletable": false,
    "nbgrader": {
     "grade": false,
     "grade_id": "cell-9f6dc7ff3dbe0557",
     "locked": false,
     "schema_version": 3,
     "solution": true,
     "task": false
    }
   },
   "outputs": [],
   "source": [
    "def drucke_zeichen_rueckwaerts(zeichenkette):\n",
    "    # YOUR CODE HERE\n",
    "    raise NotImplementedError()"
   ]
  },
  {
   "cell_type": "code",
   "execution_count": null,
   "id": "fa925016",
   "metadata": {
    "deletable": false,
    "editable": false,
    "nbgrader": {
     "grade": false,
     "grade_id": "cell-f7694177772db48e",
     "locked": true,
     "schema_version": 3,
     "solution": false,
     "task": false
    }
   },
   "outputs": [],
   "source": [
    "%%capture cap --no-stderr --no-display\n",
    "drucke_zeichen_rueckwaerts(\"Hello\")"
   ]
  },
  {
   "cell_type": "code",
   "execution_count": null,
   "id": "4a9b68a9",
   "metadata": {
    "deletable": false,
    "editable": false,
    "nbgrader": {
     "grade": true,
     "grade_id": "cell-a2fe2825342aaa23",
     "locked": true,
     "points": 1,
     "schema_version": 3,
     "solution": false,
     "task": false
    }
   },
   "outputs": [],
   "source": [
    "\"\"\"Test der extrahiereZeichen Funktion\"\"\"\n",
    "from nose.tools import assert_equal\n",
    "assert_equal(str(cap), 'o\\nl\\nl\\ne\\nH\\n', \"Die Ausgabe stimmt nicht\")"
   ]
  },
  {
   "cell_type": "markdown",
   "id": "00aa4527",
   "metadata": {
    "deletable": false,
    "editable": false,
    "nbgrader": {
     "grade": false,
     "grade_id": "cell-2bdba9893ffa9aeb",
     "locked": true,
     "schema_version": 3,
     "solution": false,
     "task": false
    }
   },
   "source": [
    "**Aufgabe 2: Nehmen Sie den folgenden Python-Code, der eine Zeichenkette speichert:**\n",
    "\n",
    "**`str = 'X-DSPAM-Confidence:0.8475'`**\n",
    "\n",
    "**Verwenden Sie `find` und String-Slicing, um den Teil der Zeichenkette nach dem Doppelpunkt zu extrahieren, und verwenden Sie dann die Funktion `float`, um die extrahierte Teilzeichenkette in eine Fließkommazahl zu konvertieren.**"
   ]
  },
  {
   "cell_type": "code",
   "execution_count": null,
   "id": "518e343e",
   "metadata": {
    "deletable": false,
    "nbgrader": {
     "grade": false,
     "grade_id": "cell-997127479ac5692f",
     "locked": false,
     "schema_version": 3,
     "solution": true,
     "task": false
    }
   },
   "outputs": [],
   "source": [
    "def extrahiere_zeichen(zeichenkette):\n",
    "# YOUR CODE HERE\n",
    "raise NotImplementedError()"
   ]
  },
  {
   "cell_type": "code",
   "execution_count": null,
   "id": "9e1385c0",
   "metadata": {
    "deletable": false,
    "editable": false,
    "nbgrader": {
     "grade": true,
     "grade_id": "cell-a2390f7eb31779fa",
     "locked": true,
     "points": 1,
     "schema_version": 3,
     "solution": false,
     "task": false
    }
   },
   "outputs": [],
   "source": [
    "\"\"\"Test der extrahiereZeichen Funktion\"\"\"\n",
    "from nose.tools import assert_equal\n",
    "assert_equal(0.8475, extrahiere_zeichen(\"X-DSPAM-Confidence:0.8475\"))"
   ]
  },
  {
   "cell_type": "markdown",
   "id": "73044937",
   "metadata": {
    "deletable": false,
    "editable": false,
    "nbgrader": {
     "grade": false,
     "grade_id": "cell-4246f099a6b72b18",
     "locked": true,
     "schema_version": 3,
     "solution": false,
     "task": false
    }
   },
   "source": [
    "**Aufgabe 3: Schreiben Sie eine Funktion `count_vocals`, welche die Vokale in einem als Parameter übergebenen Text zählt und die Summe aller Vokale zurück gibt.**"
   ]
  },
  {
   "cell_type": "code",
   "execution_count": null,
   "id": "33fb4a6c",
   "metadata": {
    "deletable": false,
    "nbgrader": {
     "grade": false,
     "grade_id": "cell-6405df4aa3f9f2b7",
     "locked": false,
     "schema_version": 3,
     "solution": true,
     "task": false
    }
   },
   "outputs": [],
   "source": [
    "def count_vocals(text):\n",
    "# YOUR CODE HERE\n",
    "raise NotImplementedError()"
   ]
  },
  {
   "cell_type": "code",
   "execution_count": null,
   "id": "b9d9f71c",
   "metadata": {
    "deletable": false,
    "editable": false,
    "nbgrader": {
     "grade": true,
     "grade_id": "cell-8012e60ca6ad29a0",
     "locked": true,
     "points": 1,
     "schema_version": 3,
     "solution": false,
     "task": false
    }
   },
   "outputs": [],
   "source": [
    "\"\"\"Test der countVocals Funktion\"\"\"\n",
    "from nose.tools import assert_equal\n",
    "# Beispiel - Text Quelle: https://de.wikipedia.org/wiki/Vokal\n",
    "assert_equal(58, count_vocals(\"ein vokal oder selbstlaut ist ein sprachlaut, bei dessen artikulation der phonationsstrom weitgehend ungehindert durch den mund ausströmen kann. vokale sind im allgemeinen stimmhaft.\"))\n",
    "assert_equal(58, count_vocals(\"Ein Vokal oder Selbstlaut ist ein Sprachlaut, bei dessen Artikulation der Phonationsstrom weitgehend ungehindert durch den Mund ausströmen kann. Vokale sind im Allgemeinen stimmhaft.\"))"
   ]
  }
 ],
 "metadata": {
  "kernelspec": {
   "display_name": "Python 3",
   "language": "python",
   "name": "python3"
  },
  "language_info": {
   "codemirror_mode": {
    "name": "ipython",
    "version": 3
   },
   "file_extension": ".py",
   "mimetype": "text/x-python",
   "name": "python",
   "nbconvert_exporter": "python",
   "pygments_lexer": "ipython3",
   "version": "3.8.5"
  }
 },
 "nbformat": 4,
 "nbformat_minor": 5
}
