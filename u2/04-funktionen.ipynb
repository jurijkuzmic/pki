{
 "cells": [
  {
   "cell_type": "markdown",
   "id": "395eef4c",
   "metadata": {},
   "source": [
    "<figure>\n",
    "  <IMG SRC=\"https://upload.wikimedia.org/wikipedia/commons/thumb/d/d5/Fachhochschule_Südwestfalen_20xx_logo.svg/320px-Fachhochschule_Südwestfalen_20xx_logo.svg.png\" WIDTH=250 ALIGN=\"right\">\n",
    "</figure>\n",
    "\n",
    "# Programmierung für KI\n",
    "### Winterersemester 2022/23\n",
    "Prof. Dr. Heiner Giefers"
   ]
  },
  {
   "cell_type": "markdown",
   "id": "2e2b3500",
   "metadata": {},
   "source": [
    "**Übung 1: Was ist der Zweck des Schlüsselworts def in Python?**\n",
    "\n",
    "a) Es ist Slang und bedeutet „der folgende Code ist wirklich cool“ <br>\n",
    "b) Es zeigt den Beginn einer Funktion an <br>\n",
    "c) Es zeigt an, dass der folgende eingerückte Codeabschnitt für eine spätere Wiederverwendung abgelegt werden soll <br>\n",
    "d) b und c sind beide wahr <br>\n",
    "e) Keiner der oben genannten Punkte <br>\n",
    "\n",
    "Tragen Sie ihre Antwort in den return-Wert ein."
   ]
  },
  {
   "cell_type": "code",
   "execution_count": null,
   "id": "1a48c8b0",
   "metadata": {
    "deletable": false,
    "nbgrader": {
     "grade": false,
     "grade_id": "cell-6d1235dc06fffa57",
     "locked": false,
     "schema_version": 3,
     "solution": true,
     "task": false
    }
   },
   "outputs": [],
   "source": [
    "def answer1():\n",
    "    antwort = None\n",
    "    # YOUR CODE HERE\n",
    "    raise NotImplementedError()\n",
    "    return antwort"
   ]
  },
  {
   "cell_type": "code",
   "execution_count": null,
   "id": "873d1d35",
   "metadata": {
    "deletable": false,
    "editable": false,
    "nbgrader": {
     "grade": true,
     "grade_id": "cell-61aeff3d56ad49f3",
     "locked": true,
     "points": 1,
     "schema_version": 3,
     "solution": false,
     "task": false
    }
   },
   "outputs": [],
   "source": [
    "assert type(answer1())==str, \"Bitte setzen Sie antwort auf eine Zeichenkette 'a', 'b', 'c', 'd' oder 'e'\""
   ]
  },
  {
   "cell_type": "markdown",
   "id": "28b06aeb",
   "metadata": {},
   "source": [
    "**Übung 2: Was wird das folgende Python Programm ausgeben?**\n",
    "\n",
    "```python\n",
    "def fred():\n",
    "    print(\"Zap\")\n",
    "def jane():\n",
    "    print(\"ABC\")\n",
    "\n",
    "jane()\n",
    "fred()\n",
    "jane()\n",
    "```\n",
    "\n",
    "\n",
    "a) Zap ABC jane fred jane <br>\n",
    "b) Zap ABC Zap <br>\n",
    "c) ABC Zap jane <br>\n",
    "d) ABC Zap ABC <br>\n",
    "e) Zap Zap Zap <br>\n",
    "\n",
    "Tragen Sie ihre Antwort in den return-Wert ein."
   ]
  },
  {
   "cell_type": "code",
   "execution_count": null,
   "id": "2d85928c",
   "metadata": {
    "deletable": false,
    "nbgrader": {
     "grade": false,
     "grade_id": "cell-1ab8a61d271937a1",
     "locked": false,
     "schema_version": 3,
     "solution": true,
     "task": false
    }
   },
   "outputs": [],
   "source": [
    "def answer1():\n",
    "    antwort = None\n",
    "    # YOUR CODE HERE\n",
    "    raise NotImplementedError()\n",
    "    return antwort"
   ]
  },
  {
   "cell_type": "code",
   "execution_count": null,
   "id": "d587e575",
   "metadata": {
    "deletable": false,
    "editable": false,
    "nbgrader": {
     "grade": true,
     "grade_id": "cell-426cda653caad121",
     "locked": true,
     "points": 1,
     "schema_version": 3,
     "solution": false,
     "task": false
    }
   },
   "outputs": [],
   "source": [
    "from nose.tools import assert_equal\n",
    "assert_equal(type(answer1()), str, \"Bitte setzen Sie antwort auf eine Zeichenkette 'a', 'b', 'c', 'd' oder 'e'\")"
   ]
  },
  {
   "cell_type": "markdown",
   "id": "76a49037",
   "metadata": {
    "deletable": false,
    "editable": false,
    "nbgrader": {
     "grade": false,
     "grade_id": "cell-70fd84973bc5d9fb",
     "locked": true,
     "schema_version": 3,
     "solution": false,
     "task": false
    },
    "pycharm": {
     "name": "#%% md\n"
    }
   },
   "source": [
    "**Übung 3: Schreiben Sie ihr Programm zur Lohnberechnung aus Kapitel 3 so um, dass es als Funktion ausgeführt werden kann. Die Funktion soll \"lohnberechnung\" heißen, die Parameter `stundenlohn` und `arbeitsstunden` besitzen sowie den berechneten Gehaltswert zurück geben. Bei Übergabe einer nicht numerischen Eingabe, soll die Fehlermeldung `Fehler, bitte gib eine Zahl ein` zurückgegeben werden.**"
   ]
  },
  {
   "cell_type": "code",
   "execution_count": null,
   "id": "601a361c",
   "metadata": {
    "deletable": false,
    "nbgrader": {
     "grade": false,
     "grade_id": "cell-160086955c8b2f59",
     "locked": false,
     "schema_version": 3,
     "solution": true,
     "task": false
    }
   },
   "outputs": [],
   "source": [
    "def lohnberechnung(stundenlohn, arbeitsstunden):\n",
    "# YOUR CODE HERE\n",
    "raise NotImplementedError()"
   ]
  },
  {
   "cell_type": "code",
   "execution_count": null,
   "id": "b1bfe5a7",
   "metadata": {
    "deletable": false,
    "editable": false,
    "nbgrader": {
     "grade": true,
     "grade_id": "cell-79654f2541fc33a8",
     "locked": true,
     "points": 1,
     "schema_version": 3,
     "solution": false,
     "task": false
    }
   },
   "outputs": [],
   "source": [
    "\"\"\"Überprüft, dass die Funktion lohnberechnung korrekt funktioniert.\"\"\"\n",
    "from nose.tools import assert_almost_equal\n",
    "assert_almost_equal(lohnberechnung(10, 45), 475.0, \"Falsches Ergebnis\")\n",
    "assert_almost_equal(lohnberechnung(10, 15), 150.0, \"Falsches Ergebnis\")\n",
    "assert_equal(lohnberechnung(\"zehn\", 10), \"Fehler, bitte gib eine Zahl ein.\")\n",
    "assert_equal(lohnberechnung(10, \"zehn\"), \"Fehler, bitte gib eine Zahl ein.\")"
   ]
  },
  {
   "cell_type": "markdown",
   "id": "f9d227ac",
   "metadata": {},
   "source": [
    "**Übung 4:  Schreiben Sie das Benotungsprogramm aus Kapitel 3 neu, indem Sie eine Funktion namens `notenberechnung` implementieren, die eine Punktzahl als Parameter annimmt und eine Note zurückgibt. Falls die Eingabe keine Zahl ist, geben Sie `Bitte eine Zahl eingeben` als Ergebnis zurück und beenden damit die Funktion. Geben Sie die Fehlermeldung `Falsche Punktanzahl, bitte geben Sie die Punkte von 0.0 bis 1.0 ein` als Ergebnis der Funktion zurück, falls die eingegebene Zahl größer 1 und kleiner 0 ist.**"
   ]
  },
  {
   "cell_type": "code",
   "execution_count": null,
   "id": "7ff0f959",
   "metadata": {
    "deletable": false,
    "nbgrader": {
     "grade": false,
     "grade_id": "cell-968a8a9e7e209e84",
     "locked": false,
     "schema_version": 3,
     "solution": true,
     "task": false
    }
   },
   "outputs": [],
   "source": [
    "def notenberechnung(punktzahl):\n",
    "# YOUR CODE HERE\n",
    "raise NotImplementedError()"
   ]
  },
  {
   "cell_type": "code",
   "execution_count": null,
   "id": "9f60a84c",
   "metadata": {
    "deletable": false,
    "editable": false,
    "nbgrader": {
     "grade": true,
     "grade_id": "cell-a4b1592b04a632f4",
     "locked": true,
     "points": 1,
     "schema_version": 3,
     "solution": false,
     "task": false
    }
   },
   "outputs": [],
   "source": [
    "\"\"\"Überprüft, dass die Funktion notenberechnung korrekt funktioniert.\"\"\"\n",
    "from nose.tools import assert_equal\n",
    "assert_equal(notenberechnung(0.5), 5, \"Falsches Ergebnis\")\n",
    "assert_equal(notenberechnung(0.6), 4, \"Falsches Ergebnis\")\n",
    "assert_equal(notenberechnung(0.7), 3, \"Falsches Ergebnis\")\n",
    "assert_equal(notenberechnung(0.8), 2, \"Falsches Ergebnis\")\n",
    "assert_equal(notenberechnung(0.9), 1, \"Falsches Ergebnis\")\n",
    "assert_equal(notenberechnung(1.1), \"Falsche Punktanzahl, bitte geben Sie die Punkte von 0.0 bis 1.0 ein\")\n",
    "assert_equal(notenberechnung(-1.0), \"Falsche Punktanzahl, bitte geben Sie die Punkte von 0.0 bis 1.0 ein\")\n",
    "assert_equal(notenberechnung(\"eins\"), \"Bitte eine Zahl eingeben\")"
   ]
  }
 ],
 "metadata": {
  "kernelspec": {
   "display_name": "Python 3",
   "language": "python",
   "name": "python3"
  },
  "language_info": {
   "codemirror_mode": {
    "name": "ipython",
    "version": 3
   },
   "file_extension": ".py",
   "mimetype": "text/x-python",
   "name": "python",
   "nbconvert_exporter": "python",
   "pygments_lexer": "ipython3",
   "version": "3.8.5"
  }
 },
 "nbformat": 4,
 "nbformat_minor": 5
}
