{
 "cells": [
  {
   "cell_type": "markdown",
   "id": "d418c22e",
   "metadata": {},
   "source": [
    "<figure>\n",
    "  <IMG SRC=\"https://upload.wikimedia.org/wikipedia/commons/thumb/d/d5/Fachhochschule_Südwestfalen_20xx_logo.svg/320px-Fachhochschule_Südwestfalen_20xx_logo.svg.png\" WIDTH=250 ALIGN=\"right\">\n",
    "</figure>\n",
    "\n",
    "# Programmierung für KI\n",
    "### Winterersemester 2022/23\n",
    "Prof. Dr. Heiner Giefers"
   ]
  },
  {
   "cell_type": "markdown",
   "id": "8cdb030a",
   "metadata": {
    "deletable": false,
    "editable": false,
    "nbgrader": {
     "grade": false,
     "grade_id": "cell-3ed6e5d3b1b6226b",
     "locked": true,
     "schema_version": 3,
     "solution": false,
     "task": false
    }
   },
   "source": [
    "**Übung 1: Schreiben Sie eine Funktion `lese_datei`, die eine Datei einliest und den Inhalt der Datei in Großbuchstaben (Zeile für Zeile) ausgibt.**"
   ]
  },
  {
   "cell_type": "code",
   "execution_count": null,
   "id": "4543fb0b",
   "metadata": {
    "deletable": false,
    "nbgrader": {
     "grade": false,
     "grade_id": "cell-c1e55762bc63dc93",
     "locked": false,
     "schema_version": 3,
     "solution": true,
     "task": false
    }
   },
   "outputs": [],
   "source": [
    "def lese_datei(filename):\n",
    "    # YOUR CODE HERE\n",
    "    raise NotImplementedError()"
   ]
  },
  {
   "cell_type": "code",
   "execution_count": null,
   "id": "82e49198",
   "metadata": {
    "deletable": false,
    "editable": false,
    "nbgrader": {
     "grade": false,
     "grade_id": "cell-c6db2c5b0ebde7d6",
     "locked": true,
     "schema_version": 3,
     "solution": false,
     "task": false
    }
   },
   "outputs": [],
   "source": [
    "%%capture cap --no-stderr --no-display\n",
    "with open('myfile.txt', \"w\") as myfile:\n",
    "    myfile.write(\"Ein neuer\\nText.\\nEnde\")\n",
    "lese_datei(\"myfile.txt\")"
   ]
  },
  {
   "cell_type": "code",
   "execution_count": null,
   "id": "e837cdc9",
   "metadata": {
    "deletable": false,
    "editable": false,
    "nbgrader": {
     "grade": true,
     "grade_id": "cell-0aa5a4884c58af6f",
     "locked": true,
     "points": 1,
     "schema_version": 3,
     "solution": false,
     "task": false
    }
   },
   "outputs": [],
   "source": [
    "from nose.tools import assert_equal\n",
    "assert_equal('EIN NEUER\\n\\nTEXT.\\n\\nENDE\\n', str(cap))"
   ]
  },
  {
   "cell_type": "markdown",
   "id": "c458799d",
   "metadata": {
    "deletable": false,
    "editable": false,
    "nbgrader": {
     "grade": false,
     "grade_id": "cell-3af348690716d805",
     "locked": true,
     "schema_version": 3,
     "solution": false,
     "task": false
    }
   },
   "source": [
    "**Übung 2: Schreiben Sie eine Funktion `berechne_durchschnitt`, die eine Datei einliest und in der Datei nach Zeilen der Form \n",
    "`X-DSPAM-Confidence: 0.8475` sucht. Die Zahl kann sich dabei ändern, die anderen Zeichen nicht. Insbesondere muss die Zeile immer mit `X-DSPAM...` beginnen.<br>Extrahieren Sie die Fließkommerzahl indem Sie die Zeile auftrennen. Berechnen Sie die Summe der Fließkommerzahlen und geben Sie den durchschnittlichen Wert der Fließkommerzahl zurück.**"
   ]
  },
  {
   "cell_type": "code",
   "execution_count": null,
   "id": "f3f59377",
   "metadata": {
    "deletable": false,
    "nbgrader": {
     "grade": false,
     "grade_id": "cell-8e47dfd8aabc8a20",
     "locked": false,
     "schema_version": 3,
     "solution": true,
     "task": false
    }
   },
   "outputs": [],
   "source": [
    "def berechne_durchschnitt(filename):\n",
    "    # YOUR CODE HERE\n",
    "    raise NotImplementedError()"
   ]
  },
  {
   "cell_type": "code",
   "execution_count": null,
   "id": "0aefa940",
   "metadata": {
    "deletable": false,
    "editable": false,
    "nbgrader": {
     "grade": true,
     "grade_id": "cell-4ead248e87efeb5f",
     "locked": true,
     "points": 2,
     "schema_version": 3,
     "solution": false,
     "task": false
    }
   },
   "outputs": [],
   "source": [
    "from nose.tools import assert_almost_equal\n",
    "\n",
    "\n",
    "from urllib.request import urlopen\n",
    "import os.path\n",
    "\n",
    "fname = \"mbox-short.txt\"\n",
    "if not os.path.exists(fname):\n",
    "    url = \"https://raw.githubusercontent.com/fh-swf-hgi/py4e/master/code3/mbox-short.txt\"\n",
    "    with urlopen(url) as response:\n",
    "        content = response.read().decode('utf-8')\n",
    "        with open(fname, \"w\") as file:\n",
    "            file.write(content)\n",
    "\n",
    "\n",
    "\n",
    "# Durchschnittswert prüfen\n",
    "assert_almost_equal(0.7507185185185187, berechne_durchschnitt(fname))"
   ]
  }
 ],
 "metadata": {
  "kernelspec": {
   "display_name": "Python 3 (ipykernel)",
   "language": "python",
   "name": "python3"
  },
  "language_info": {
   "codemirror_mode": {
    "name": "ipython",
    "version": 3
   },
   "file_extension": ".py",
   "mimetype": "text/x-python",
   "name": "python",
   "nbconvert_exporter": "python",
   "pygments_lexer": "ipython3",
   "version": "3.10.8"
  },
  "varInspector": {
   "cols": {
    "lenName": 16,
    "lenType": 16,
    "lenVar": 40
   },
   "kernels_config": {
    "python": {
     "delete_cmd_postfix": "",
     "delete_cmd_prefix": "del ",
     "library": "var_list.py",
     "varRefreshCmd": "print(var_dic_list())"
    },
    "r": {
     "delete_cmd_postfix": ") ",
     "delete_cmd_prefix": "rm(",
     "library": "var_list.r",
     "varRefreshCmd": "cat(var_dic_list()) "
    }
   },
   "types_to_exclude": [
    "module",
    "function",
    "builtin_function_or_method",
    "instance",
    "_Feature"
   ],
   "window_display": false
  }
 },
 "nbformat": 4,
 "nbformat_minor": 5
}
