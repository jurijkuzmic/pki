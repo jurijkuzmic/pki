{
 "cells": [
  {
   "cell_type": "markdown",
   "id": "4e81eb17",
   "metadata": {},
   "source": [
    "<figure>\n",
    "  <IMG SRC=\"https://upload.wikimedia.org/wikipedia/commons/thumb/d/d5/Fachhochschule_Südwestfalen_20xx_logo.svg/320px-Fachhochschule_Südwestfalen_20xx_logo.svg.png\" WIDTH=250 ALIGN=\"right\">\n",
    "</figure>\n",
    "\n",
    "# Programmierung für KI\n",
    "### Winterersemester 2022/23\n",
    "Prof. Dr. Heiner Giefers"
   ]
  },
  {
   "cell_type": "markdown",
   "id": "3e08d283",
   "metadata": {},
   "source": [
    "**Übung 1: <br>\n",
    "Schreiben Sie eine Funktion, die als Parameter eine URL entgegennimmt. Rufen Sie anschließend Daten von der übergebenen URL ab und geben Sie den empfangenen Datensatz als String zurück. Orientieren Sie sich am unten stehenden Beispiel.**\n",
    "\n",
    "Beispiel<br>\n",
    "```python\n",
    "import socket\n",
    "mysock = socket.socket(socket.AF_INET, socket.SOCK_STREAM)\n",
    "mysock.connect(('data.pr4e.org', 80))\n",
    "cmd = 'GET http://data.pr4e.org/romeo.txt HTTP/1.0\\r\\n\\r\\n'.encode()\n",
    "mysock.send(cmd)\n",
    "while True:\n",
    "    data = mysock.recv(512)\n",
    "    if len(data) < 1:\n",
    "        break\n",
    "    print(data.decode(),end='')\n",
    "mysock.close()\n",
    "```"
   ]
  },
  {
   "cell_type": "code",
   "execution_count": null,
   "id": "6233f95d",
   "metadata": {
    "deletable": false,
    "nbgrader": {
     "grade": false,
     "grade_id": "cell-7c8f4706512340d2",
     "locked": false,
     "schema_version": 3,
     "solution": true,
     "task": false
    }
   },
   "outputs": [],
   "source": [
    "import socket\n",
    "\n",
    "def load(url):\n",
    "    # YOUR CODE HERE\n",
    "    raise NotImplementedError()"
   ]
  },
  {
   "cell_type": "code",
   "execution_count": null,
   "id": "8ad0839b",
   "metadata": {
    "deletable": false,
    "editable": false,
    "nbgrader": {
     "grade": true,
     "grade_id": "cell-aacbfc56c9fc717b",
     "locked": true,
     "points": 1,
     "schema_version": 3,
     "solution": false,
     "task": false
    }
   },
   "outputs": [],
   "source": [
    "# Test Zelle\n",
    "\n",
    "from nose.tools import assert_true\n",
    "assert_true(\"Arise fair sun and kill the envious moon\"\\\n",
    "            in load(\"http://data.pr4e.org/romeo.txt\"), \"Der Datensatz ist falsch\")"
   ]
  },
  {
   "cell_type": "markdown",
   "id": "9871fc8c",
   "metadata": {},
   "source": [
    "**Übung 2: <br>\n",
    "Schreiben Sie die gleiche Funktion mit der `urllib`. Zählen Sie anschließend die Anzahl der empfangenen Zeichen und geben Sie den Ausdruck `Datensatz zu gross` zurück, wenn mehr als 3000 Zeichen gesendet wurden. Ansonsten geben Sie den Datensatz als String zurück.**"
   ]
  },
  {
   "cell_type": "code",
   "execution_count": null,
   "id": "c60c5cb7",
   "metadata": {
    "deletable": false,
    "nbgrader": {
     "grade": false,
     "grade_id": "cell-1a63af6eaac0d437",
     "locked": false,
     "schema_version": 3,
     "solution": true,
     "task": false
    }
   },
   "outputs": [],
   "source": [
    "import urllib\n",
    "\n",
    "def load_urllib(url):\n",
    "    # YOUR CODE HERE\n",
    "    raise NotImplementedError()"
   ]
  },
  {
   "cell_type": "code",
   "execution_count": null,
   "id": "b3990068",
   "metadata": {
    "deletable": false,
    "editable": false,
    "nbgrader": {
     "grade": true,
     "grade_id": "cell-292ab3036a1dcee2",
     "locked": true,
     "points": 1,
     "schema_version": 3,
     "solution": false,
     "task": false
    }
   },
   "outputs": [],
   "source": [
    "# Test Zelle\n",
    "\n",
    "from nose.tools import assert_equal, assert_true\n",
    "\n",
    "assert_true('But soft what light through yonder window'\n",
    "            in load_urllib(\"http://data.pr4e.org/romeo.txt\"), \"Der Datensatz ist falsch\")\n",
    "assert_equal(\"Datensatz zu gross\", \n",
    "             load_urllib(\"https://raw.githubusercontent.com/mbh038/UM_PEP/master/code/mbox-short.txt\"), \n",
    "             \"Der Fehler wurde nicht korrekt behandelt\")"
   ]
  },
  {
   "cell_type": "markdown",
   "id": "198ca716",
   "metadata": {},
   "source": [
    "**Übung 3: <br>\n",
    "Schreiben Sie eine Funktion, die als Parameter eine URL entgegennimmt. Rufen Sie anschließend Daten von der übergebenen URL ab und zählen Sie die Anzahl der Paragraph-Tags (`<p>`).**\n",
    "\n",
    "**Hinweis:** Orientieren Sie sich am unten stehenden Beispiel, in dem die Anker-Tags (`<a>`) geparst werden.\n",
    "\n",
    "```python\n",
    "import urllib.request, urllib.parse, urllib.error\n",
    "import ssl\n",
    "from bs4 import BeautifulSoup\n",
    "\n",
    "# Ignore SSL certificate errors\n",
    "ctx = ssl.create_default_context()\n",
    "ctx.check_hostname = False\n",
    "ctx.verify_mode = ssl.CERT_NONE\n",
    "html = urllib.request.urlopen(\"https://de.wikipedia.org\", context=ctx).read()\n",
    "soup = BeautifulSoup(html, 'html.parser')\n",
    "\n",
    "# Retrieve all of the anchor tags\n",
    "tags = soup('a')\n",
    "for tag in tags:\n",
    "    print(tag.get('href', None))\n",
    "```"
   ]
  },
  {
   "cell_type": "code",
   "execution_count": null,
   "id": "cc702fc3",
   "metadata": {
    "deletable": false,
    "nbgrader": {
     "grade": false,
     "grade_id": "cell-b6b4ce099b708560",
     "locked": false,
     "schema_version": 3,
     "solution": true,
     "task": false
    }
   },
   "outputs": [],
   "source": [
    "import urllib.request, urllib.parse, urllib.error\n",
    "from bs4 import BeautifulSoup\n",
    "import ssl\n",
    "\n",
    "def count_para(url):\n",
    "    # YOUR CODE HERE\n",
    "    raise NotImplementedError()"
   ]
  },
  {
   "cell_type": "code",
   "execution_count": null,
   "id": "a12b504c",
   "metadata": {
    "deletable": false,
    "editable": false,
    "nbgrader": {
     "grade": true,
     "grade_id": "cell-e89a2ac2d486f23b",
     "locked": true,
     "points": 1,
     "schema_version": 3,
     "solution": false,
     "task": false
    }
   },
   "outputs": [],
   "source": [
    "# Test Zelle\n",
    "from nose.tools import assert_equal\n",
    "\n",
    "assert_equal(2, count_para(\"https://example.com\"), \"Die Anzahl der Tags stimmt nicht.\")"
   ]
  }
 ],
 "metadata": {
  "kernelspec": {
   "display_name": "Python 3",
   "language": "python",
   "name": "python3"
  },
  "language_info": {
   "codemirror_mode": {
    "name": "ipython",
    "version": 3
   },
   "file_extension": ".py",
   "mimetype": "text/x-python",
   "name": "python",
   "nbconvert_exporter": "python",
   "pygments_lexer": "ipython3",
   "version": "3.8.5"
  }
 },
 "nbformat": 4,
 "nbformat_minor": 5
}
