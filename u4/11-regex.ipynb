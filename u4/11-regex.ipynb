{
 "cells": [
  {
   "cell_type": "markdown",
   "id": "5589d4cc",
   "metadata": {},
   "source": [
    "<figure>\n",
    "  <IMG SRC=\"https://upload.wikimedia.org/wikipedia/commons/thumb/d/d5/Fachhochschule_Südwestfalen_20xx_logo.svg/320px-Fachhochschule_Südwestfalen_20xx_logo.svg.png\" WIDTH=250 ALIGN=\"right\">\n",
    "</figure>\n",
    "\n",
    "# Programmierung für KI\n",
    "### Winterersemester 2022/23\n",
    "Prof. Dr. Heiner Giefers"
   ]
  },
  {
   "cell_type": "markdown",
   "id": "ad13ba48",
   "metadata": {},
   "source": [
    "**Übung 1 <br>\n",
    "Es soll ein einfaches Programm geschrieben werden, das die Funktionsweise des Befehls `grep` unter Unix simuliert. Der Benutzer soll aufgefordert werden, einen regulären Ausdruck einzugeben, mit dem dann die Anzahl der Zeilen in einer Datei (Parameter `filename`) gezählt wird, die mit dem regulären Ausdruck übereinstimmen:** \n",
    "\n",
    "*$ python grep.py<br>\n",
    "Gib eine RegEx an: ^Author <br>\n",
    "mbox.txt hat 1798 Zeilen die auf den Ausdruck \"^Author\" passen*\n",
    "\n",
    "**Geben Sie die Anzahl der gezählten Zeilen zurück.**"
   ]
  },
  {
   "cell_type": "code",
   "execution_count": null,
   "id": "bdbc8737",
   "metadata": {
    "deletable": false,
    "nbgrader": {
     "grade": false,
     "grade_id": "cell-5589f54f815efd9c",
     "locked": false,
     "schema_version": 3,
     "solution": true,
     "task": false
    }
   },
   "outputs": [],
   "source": [
    "import re\n",
    "def grep_simulation(filename):\n",
    "    \n",
    "    # YOUR CODE HERE\n",
    "    raise NotImplementedError()"
   ]
  },
  {
   "cell_type": "code",
   "execution_count": null,
   "id": "85a39642",
   "metadata": {
    "deletable": false,
    "editable": false,
    "nbgrader": {
     "grade": true,
     "grade_id": "cell-d51d5d317e82c222",
     "locked": true,
     "points": 1,
     "schema_version": 3,
     "solution": false,
     "task": false
    }
   },
   "outputs": [],
   "source": [
    "\"\"\"grep_simulation Tests\"\"\"\n",
    "from nose.tools import assert_equal\n",
    "\n",
    "def myinput(inputs):\n",
    "    def foo(a):\n",
    "        print(a)\n",
    "        input.counter += 1\n",
    "        if input.counter > len(inputs) :\n",
    "            raise \"Nicht genügend inputs\"\n",
    "        else:\n",
    "            return inputs[input.counter-1]\n",
    "    foo.counter = 0\n",
    "    return foo\n",
    "\n",
    "from nose.tools import assert_equal\n",
    "\n",
    "fname = \"files/mbox-short.mbox\"\n",
    "\n",
    "input_old = input\n",
    "input = myinput([\"^Author\"])\n",
    "r1 = grep_simulation(fname)\n",
    "input = myinput([\"^X-\"])\n",
    "r2 = grep_simulation(fname)\n",
    "input = input_old\n",
    "\n",
    "assert 27 == r1, \"Der Regex wurde nicht korrekt ausgewertet\"\n",
    "assert 216 == r2, \"Der Regex wurde nicht korrekt ausgewertet\"\n",
    "\n"
   ]
  },
  {
   "cell_type": "markdown",
   "id": "ba62c634",
   "metadata": {},
   "source": [
    "**Übung 2 <br>\n",
    "Es soll ein Programm geschrieben werden, das nach Zeilen der folgenden Form sucht:**\n",
    "\n",
    "`New Revision: 39772`\n",
    "\n",
    "**Die Zahl soll aus jeder der Zeilen mit einem regulären Ausdruck und der Methode `findall()` extrahiert werden. Es soll dann der Durchschnitt der Zahlen berechnet und als Ganzzahl zurückgegeben werden.**\n"
   ]
  },
  {
   "cell_type": "code",
   "execution_count": null,
   "id": "894cb1d4",
   "metadata": {
    "deletable": false,
    "nbgrader": {
     "grade": false,
     "grade_id": "cell-39c2a2a83e599bad",
     "locked": false,
     "schema_version": 3,
     "solution": true,
     "task": false
    }
   },
   "outputs": [],
   "source": [
    "import re\n",
    "def find_by_regex(filename):\n",
    "    # YOUR CODE HERE\n",
    "    raise NotImplementedError()"
   ]
  },
  {
   "cell_type": "code",
   "execution_count": null,
   "id": "f2ed6b94",
   "metadata": {
    "deletable": false,
    "editable": false,
    "nbgrader": {
     "grade": true,
     "grade_id": "cell-1fc4221d62a6df92",
     "locked": true,
     "points": 1,
     "schema_version": 3,
     "solution": false,
     "task": false
    }
   },
   "outputs": [],
   "source": [
    "\"\"\"find_by_regex tests\"\"\"\n",
    "from nose.tools import assert_equal\n",
    "\n",
    "fname = \"files/mbox-short.mbox\"\n",
    "res = find_by_regex(fname)\n",
    "assert type(res) == int, \"Die Funktion soll ein int-Objekt zurückliefern\"\n",
    "assert_equal(39756, res)"
   ]
  }
 ],
 "metadata": {
  "kernelspec": {
   "display_name": "Python 3",
   "language": "python",
   "name": "python3"
  },
  "language_info": {
   "codemirror_mode": {
    "name": "ipython",
    "version": 3
   },
   "file_extension": ".py",
   "mimetype": "text/x-python",
   "name": "python",
   "nbconvert_exporter": "python",
   "pygments_lexer": "ipython3",
   "version": "3.8.5"
  }
 },
 "nbformat": 4,
 "nbformat_minor": 5
}
