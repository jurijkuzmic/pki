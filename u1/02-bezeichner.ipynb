{
 "cells": [
  {
   "cell_type": "markdown",
   "id": "55e11b46",
   "metadata": {},
   "source": [
    "<figure>\n",
    "  <IMG SRC=\"https://upload.wikimedia.org/wikipedia/commons/thumb/d/d5/Fachhochschule_Südwestfalen_20xx_logo.svg/320px-Fachhochschule_Südwestfalen_20xx_logo.svg.png\" WIDTH=250 ALIGN=\"right\">\n",
    "</figure>\n",
    "\n",
    "# Programmierung für KI\n",
    "### Winterersemester 2022/23\n",
    "Prof. Dr. Heiner Giefers"
   ]
  },
  {
   "cell_type": "markdown",
   "metadata": {},
   "source": [
    "**Übung 1: Führen Sie die folgenden Python-Ausdrücke aus, um zu sehen, was sie bewirken:**\n"
   ]
  },
  {
   "cell_type": "code",
   "execution_count": null,
   "metadata": {},
   "outputs": [],
   "source": [
    "5"
   ]
  },
  {
   "cell_type": "code",
   "execution_count": null,
   "metadata": {},
   "outputs": [],
   "source": [
    "x = 5"
   ]
  },
  {
   "cell_type": "code",
   "execution_count": null,
   "metadata": {},
   "outputs": [],
   "source": [
    "x + 1"
   ]
  },
  {
   "cell_type": "markdown",
   "metadata": {},
   "source": [
    "**Übung 2: Schreiben Sie ein Programm, das mit `input` einen Benutzer zur Eingabe seines Namens auffordert und ihn dann begrüßt. Der Name soll unter dem Bezeichner `name` gespeichert werden.**\n",
    "\n",
    "\n",
    "    Gib deinen Namen ein: Heiner\n",
    "    Hallo Heiner"
   ]
  },
  {
   "cell_type": "code",
   "execution_count": null,
   "metadata": {
    "deletable": false,
    "nbgrader": {
     "grade": false,
     "grade_id": "cell-59651d8333ced2e5",
     "locked": false,
     "schema_version": 3,
     "solution": true,
     "task": false
    }
   },
   "outputs": [],
   "source": [
    "name = None\n",
    "# YOUR CODE HERE\n",
    "raise NotImplementedError()"
   ]
  },
  {
   "cell_type": "code",
   "execution_count": null,
   "metadata": {
    "deletable": false,
    "editable": false,
    "nbgrader": {
     "grade": false,
     "grade_id": "cell-ce7113eb50b50519",
     "locked": true,
     "schema_version": 3,
     "solution": false,
     "task": false
    }
   },
   "outputs": [],
   "source": [
    "c = _i\n",
    "input_old = input\n",
    "\n",
    "def input(a):\n",
    "    print(a)\n",
    "    return \"Test\"\n",
    "\n",
    "exec(c)\n",
    "input = input_old"
   ]
  },
  {
   "cell_type": "code",
   "execution_count": null,
   "metadata": {
    "deletable": false,
    "editable": false,
    "nbgrader": {
     "grade": true,
     "grade_id": "cell-e7ee37613ad722a7",
     "locked": true,
     "points": 1,
     "schema_version": 3,
     "solution": false,
     "task": false
    }
   },
   "outputs": [],
   "source": [
    "assert type(name) == str, \"Aufg. 2: Verwenden Sie die Variable name\""
   ]
  },
  {
   "cell_type": "markdown",
   "metadata": {},
   "source": [
    "**Übung 3: Schreiben Sie ein Programm, das den Benutzer nach Arbeitsstunden und Stundensatz fragt, um den Bruttolohn zu berechnen.**\n",
    "\n",
    "~~~~\n",
    "Gib die Arbeitsstunden an: 35\n",
    "Gib den Stundensatz an: 2.75\n",
    "Zahlung: 96.25\n",
    "~~~~"
   ]
  },
  {
   "cell_type": "code",
   "execution_count": null,
   "metadata": {
    "deletable": false,
    "nbgrader": {
     "grade": false,
     "grade_id": "cell-5f117b04032cc022",
     "locked": false,
     "schema_version": 3,
     "solution": true,
     "task": false
    }
   },
   "outputs": [],
   "source": [
    "# YOUR CODE HERE\n",
    "raise NotImplementedError()"
   ]
  },
  {
   "cell_type": "code",
   "execution_count": null,
   "metadata": {
    "deletable": false,
    "editable": false,
    "nbgrader": {
     "grade": false,
     "grade_id": "cell-9b47e36376799418",
     "locked": true,
     "schema_version": 3,
     "solution": false,
     "task": false
    }
   },
   "outputs": [],
   "source": [
    "%%capture cap --no-stderr --no-display\n",
    "c = _i\n",
    "input_old = input\n",
    "\n",
    "def input(a):\n",
    "    print(a)\n",
    "    input.counter += 1\n",
    "    if (input.counter == 1) :\n",
    "        return \"40\"\n",
    "    elif (input.counter == 2) :\n",
    "        return \"12\"\n",
    "    else:\n",
    "        raise\n",
    "\n",
    "input.counter = 0\n",
    "\n",
    "exec(c)\n",
    "input = input_old"
   ]
  },
  {
   "cell_type": "code",
   "execution_count": null,
   "metadata": {
    "deletable": false,
    "editable": false,
    "nbgrader": {
     "grade": true,
     "grade_id": "cell-b2b3362a4e701fcd",
     "locked": true,
     "points": 1,
     "schema_version": 3,
     "solution": false,
     "task": false
    }
   },
   "outputs": [],
   "source": [
    "assert 'input' in c, \"Aufg. 3: Verwenden Sie die input Funktion\"\n",
    "assert '480' in cap.stdout, \"Aufg. 3: Die Berechnung stimmt nicht\""
   ]
  },
  {
   "cell_type": "markdown",
   "metadata": {},
   "source": [
    "**Übung 4: Angenommen, wir führen die folgenden Zuweisungen aus:**\n",
    "\n",
    "```python\n",
    "breite = 17\n",
    "hoehe = 12.0\n",
    "```\n",
    "\n",
    "Schreiben Sie für jeden der folgenden Ausdrücke den Wert des Ausdrucks und den Datentyp (des Wertes des Ausdrucks).\n",
    "\n",
    "1.  `breite//2`\n",
    "\n",
    "2.  `breite/2.0`\n",
    "\n",
    "3.  `hoehe/3`\n",
    "\n",
    "4.  `1 + 2 * 5`"
   ]
  },
  {
   "cell_type": "code",
   "execution_count": null,
   "metadata": {},
   "outputs": [],
   "source": [
    "# Nutzen Sie diese Zelle zum Testen Ihrer Ergebnisse"
   ]
  },
  {
   "cell_type": "markdown",
   "metadata": {},
   "source": [
    "**Übung 5: Schreiben Sie ein Programm, das den Benutzer zur Eingabe einer Celsius-Temperatur auffordert, die Temperatur in Fahrenheit konvertiert und die konvertierte Temperatur ausgibt.**\n",
    "\n",
    "**Die Umrechnung von Celsius zu Fahrenheit lautet: °F = °C * 1,8 + 32**\n",
    "\n",
    "    Gib die Temperatur in Celsius ein: 37\n",
    "    Fahrenheit in 98.6\n"
   ]
  },
  {
   "cell_type": "code",
   "execution_count": null,
   "metadata": {
    "deletable": false,
    "nbgrader": {
     "grade": false,
     "grade_id": "cell-31dd2bd8f019cbfb",
     "locked": false,
     "schema_version": 3,
     "solution": true,
     "task": false
    }
   },
   "outputs": [],
   "source": [
    "celsius = None\n",
    "fahrenheit = None\n",
    "# YOUR CODE HERE\n",
    "raise NotImplementedError()\n",
    "print(\"Fahrenheit:\", fahrenheit)"
   ]
  },
  {
   "cell_type": "code",
   "execution_count": null,
   "metadata": {
    "deletable": false,
    "editable": false,
    "nbgrader": {
     "grade": false,
     "grade_id": "cell-d1425b32420a94ae",
     "locked": true,
     "schema_version": 3,
     "solution": false,
     "task": false
    }
   },
   "outputs": [],
   "source": [
    "%%capture cap --no-stderr --no-display\n",
    "c = _i\n",
    "input_old = input\n",
    "\n",
    "def input(a):\n",
    "    print(a)\n",
    "    return \"37\"\n",
    "\n",
    "exec(c)\n",
    "input = input_old"
   ]
  },
  {
   "cell_type": "code",
   "execution_count": null,
   "metadata": {
    "deletable": false,
    "editable": false,
    "nbgrader": {
     "grade": true,
     "grade_id": "cell-e1856df3b60d13a0",
     "locked": true,
     "points": 1,
     "schema_version": 3,
     "solution": false,
     "task": false
    }
   },
   "outputs": [],
   "source": [
    "assert 'input' in c, \"Aufg. 5: Verwenden Sie die input Funktion\"\n",
    "assert 'Fahrenheit: 98.60' in cap.stdout, \"Aufg. 5: Die Berechnung stimmt nicht\"\n",
    "assert cap.stdout.count('Fahrenheit') == 1, \"Aufg. 5: Die Ausgabe stimmt nicht\""
   ]
  }
 ],
 "metadata": {
  "kernelspec": {
   "display_name": "Python 3",
   "language": "python",
   "name": "python3"
  },
  "language_info": {
   "codemirror_mode": {
    "name": "ipython",
    "version": 3
   },
   "file_extension": ".py",
   "mimetype": "text/x-python",
   "name": "python",
   "nbconvert_exporter": "python",
   "pygments_lexer": "ipython3",
   "version": "3.6.13"
  }
 },
 "nbformat": 4,
 "nbformat_minor": 4
}
