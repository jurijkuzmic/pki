{
 "cells": [
  {
   "cell_type": "markdown",
   "metadata": {},
   "source": [
    "<figure>\n",
    "  <IMG SRC=\"https://upload.wikimedia.org/wikipedia/commons/thumb/d/d5/Fachhochschule_Südwestfalen_20xx_logo.svg/320px-Fachhochschule_Südwestfalen_20xx_logo.svg.png\" WIDTH=250 ALIGN=\"right\">\n",
    "</figure>\n",
    "\n",
    "# Programmierung für KI\n",
    "### Winterersemester 2022/23\n",
    "Prof. Dr. Heiner Giefers"
   ]
  },
  {
   "cell_type": "markdown",
   "metadata": {},
   "source": [
    "# Was sind Jupyter Notebooks?\n",
    "\n",
    "Wir werden in diesem Kurs für die Programmierung mit Python häufig Jupyter Notebooks einsetzen.\n",
    "In diesem Dokument, dass übrigens selbst ein Jupyter Notebook ist, wollen wir Ihnen das Konzept von Notebooks etwas näher bringen.\n",
    "\n",
    "Jupyter Notebook ist auf gewisse Weise eine *neue Art zu Programmieren*. Dabei ist die Idee gar nicht neu, sondern wurde bereits in den 1970er Jahren von dem berühmten Informatiker [Donald Knuth](https://de.wikipedia.org/wiki/Donald_E._Knuth) als [*Literate Programming*](https://de.wikipedia.org/wiki/Literate_programming) beschrieben. Beim Literate Programming geht es darum, Computerprogramme so zu schreiben, dass Sie für Menschen gut verständlich sind. Der überwiegende Teil des \"Programms\" ist in natürlicher Sprache verfasst. Dieser Text wird mit eingestreutem Quellcode ergänzt, der schließliche zur Ausführung auf der CPU kommt.\n",
    "\n",
    "*Notebooks* verfolgen genau dieses Konzept. Es gibt Freitext-Zellen, so wie diese hier, in denen formatierter Text, Formeln, Grafiken und Animationen vorkommen können. Der echte Python-Quellcode steht dann in Code-Zellen, die direkt *im Dokument* ausgeführt werden können. Wenn eine Code-Zelle eine Ausgabe produziert, erscheint dies nach der Ausführung ebenfalls im Notebook. Und eine Ausgabe kann nicht nur Text sein, wir werden sehen, dass wir auch Grafiken oder interaktive Elemente erzeugen können.\n",
    "\n",
    "[*Jupyter Notebook*](https://jupyter.org/index.html) ist eine interaktive Entwicklungsumgebung zum Bearbeiten und zum Ausführen von Notebooks.\n",
    "Über den Moodle-Kurs stellen wir Ihnen eine Jupyter Umgebung bereit. Dort können Sie Programmieraufgaben bearbeiten und Ihre Lösungen einreichen.\n",
    "Wir empfehlen Ihnen aber sehr, sich auch eine eigne Installation von Jupyter auf Ihrem Notebook oder PC einzurichten.\n",
    "Wenn Sie Python schon installiert haben, ist die Installation von Jupyter in wenigen Schritten zu erledigen. Details finden Sie [hier](https://jupyter.org/install.html).\n",
    "Am einfachsten ist es, wenn Sie die Anaconda Distribution verwenden, denn dort wird Jupyter standardmäßig mitgeliefert. Über den *Anaconda Navigator* sollten Sie *Jupyter Notebook* sowie die etwas modernere Variante *JupyterLab* direkt aufrufen können.\n",
    "Die Notebook Dokumente (mit der Dateiendung *.ipynb*)lassen sich in beiden Umgebungen verwenden:\n",
    "![](https://github.com/fhswf/pki/raw/main/images/anaconda_navigator.png)\n",
    " \n",
    "Jupyter hat sich als Open-Source-Werkzeug in vielen Bereichen durchgesetzt. Vor allem in der Datenanlyse, dem wissenschftlichen Rechnen und beim Maschinellen Lernen, werden Jupyter Notebooks sehr verbreitet eingesetzt.\n",
    "Der Name Jupyter ist eine Anspielung auf die drei vom Projekt unterstützten Kernsprachen (**Ju**lia, **Pyt**hon und **R**), aber es gibt Kernel, die Jupyter mit Dutzenden von Sprachen kompatibel machen, darunter Ruby, PHP, Javascript, SQL und Node.js. "
   ]
  },
  {
   "cell_type": "markdown",
   "metadata": {},
   "source": [
    "In den Notebooks zum Kurs werden wir Ihnen Erklärungen, Beispiele und Aufgaben zusammenstellen.\n",
    "Die Erläuterungen ind den Text-Zellen sind in [Markdown](https://www.markdownguide.org/basic-syntax/) verfasst.\n",
    "Markdown ist eine spezielle Formatierungssprache, die es ermöglicht, formatierten Text anzuzeigen (z. B. Fettdruck, Aufzählungspunkte, Überschriften, etc.).\n",
    "Markdown hat zwei Ansichten - lesen und bearbeiten. Standardmäßig sollte Jupyter den Lesemodus anzeigen. Wenn Sie jedoch auf eine Markdown-Zelle doppelklicken, wechseln Sie in den Bearbeitungsmodus. Um wieder in den Ansichtsmodus zu wechseln, klicken Sie einfach auf die Zelle und drücken Sie gleichzeitig die Umschalt- und Eingabetaste. Versuchen Sie, mit einem Doppelklick auf diese Zelle in den Bearbeitungsmodus zu wechseln, und drücken Sie im Menü oben den Button <kbd>► Run</kbd> oder, wenn Sie mit dem Coursor in der Markdown Zelle sind, die Tasten <kbd>Ctrl</kbd> + <kbd>Enter</kbd>.\n",
    "\n"
   ]
  },
  {
   "cell_type": "markdown",
   "metadata": {},
   "source": [
    "Beispiele werden in Code-Zellen zu finden sein, Sie können Sie direkt, mit den gleichen Tasten wie oben ausführen. Sie können (und sollten) die Code-Beispiele auch gerne verändern und beobachten, wie sich das Programm dann verhält. Erfahrungsgemäß lernen Sie mit diesen \"Experimenten\" deutlich mehr, als wenn Sie die Beispiele nur \"lesen\".\n",
    "\n",
    "Probieren Sie doch gleich mal aus, die folgende Code-Zelle auszuführen. Wenn das funktioniert hat, ändern Sie den Code und führen Sie erneut aus. *Was ändert sich?*"
   ]
  },
  {
   "cell_type": "code",
   "execution_count": null,
   "metadata": {},
   "outputs": [],
   "source": [
    "print(\"Hallo Python!\")"
   ]
  },
  {
   "cell_type": "markdown",
   "metadata": {},
   "source": [
    "In den Notebooks werden wir Ihnen auch Aufgaben stellen. Hier müssen Sie geeigneten Quellcode ergänzen.\n",
    "Sie werden and den Stellen, wo Sie Ihre Lösungen eintragen sollen, immer folgende Code Zeilen sehen:\n",
    "```python\n",
    "# YOUR CODE HERE\n",
    "raise NotImplementedError()\n",
    "```\n",
    "\n",
    "Wenn Sie diese Zellen ungeändert ausführen, wird die `raise` Anweisung in jedem Fall zu einem Fehler führen. Ersetzen Sie also mindestens diese Zeile mit Ihrer Lösung.\n",
    "\n",
    "Die Zellen nach einer Aufgabe zum zum Testen der Lösung. Sie können die Zellen nicht ändern und selbst wenn, würde Jupyter zur Auswertung Ihrer Abgaben die ursprünglichen Tests wieder einfügen. Die Tests lassen sich aber mehrfach ausführen, Sie können Ihre Lösung also beliebig oft prüfen. Gehen Sie dabei bitte immer so vor, dass Sie die Zellen für die Aufgabe und die Tests immer in der richtigen Reihenfolge (also von oben nach unten) durchlaufen.\n",
    "\n",
    "Den Code in den Test-Zellen müssen Sie nicht unbedingt verstehen. Sie können sich aber merken, dass `assert` eine Bedingung überprüft. Stimmt die Bedingung passiert gar nichts. Stimmt die Bedingung nicht, erzeugt `assert` einen Fehler."
   ]
  },
  {
   "cell_type": "markdown",
   "metadata": {
    "cell_style": "center"
   },
   "source": [
    "**Aufgabe 1: Setzen Sie eine Variable `a` auf den Wert `5`. Geben Sie dann den Wert von `a` aus. Die Ausgabe soll `a ist 5` lauten.**"
   ]
  },
  {
   "cell_type": "code",
   "execution_count": null,
   "metadata": {
    "deletable": false,
    "nbgrader": {
     "grade": false,
     "grade_id": "cell-9f70242444250249",
     "locked": false,
     "schema_version": 3,
     "solution": true,
     "task": false
    }
   },
   "outputs": [],
   "source": [
    "# YOUR CODE HERE\n",
    "raise NotImplementedError()"
   ]
  },
  {
   "cell_type": "code",
   "execution_count": null,
   "metadata": {
    "deletable": false,
    "editable": false,
    "nbgrader": {
     "grade": false,
     "grade_id": "cell-91535c9417e4a1ad",
     "locked": true,
     "schema_version": 3,
     "solution": false,
     "task": false
    }
   },
   "outputs": [],
   "source": [
    "%%capture cap --no-stderr --no-display\n",
    "c = _i\n",
    "exec(c)"
   ]
  },
  {
   "cell_type": "code",
   "execution_count": null,
   "metadata": {
    "deletable": false,
    "editable": false,
    "nbgrader": {
     "grade": true,
     "grade_id": "cell-f5763a89e34ef078",
     "locked": true,
     "points": 1,
     "schema_version": 3,
     "solution": false,
     "task": false
    }
   },
   "outputs": [],
   "source": [
    "assert a == 5, \"a soll auf den Wert 5 gesetzt werden\"\n",
    "assert \"a ist 5\" in cap.stdout, f\"Die Ausgabe {cap.stdout} ist nicht korrekt\""
   ]
  }
 ],
 "metadata": {
  "kernelspec": {
   "display_name": "Python 3",
   "language": "python",
   "name": "python3"
  },
  "language_info": {
   "codemirror_mode": {
    "name": "ipython",
    "version": 3
   },
   "file_extension": ".py",
   "mimetype": "text/x-python",
   "name": "python",
   "nbconvert_exporter": "python",
   "pygments_lexer": "ipython3",
   "version": "3.6.13"
  }
 },
 "nbformat": 4,
 "nbformat_minor": 4
}
