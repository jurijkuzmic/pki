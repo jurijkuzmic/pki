{
 "cells": [
  {
   "cell_type": "markdown",
   "id": "4a86c842",
   "metadata": {},
   "source": [
    "<figure>\n",
    "  <IMG SRC=\"https://upload.wikimedia.org/wikipedia/commons/thumb/d/d5/Fachhochschule_Südwestfalen_20xx_logo.svg/320px-Fachhochschule_Südwestfalen_20xx_logo.svg.png\" WIDTH=250 ALIGN=\"right\">\n",
    "</figure>\n",
    "\n",
    "# Programmierung für KI\n",
    "### Winterersemester 2022/23\n",
    "Prof. Dr. Heiner Giefers"
   ]
  },
  {
   "cell_type": "markdown",
   "metadata": {},
   "source": [
    "Bitte führen Sie die folgende Code-Zelle zuerst aus. Dies wird zur Auswertung der Lösungen benötigt."
   ]
  },
  {
   "cell_type": "code",
   "execution_count": null,
   "metadata": {},
   "outputs": [],
   "source": [
    "def myinput(inputs):\n",
    "    def foo(a):\n",
    "        print(a)\n",
    "        input.counter += 1\n",
    "        if input.counter > len(inputs) :\n",
    "            raise \"Nicht genügend inputs\"\n",
    "        else:\n",
    "            return inputs[input.counter-1]\n",
    "    foo.counter = 0\n",
    "    return foo"
   ]
  },
  {
   "cell_type": "markdown",
   "metadata": {},
   "source": [
    "**Übung 1: Schreiben Sie Ihr Programm zur Lohnberechnung so um, dass ein Mitarbeiter das 1,5-fache des Stundensatzes für Arbeitsstunden über 40 Stunden erhält.**\n",
    "\n",
    "```python\n",
    "Gib die Arbeitsstunden an: 45\n",
    "Gib den Stundensatz an: 10\n",
    "Zahlung: 475.0\n",
    "```"
   ]
  },
  {
   "cell_type": "code",
   "execution_count": null,
   "metadata": {
    "deletable": false,
    "nbgrader": {
     "grade": false,
     "grade_id": "cell-97e7f0155847f6ae",
     "locked": false,
     "schema_version": 3,
     "solution": true,
     "task": false
    }
   },
   "outputs": [],
   "source": [
    "zahlung = None\n",
    "# YOUR CODE HERE\n",
    "raise NotImplementedError()\n",
    "print(\"Zahlung: \", zahlung)"
   ]
  },
  {
   "cell_type": "code",
   "execution_count": null,
   "metadata": {
    "deletable": false,
    "editable": false,
    "nbgrader": {
     "grade": false,
     "grade_id": "cell-9d0fd2a7c8891531",
     "locked": true,
     "schema_version": 3,
     "solution": false,
     "task": false
    }
   },
   "outputs": [],
   "source": [
    "%%capture cap --no-stderr --no-display\n",
    "c = _i\n",
    "input_old = input\n",
    "input = myinput(['45','10'])\n",
    "exec(c)\n",
    "input = input_old"
   ]
  },
  {
   "cell_type": "code",
   "execution_count": null,
   "metadata": {
    "deletable": false,
    "editable": false,
    "nbgrader": {
     "grade": true,
     "grade_id": "cell-7334c106f1cdedc1",
     "locked": true,
     "points": 1,
     "schema_version": 3,
     "solution": false,
     "task": false
    }
   },
   "outputs": [],
   "source": [
    "assert 'input' in c, \"Aufg. 1: Verwenden Sie die input Funktion\"\n",
    "assert 'Zahlung:  475.0' in cap.stdout, \"Aufg. 1: Die Berechnung stimmt nicht\"\n",
    "assert cap.stdout.count('Zahlung') == 1, \"Aufg. 1: Die Ausgabe stimmt nicht\"\n",
    "del cap"
   ]
  },
  {
   "cell_type": "markdown",
   "metadata": {},
   "source": [
    "**Übung 2: Schreiben Sie Ihr Programm zur Lohnberechnung unter Verwendung von `try` und `except` so um, dass Ihr es nichtnumerische Eingaben elegant behandelt, indem es eine Meldung ausgibt und das Programm beendet. Im Folgenden sehen Sie zwei beispielhafte Ausführungen des Programms:**\n",
    "\n",
    "    Gib die Arbeitsstunden an: 45\n",
    "    Gib den Stundensatz an: neun\n",
    "    Fehler, bitte gib eine Zahl ein\n",
    "\n",
    "    Gib die Arbeitsstunden an: vierzig\n",
    "    Fehler, bitte gib eine Zahl ein\n"
   ]
  },
  {
   "cell_type": "code",
   "execution_count": null,
   "metadata": {
    "deletable": false,
    "nbgrader": {
     "grade": false,
     "grade_id": "cell-13440a24a8cadfa3",
     "locked": false,
     "schema_version": 3,
     "solution": true,
     "task": false
    }
   },
   "outputs": [],
   "source": [
    "# YOUR CODE HERE\n",
    "raise NotImplementedError()"
   ]
  },
  {
   "cell_type": "code",
   "execution_count": null,
   "metadata": {
    "deletable": false,
    "editable": false,
    "nbgrader": {
     "grade": false,
     "grade_id": "cell-2b322cf5740b944b",
     "locked": true,
     "schema_version": 3,
     "solution": false,
     "task": false
    }
   },
   "outputs": [],
   "source": [
    "%%capture cap --no-stderr --no-display\n",
    "c = _i\n",
    "input_old = input\n",
    "input = myinput(['vierzig'])\n",
    "exec(c)\n",
    "input = input_old"
   ]
  },
  {
   "cell_type": "code",
   "execution_count": null,
   "metadata": {
    "deletable": false,
    "editable": false,
    "nbgrader": {
     "grade": true,
     "grade_id": "cell-03f5191ce2d949f4",
     "locked": true,
     "points": 1,
     "schema_version": 3,
     "solution": false,
     "task": false
    }
   },
   "outputs": [],
   "source": [
    "assert 'try' in c and 'except' in c, \"Aufg. 2: Verwenden Sie try/except\"\n",
    "assert 'Zahlung:' not in cap.stdout, \"Aufg. 2: Diese Ausgabe sollte nicht erscheinen\"\n",
    "assert cap.stdout.count('Fehler, bitte gib eine Zahl ein') == 1, \"Aufg. 2: Die Ausgabe stimmt nicht\"\n",
    "del cap "
   ]
  },
  {
   "cell_type": "markdown",
   "metadata": {},
   "source": [
    "**Übung 3: Schreiben Sie ein Programm, das nach einem Wert zwischen 0,0 und 1,0 fragt. Wenn die Punktzahl außerhalb des Bereichs liegt, geben Sie eine Fehlermeldung aus. Wenn die Punktzahl zwischen 0,0 und 1,0 liegt, geben Sie eine Note anhand der folgenden Tabelle aus:**\n",
    "    \n",
    "     Punkte   Note \n",
    "     >= 0.9     1  \n",
    "     >= 0.8     2  \n",
    "     >= 0.7     3  \n",
    "     >= 0.6     4  \n",
    "      < 0.6     5  \n",
    "       \n",
    "Beispiele:\n",
    "\n",
    "    Punkte eingeben: 0.95\n",
    "    1\n",
    "\n",
    "    Punkte eingeben: perfekt\n",
    "    Falsche Bitte geben Sie die Punkte von 0.0 bis 1.0 ein\n",
    "\n",
    "    \n",
    "    Punkte eingeben: 2\n",
    "    Falsche Punkanzahl\n",
    "\n",
    "\n",
    "Führen Sie das Programm wiederholt wie oben gezeigt aus, um die verschiedenen Werte für die Eingabe zu testen."
   ]
  },
  {
   "cell_type": "code",
   "execution_count": null,
   "metadata": {
    "deletable": false,
    "nbgrader": {
     "grade": false,
     "grade_id": "cell-f26787cc665ecd15",
     "locked": false,
     "schema_version": 3,
     "solution": true,
     "task": false
    }
   },
   "outputs": [],
   "source": [
    "# YOUR CODE HERE\n",
    "raise NotImplementedError()\n"
   ]
  },
  {
   "cell_type": "code",
   "execution_count": null,
   "metadata": {
    "deletable": false,
    "editable": false,
    "nbgrader": {
     "grade": false,
     "grade_id": "cell-e88e02d24043c91c",
     "locked": true,
     "schema_version": 3,
     "solution": false,
     "task": false
    }
   },
   "outputs": [],
   "source": [
    "%%capture cap --no-stderr --no-display\n",
    "c = _i\n",
    "input_old = input\n",
    "input = myinput(['0.95','perfekt','2'])\n",
    "exec(c)\n",
    "exec(c)\n",
    "exec(c)\n",
    "input = input_old"
   ]
  },
  {
   "cell_type": "code",
   "execution_count": null,
   "metadata": {
    "deletable": false,
    "editable": false,
    "nbgrader": {
     "grade": true,
     "grade_id": "cell-ae1436d69c7e622c",
     "locked": true,
     "points": 1,
     "schema_version": 3,
     "solution": false,
     "task": false
    }
   },
   "outputs": [],
   "source": [
    "lines = cap.stdout.splitlines()\n",
    "assert '1' in lines[1], \"Aufg. 3: Fehler bei Beispiel 1\"\n",
    "assert 'Bitte geben Sie die Punkte' in lines[3], \"Aufg. 3: Fehler bei Beispiel 2\"\n",
    "assert 'Falsche Punktanzahl' in lines[5], \"Aufg. 3: Fehler bei Beispiel 3\"\n",
    "del cap"
   ]
  }
 ],
 "metadata": {
  "kernelspec": {
   "display_name": "Python 3",
   "language": "python",
   "name": "python3"
  },
  "language_info": {
   "codemirror_mode": {
    "name": "ipython",
    "version": 3
   },
   "file_extension": ".py",
   "mimetype": "text/x-python",
   "name": "python",
   "nbconvert_exporter": "python",
   "pygments_lexer": "ipython3",
   "version": "3.8.5"
  }
 },
 "nbformat": 4,
 "nbformat_minor": 4
}
