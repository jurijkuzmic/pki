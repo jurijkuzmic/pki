{
 "cells": [
  {
   "cell_type": "markdown",
   "id": "ad0d5bc6",
   "metadata": {},
   "source": [
    "<figure>\n",
    "  <IMG SRC=\"https://upload.wikimedia.org/wikipedia/commons/thumb/d/d5/Fachhochschule_Südwestfalen_20xx_logo.svg/320px-Fachhochschule_Südwestfalen_20xx_logo.svg.png\" WIDTH=250 ALIGN=\"right\">\n",
    "</figure>\n",
    "\n",
    "# Programmierung für KI\n",
    "### Winterersemester 2022/23\n",
    "Prof. Dr. Heiner Giefers"
   ]
  },
  {
   "cell_type": "markdown",
   "metadata": {},
   "source": [
    "**Übung 1: Welche Funktion hat der Sekundärspeicher in einem Computer?**\n",
    "\n",
    "a\\) Alle Berechnungen und die Logik des Programms ausführen\\\n",
    "b) Abruf von Webseiten über das Internet\\\n",
    "c) Informationen langfristig zu speichern, auch über einen Stromausfall hinaus\\\n",
    "d) Eingaben des Benutzers entgegennehmen"
   ]
  },
  {
   "cell_type": "code",
   "execution_count": null,
   "metadata": {
    "deletable": false,
    "nbgrader": {
     "grade": false,
     "grade_id": "cell-020b60a969547677",
     "locked": false,
     "schema_version": 3,
     "solution": true,
     "task": false
    }
   },
   "outputs": [],
   "source": [
    "antwort = None\n",
    "\n",
    "# Fügen Sie eine neue Zuweisung ein, in der Sie antwort \n",
    "# auf das korrekte Ergebnis a, b, c, oder d setzen\n",
    "\n",
    "# YOUR CODE HERE\n",
    "raise NotImplementedError()"
   ]
  },
  {
   "cell_type": "code",
   "execution_count": null,
   "metadata": {
    "deletable": false,
    "editable": false,
    "nbgrader": {
     "grade": true,
     "grade_id": "cell-edc656af33ac5bfb",
     "locked": true,
     "points": 1,
     "schema_version": 3,
     "solution": false,
     "task": false
    }
   },
   "outputs": [],
   "source": [
    "assert type(antwort) == str, \"Aufg. 2: Setzen Sie antwort auf 'a', 'b', 'c', oder 'd'\""
   ]
  },
  {
   "cell_type": "markdown",
   "metadata": {},
   "source": [
    "**Aufgabe 4: Was enthält Maschinencode?**\n",
    "\n",
    "a\\) Der Python-Interpreter\\\n",
    "b) Die Tastatur\\\n",
    "c) Die Python-Quelldatei\\\n",
    "d) Ein Textverarbeitungsdokument"
   ]
  },
  {
   "cell_type": "code",
   "execution_count": null,
   "metadata": {
    "deletable": false,
    "nbgrader": {
     "grade": false,
     "grade_id": "cell-2e7244fa7c982f1a",
     "locked": false,
     "schema_version": 3,
     "solution": true,
     "task": false
    }
   },
   "outputs": [],
   "source": [
    "# YOUR CODE HERE\n",
    "raise NotImplementedError()"
   ]
  },
  {
   "cell_type": "code",
   "execution_count": null,
   "metadata": {
    "deletable": false,
    "editable": false,
    "nbgrader": {
     "grade": true,
     "grade_id": "cell-eedd352e5150629a",
     "locked": true,
     "points": 1,
     "schema_version": 3,
     "solution": false,
     "task": false
    }
   },
   "outputs": [],
   "source": [
    "assert type(antwort) == str, \"Aufg. 4: Setzen Sie antwort auf 'a', 'b', 'c', oder 'd'\""
   ]
  },
  {
   "cell_type": "markdown",
   "metadata": {},
   "source": [
    "**Aufgabe 5: Was ist falsch an folgendem Code? Verbessern Sie in in der folgenden Zelle.**\n",
    "\n",
    "```python\n",
    ">>> primt 'Hello world!'\n",
    "File “<stdin>“, line 1\n",
    "  primt 'Hello world!'\n",
    "                     ^\n",
    "SyntaxError: invalid syntax\n",
    "```"
   ]
  },
  {
   "cell_type": "code",
   "execution_count": null,
   "metadata": {
    "deletable": false,
    "nbgrader": {
     "grade": false,
     "grade_id": "cell-41c9bb1915328d6e",
     "locked": false,
     "schema_version": 3,
     "solution": true,
     "task": false
    }
   },
   "outputs": [],
   "source": [
    "# YOUR CODE HERE\n",
    "raise NotImplementedError()"
   ]
  },
  {
   "cell_type": "code",
   "execution_count": null,
   "metadata": {
    "deletable": false,
    "editable": false,
    "nbgrader": {
     "grade": false,
     "grade_id": "cell-9634a4eb8fcc1373",
     "locked": true,
     "schema_version": 3,
     "solution": false,
     "task": false
    }
   },
   "outputs": [],
   "source": [
    "%%capture cap --no-stderr --no-display\n",
    "c = _i\n",
    "exec(c)"
   ]
  },
  {
   "cell_type": "code",
   "execution_count": null,
   "metadata": {
    "deletable": false,
    "editable": false,
    "nbgrader": {
     "grade": true,
     "grade_id": "cell-395e4adf2fbca228",
     "locked": true,
     "points": 1,
     "schema_version": 3,
     "solution": false,
     "task": false
    }
   },
   "outputs": [],
   "source": [
    "assert \"Hello world!\" in cap.stdout, f\"Aufg. 5: Die Ausgabe {s} stimmt nicht.\"\n",
    "assert \"print\" in c, \"Aufg. 5: Verwenden Sie die print Funktion\""
   ]
  },
  {
   "cell_type": "markdown",
   "metadata": {},
   "source": [
    "**Übung 6: Wo im Computer wird eine Variable wie `x` gespeichert, nachdem die folgende Python-Zeile beendet ist?**\n",
    "\n",
    "```python\n",
    "x = 123\n",
    "```\n",
    "\n",
    "a\\) CPU\\\n",
    "b) Hauptspeicher\\\n",
    "c) Sekundärspeicher\\\n",
    "d) Eingabegeräte\\\n",
    "e) Ausgabegeräte"
   ]
  },
  {
   "cell_type": "code",
   "execution_count": null,
   "metadata": {
    "deletable": false,
    "nbgrader": {
     "grade": false,
     "grade_id": "cell-a5f0e39063fadeb4",
     "locked": false,
     "schema_version": 3,
     "solution": true,
     "task": false
    }
   },
   "outputs": [],
   "source": [
    "antwort = None\n",
    "\n",
    "# Fügen Sie eine neue Zuweisung ein, in der Sie antwort \n",
    "# auf das korrekte Ergebnis a, b, c, d, oder e setzen\n",
    "\n",
    "# YOUR CODE HERE\n",
    "raise NotImplementedError()"
   ]
  },
  {
   "cell_type": "code",
   "execution_count": null,
   "metadata": {
    "deletable": false,
    "editable": false,
    "nbgrader": {
     "grade": true,
     "grade_id": "cell-17b0f6d3d903878b",
     "locked": true,
     "points": 1,
     "schema_version": 3,
     "solution": false,
     "task": false
    }
   },
   "outputs": [],
   "source": [
    "assert type(antwort) == str, \"Aufg. 6: Setzen Sie antwort auf 'a', 'b', 'c', 'd', oder 'e'\""
   ]
  },
  {
   "cell_type": "markdown",
   "metadata": {},
   "source": [
    "**Übung 7: Was wird das folgende Programm ausgeben:**\n",
    "\n",
    "```python\n",
    "x = 43\n",
    "x = x + 1\n",
    "print(x)\n",
    "```\n",
    "\n",
    "a\\) 43\\\n",
    "b) 44\\\n",
    "c) x + 1\\\n",
    "d) Fehler, denn x = x + 1 ist mathematisch nicht möglich"
   ]
  },
  {
   "cell_type": "code",
   "execution_count": null,
   "metadata": {
    "deletable": false,
    "nbgrader": {
     "grade": false,
     "grade_id": "cell-0ae852e7c8b70d30",
     "locked": false,
     "schema_version": 3,
     "solution": true,
     "task": false
    }
   },
   "outputs": [],
   "source": [
    "antwort = None\n",
    "\n",
    "# Fügen Sie eine neue Zuweisung ein, in der Sie antwort \n",
    "# auf das korrekte Ergebnis a, b, c, oder d setzen\n",
    "\n",
    "# YOUR CODE HERE\n",
    "raise NotImplementedError()"
   ]
  },
  {
   "cell_type": "code",
   "execution_count": null,
   "metadata": {
    "deletable": false,
    "editable": false,
    "nbgrader": {
     "grade": true,
     "grade_id": "cell-9bd2656cdb70fa34",
     "locked": true,
     "points": 1,
     "schema_version": 3,
     "solution": false,
     "task": false
    }
   },
   "outputs": [],
   "source": [
    "assert type(antwort) == str, \"Aufg. 7: Setzen Sie antwort auf 'a', 'b', 'c', oder 'd'\""
   ]
  }
 ],
 "metadata": {
  "kernelspec": {
   "display_name": "Python 3",
   "language": "python",
   "name": "python3"
  },
  "language_info": {
   "codemirror_mode": {
    "name": "ipython",
    "version": 3
   },
   "file_extension": ".py",
   "mimetype": "text/x-python",
   "name": "python",
   "nbconvert_exporter": "python",
   "pygments_lexer": "ipython3",
   "version": "3.6.13"
  }
 },
 "nbformat": 4,
 "nbformat_minor": 4
}
