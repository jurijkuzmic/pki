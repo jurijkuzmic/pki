{
 "cells": [
  {
   "cell_type": "markdown",
   "metadata": {},
   "source": [
    "<figure>\n",
    "  <IMG SRC=\"https://upload.wikimedia.org/wikipedia/commons/thumb/d/d5/Fachhochschule_Südwestfalen_20xx_logo.svg/320px-Fachhochschule_Südwestfalen_20xx_logo.svg.png\" WIDTH=250 ALIGN=\"right\">\n",
    "</figure>\n",
    "\n",
    "# Programmierung für KI\n",
    "### Winterersemester 2022/23\n",
    "Prof. Dr. Heiner Giefers"
   ]
  },
  {
   "cell_type": "markdown",
   "metadata": {},
   "source": [
    "## Matrix-Klasse\n",
    "\n",
    "In diesem Arbeitsblatt soll eine Klasse für mathematische Matrizen erstellt werden.\n",
    "Die Klasse `Matrix` besitzt ein Klassen-Attribut `klassenname` und soll folgende Instanz-Attribute erhalten:\n",
    "- `zeilen`: Die Anzahl der Zeilen in der Matrix\n",
    "- `spalten`: Die Anzahl der Spalten in der Matrix\n",
    "- `data`: Werte der Matrix gespeichert als zweidimensionale Liste\n",
    "\n",
    "In der folgenden Code-Zelle sind ebenfalls die Methoden `__str__` und `__repr__` implementiert.\n",
    "Dabei handelt es um sogenannte *Magic Methods*, das sind Methoden mit einem festem Namen und fester Bedeutung.\n",
    "Damit sie sich direkt von anderen Methoden abheben, beginnen und enden die Bezeichner von *Magic Methods* immer mit zwei Unterstrichen.\n",
    "*Magic Methods* werden zu bestimmten Ereignissen aufgerufen.\n",
    "Wir können diese *Magic Methods* (und *Magic Attributes*) überschreiben, um die vordefinierte Funktionalität zu ersetzen oder zu erweitern.\n",
    "\n",
    "Die `__init__(self,...)` Funktion ist ein Beispiel für eine *Magic Method*. Wenn Sie eine neue Instanz einer Klasse erzeugen, sucht der Interpreter nach einer Methode mit genau diesem Namen und führt sie aus.\n",
    "Die *Magic Methods* `__str__` und `__repr__` werden aufgerufen, wenn ein Objekt zu einem String umgewandelt wird, bzw. wenn die Darstellung des Objekts auf der Kommandozeile ausgegeben wird.\n",
    "\n",
    "#### Aufgabe: Konstruktor hinzufügen\n",
    "Programmieren Sie den Konstruktor der Klasse `Matrix`.\n",
    "Der Konstruktor soll mit mindestens zwei Argumenten aufgerufen werden, mit denen die Anzah der Zeilen und die Anzahl der Spalten gesetzt werden können. Das Matrix-Objekt soll die Anzahl der Zeilen und Spalten in den Attributen `zeilen` bzw. `spalten` abspeichern.\n",
    "Die Werte der Matrix sollen als **eindimensionale Liste** übergeben werden.\n",
    "Intern sollen die Daten der Matrix als **zweidimensionale Liste** (*Liste von Listen*) unter dem Attributnamen `data` abgespeichert werden.\n",
    "Data enthält also für jede Zeile der Matrix eine Liste, die die Werte der entsprechenden Zeile enthält.\n",
    "\n",
    "```python\n",
    "werte = [0, 1, 2, 3, 4, 5, 6, 7, 8, 9, 10, 11]\n",
    "m = Matrix(3, 4, werte)\n",
    "print(m)\n",
    "```\n",
    "*Erwartete Ausgabe:*\n",
    "```\n",
    "|  0.000  1.000  2.000  3.000 |\n",
    "|  4.000  5.000  6.000  7.000 |\n",
    "|  8.000  9.000 10.000 11.000 |\n",
    "```\n",
    "\n",
    "##### Erweiterung:\n",
    "\n",
    "Der Konstruktor soll auch funktionieren, wenn keine Liste von Werten angegeben wird. In diesem Fall soll der Konstruktor ein Matrix mit Nullen erzeugen;\n",
    "\n",
    "```python\n",
    "m = Matrix(2, 2)\n",
    "print(m)\n",
    "```\n",
    "*Erwartete Ausgabe:*\n",
    "```\n",
    "|  0.000  0.000 |\n",
    "|  0.000  0.000 |\n",
    "```\n"
   ]
  },
  {
   "cell_type": "code",
   "execution_count": null,
   "metadata": {
    "deletable": false,
    "nbgrader": {
     "grade": false,
     "grade_id": "cell-9f6032b8d18c809e",
     "locked": false,
     "schema_version": 3,
     "solution": true,
     "task": false
    }
   },
   "outputs": [],
   "source": [
    "from random import random\n",
    "from random import seed\n",
    "\n",
    "seed(42)\n",
    "\n",
    "\n",
    "class Matrix:\n",
    "    \n",
    "    klassenname = \"Matrix\"\n",
    "    \n",
    "    # Hier soll der Konstruktor der Klasse angegeben werden, also\n",
    "    # def __init__(...)\n",
    "    # YOUR CODE HERE\n",
    "    raise NotImplementedError()\n",
    "    \n",
    "    # __str__() wird aufgerufen, wenn ein Objekt in eine Zeichenkette\n",
    "    # umgewandelt werden muss. Dies ist z.B. bei 'print' der Fall\n",
    "    def __str__(self):\n",
    "        res = \"\"\n",
    "        for i in self.data:\n",
    "            res += '| '\n",
    "            for j in i:\n",
    "                res += f\"{j:6.3f} \"\n",
    "            res += '|\\n'\n",
    "        return res\n",
    "    \n",
    "    # __repr__() soll eine möglichst eindeutige Repräsentation des Objekts\n",
    "    # als Zeichenkette liefer. Diese Ausgabe erscheint auf der Kommandozeile\n",
    "    # als Ausgabe für das Objekt\n",
    "    def __repr__(self):\n",
    "        return f\"\\n{self.klassenname}-Objekt ({id(self)}):\\n{self.__str__()}\""
   ]
  },
  {
   "cell_type": "code",
   "execution_count": null,
   "metadata": {
    "deletable": false,
    "editable": false,
    "nbgrader": {
     "grade": true,
     "grade_id": "cell-bc3ee71e85698b81",
     "locked": true,
     "points": 0,
     "schema_version": 3,
     "solution": false,
     "task": false
    }
   },
   "outputs": [],
   "source": [
    "# Test Kontruktor mit Werten\n",
    "row = 3\n",
    "col = 4\n",
    "werte = [i for i in range(row*col)]\n",
    "print(\"Werte:\", werte, '\\n')\n",
    "m0 = Matrix(row, col, werte)\n",
    "assert m0.data[1][1]==5\n",
    "print(m0)"
   ]
  },
  {
   "cell_type": "code",
   "execution_count": null,
   "metadata": {
    "deletable": false,
    "editable": false,
    "nbgrader": {
     "grade": true,
     "grade_id": "cell-fa84302a35c4c775",
     "locked": true,
     "points": 0,
     "schema_version": 3,
     "solution": false,
     "task": false
    }
   },
   "outputs": [],
   "source": [
    "# Test Kontruktor ohne Werte\n",
    "m1 = Matrix(2, 2)\n",
    "m1"
   ]
  },
  {
   "cell_type": "markdown",
   "metadata": {},
   "source": [
    "#### Aufgabe: Eigene Methode definieren\n",
    "\n",
    "Die Klasse `Matrix` speichert die Werte der Matrix als zweidimensionale Liste.\n",
    "Für spätere Aufgaben ist es hilfreich, wenn wir die Werte als eindimensionale Liste auslesen können.\n",
    "Fügen Sie der Klasse `Matrix` eine neue Methode `get_values` hinzu, die alle Werte der Matrix **zeilenweise** in eine Liste überträgt und diese Liste als Ergebnis zurückliefert.\n",
    "\n",
    "**Hinweis:** Damit wir die Klasse `Matrix` in mehreren Code-Zellen entwicklen können, müssen wir die ursprüngliche Klasse `Matrix` erweitern.\n",
    "Dazu erzeugen wir jeweils eine neue Klasse Matrix und *erben* alles aus der zuvor definierten Klasse `Matrix`. Das geht, indem wir bei der Klassen-Definition die Vater-Klasse `Matrix` angeben:\n",
    "```python\n",
    "class Matrix(Matrix):\n",
    "    pass\n",
    "```"
   ]
  },
  {
   "cell_type": "code",
   "execution_count": null,
   "metadata": {
    "deletable": false,
    "nbgrader": {
     "grade": false,
     "grade_id": "cell-0ee3604236607f9c",
     "locked": false,
     "schema_version": 3,
     "solution": true,
     "task": false
    }
   },
   "outputs": [],
   "source": [
    "class Matrix(Matrix):\n",
    "    \n",
    "    # YOUR CODE HERE\n",
    "    raise NotImplementedError()"
   ]
  },
  {
   "cell_type": "code",
   "execution_count": null,
   "metadata": {
    "deletable": false,
    "editable": false,
    "nbgrader": {
     "grade": true,
     "grade_id": "cell-869e0f09a57a92a4",
     "locked": true,
     "points": 0,
     "schema_version": 3,
     "solution": false,
     "task": false
    }
   },
   "outputs": [],
   "source": [
    "# Test get_values\n",
    "werte = [i for i in range(row*col)]\n",
    "m0 = Matrix(row, col, werte)\n",
    "res = m0.get_values()\n",
    "assert m0.get_values()==werte\n",
    "print(res)"
   ]
  },
  {
   "cell_type": "markdown",
   "metadata": {},
   "source": [
    "#### Aufgabe: Matrix transponieren\n",
    "\n",
    "Eine der wichtigsten Operationen in der linearen Algebra ist das Transponieren einer Matrix.\n",
    "Die transponierte Matrix erhält man, indem man die Zeilen und Spalten der ursprünglichen Matrix vertauscht.\n",
    "Aus einer $3\\times{}5$ Matrix, beispielsweise, wird so eine $5\\times{}3$ Matrix.\n",
    "\n",
    "Ergänzen Sie in der Klasse `Matrix` eine Methode `transpose` die für ein Matrix-Objekt die transponierte Matrix als **neue** Matrix erzeugt und zurückliefert. Die Werte der ursprünglichen Matrix sollen also nicht verändert werden.\n",
    "\n",
    "**Beispiel**<br>\n",
    "*Ursprüngliche Matrix:*\n",
    "```\n",
    "|  0.000  1.000  2.000  3.000 |\n",
    "|  4.000  5.000  6.000  7.000 |\n",
    "|  8.000  9.000 10.000 11.000 |\n",
    "```\n",
    "*Transponierte Matrix:*\n",
    "```\n",
    "|  0.000  4.000  8.000 |\n",
    "|  1.000  5.000  9.000 |\n",
    "|  2.000  6.000 10.000 |\n",
    "|  3.000  7.000 11.000 |\n",
    "```\n",
    "\n",
    "**Hinweis:** In der Code Zelle wird ein sogenannter *Property Decorator* verwendet, um der Methode `T` eine spezielle Bedeutung zu geben. Wenn wir der Definition von `T` ein `@property` vorschalten, kann man `T` wie ein Attribut der Klasse Matrix verwenden. Diese Kurzschreibweise ist hilfreich für oft verwendete Funktionen."
   ]
  },
  {
   "cell_type": "code",
   "execution_count": null,
   "metadata": {
    "deletable": false,
    "nbgrader": {
     "grade": false,
     "grade_id": "cell-e882b14706c2c703",
     "locked": false,
     "schema_version": 3,
     "solution": true,
     "task": false
    }
   },
   "outputs": [],
   "source": [
    "class Matrix(Matrix):\n",
    "    # Hier soll die Methode 'transpose' implementiert werden\n",
    "    # YOUR CODE HERE\n",
    "    raise NotImplementedError()\n",
    "    \n",
    "    @property\n",
    "    def T(self):\n",
    "        return self.transpose()"
   ]
  },
  {
   "cell_type": "code",
   "execution_count": null,
   "metadata": {
    "deletable": false,
    "editable": false,
    "nbgrader": {
     "grade": true,
     "grade_id": "cell-c59b60929b54ad65",
     "locked": true,
     "points": 0,
     "schema_version": 3,
     "solution": false,
     "task": false
    }
   },
   "outputs": [],
   "source": [
    "# Test Transpose\n",
    "werte = [i for i in range(row*col)]\n",
    "m0 = Matrix(row, col, werte)\n",
    "m1 = m0.T\n",
    "for i in range(m0.zeilen):\n",
    "    for j in range(m0.spalten):\n",
    "        assert m0.data[i][j] == m1.data[j][i]"
   ]
  },
  {
   "cell_type": "markdown",
   "metadata": {},
   "source": [
    "#### Aufgabe: Matrizen addieren\n",
    "\n",
    "Erweitern Sie die Klasse `Matrix` um eine Methode `add` mit der zwei Matrizen gleichen Typs (also mit jeweils gleicher Anzahl von Zeilen und Spalten) addiert und das Ergebnis als neue Matrix zurückliefert. Die Methode soll prüfen, ob der zweite Operand (das $B$ in der Abbildung) ein `Matrix`-Objekt ist. Dafür können Sie z.B. die die Funktion `isinstance` verwenden:\n",
    "\n",
    "```python\n",
    ">>> isinstance(42, int)\n",
    "True\n",
    "```\n",
    "\n",
    "Wenn der zweiter Operand keinen gültigen Typ besitzt (also keine `Matrix` ist, oder nach der Erweiterung unten auch keine `int`oder `float` ist), soll die Methode einen `TypeError` erzeugen\n",
    "\n",
    "<table><tr><td>\n",
    "<img src=\"https://upload.wikimedia.org/wikipedia/commons/thumb/5/59/Matrix_addition_qtl1.svg/320px-Matrix_addition_qtl1.svg.png\" alt>\n",
    "</td><td>\n",
    "<img src=\"https://upload.wikimedia.org/wikipedia/commons/thumb/4/47/Matrix_addition_qtl2.svg/320px-Matrix_addition_qtl2.svg.png\" alt>\n",
    "</td></tr><tr><td colspan=2, style='text-align:center'>\n",
    "<b>Matrizenaddition</b> <i>Quelle: Quartl, wikimedia.org, CC BY-SA 3.0</i>\n",
    "</td></tr></table>\n",
    "\n",
    "\n",
    "\n",
    "**Erweiterung:**\n",
    "Erweitern Sie die Methode `add` so, dass man eine Matrix auch mit einer Konstanten addieren kann. Diese Rechenoperation ist in der linearen Algebra zwar nicht definiert, in Anwendungen aber recht praktisch. Wenn also der zweite Operand kein `Matrix`-Objekt ist, sondern ein `int`- oder `float`-Typ, dann soll zu jedem Element in der Matrix dieser Wert addiert werden.<br>\n",
    "(Wir werden dieses Konzept später als *Broadcasting* kennen lernen)\n"
   ]
  },
  {
   "cell_type": "code",
   "execution_count": null,
   "metadata": {
    "deletable": false,
    "nbgrader": {
     "grade": false,
     "grade_id": "cell-ff479d98337ffc98",
     "locked": false,
     "schema_version": 3,
     "solution": true,
     "task": false
    }
   },
   "outputs": [],
   "source": [
    "class Matrix(Matrix):\n",
    "    def add(self, other):\n",
    "        # YOUR CODE HERE\n",
    "        raise NotImplementedError()"
   ]
  },
  {
   "cell_type": "code",
   "execution_count": null,
   "metadata": {
    "deletable": false,
    "editable": false,
    "nbgrader": {
     "grade": true,
     "grade_id": "cell-8f288cccae185914",
     "locked": true,
     "points": 0,
     "schema_version": 3,
     "solution": false,
     "task": false
    }
   },
   "outputs": [],
   "source": [
    "# Test Add\n",
    "werte = [i for i in range(row*col)]\n",
    "m0 = Matrix(row, col, werte)\n",
    "m1 = Matrix(row, col, werte)\n",
    "m2 = m0.add(m1)\n",
    "for i in range(m2.zeilen):\n",
    "    for j in range(m2.spalten):\n",
    "        assert m2.data[i][j] == 2*m0.data[i][j]\n",
    "try:\n",
    "    m4 = m0.add('Hello')\n",
    "    assert False, \"Solch eine Addition funktioniert nicht\"\n",
    "except TypeError:\n",
    "    pass\n",
    "except:\n",
    "    assert False, \"Falscher Fehler-Typ\"\n",
    "    "
   ]
  },
  {
   "cell_type": "markdown",
   "metadata": {},
   "source": [
    "Wenn Sie die Erweiterung implementiert haben, sollte auch folgendes funktionieren:"
   ]
  },
  {
   "cell_type": "code",
   "execution_count": null,
   "metadata": {},
   "outputs": [],
   "source": [
    "m0 = Matrix(row, col, [i for i in range(row*col)])\n",
    "m0, m0.add(1)"
   ]
  },
  {
   "cell_type": "markdown",
   "metadata": {},
   "source": [
    "#### Operatoren überladen\n",
    "\n",
    "Die *Magic Methods* in Python haben noch eine weitere Funktion, mit ihnen können die bekannten Operatoren **überladen** werden.\n",
    "Das bedeutet, wir können z.B. selbst definieren, was der *Plus-Operator* `+` für unsere Klasse für eine Bedeutung hat.\n",
    "Wir müssen dafür einfach die Methode `__add__` definieren.\n",
    "`__add__` muss neben dem `Matrix`-Objekt `self` noch ein weiteres Objekt erhalten und unbedingt ein neues Objekt zurückliefern.\n",
    "Das passt genau zu unserer `add`-Methode.\n",
    "Wir können also einfach `add` in `__add__`aufrufen:"
   ]
  },
  {
   "cell_type": "code",
   "execution_count": null,
   "metadata": {},
   "outputs": [],
   "source": [
    "class Matrix(Matrix):   \n",
    "    \n",
    "    def __add__(self, other):\n",
    "        return self.add(other)\n"
   ]
  },
  {
   "cell_type": "markdown",
   "metadata": {},
   "source": [
    "Nun überprüfen wir, ob das Ergebnis passt:"
   ]
  },
  {
   "cell_type": "code",
   "execution_count": null,
   "metadata": {},
   "outputs": [],
   "source": [
    "m0 = Matrix(row, col, [random() for i in range(row*col)])\n",
    "m1 = Matrix(row, col, [random() for i in range(row*col)])\n",
    "\n",
    "m0, m1, m0+m1"
   ]
  },
  {
   "cell_type": "markdown",
   "metadata": {},
   "source": [
    "#### Aufgabe: Skalarmultiplikation\n",
    "\n",
    "Matrizen können mit Skalaren multipliziert werden, die Oeration nennt man entsprechend *Skalarmultiplikation* (übrigens nicht zu verwechseln mit dem *Skalarprodukt*).\n",
    "\n",
    "${\\begin{pmatrix}1&2\\\\3&4\\end{pmatrix}}\\cdot 3={\\begin{pmatrix}1\\cdot 3&2\\cdot 3\\\\3\\cdot 3&4\\cdot 3\\end{pmatrix}}={\\begin{pmatrix}3&6\\\\9&12\\end{pmatrix}}$\n",
    "\n",
    "Eine punktweise Multiplikation zweier Matrizen (also wie bei der Matrizenaddition, nur dass die einzelnen Elmente nicht addiert sondern multipliziert werden) gibt es übrigens auch. Dies ist aber <u>nicht die Matrizenmultiplikation</u>! Man nennt dieses spezielle Produkt auch **Hadamard Produkt**.\n",
    "\n",
    "<table><tr><td>\n",
    "<img src=\"https://upload.wikimedia.org/wikipedia/commons/thumb/0/00/Hadamard_product_qtl1.svg/320px-Hadamard_product_qtl1.svg.png\" alt>\n",
    "</td><td>\n",
    "<img src=\"https://upload.wikimedia.org/wikipedia/commons/thumb/b/b9/Hadamard_product_qtl2.svg/320px-Hadamard_product_qtl2.svg.png\" alt>\n",
    "</td></tr><tr><td colspan=2, style='text-align:center'>\n",
    "<b>Hadamard Produkt</b> <i>Quelle: Quartl, wikimedia.org, CC BY-SA 3.0</i>\n",
    "</td></tr></table>\n",
    "\n",
    "**Aufgabe:** Schreiben Sie eine Methode `mul` mit der die Skalarmultiplikation einer Matrix mit einem Skalar sowie das Hadamard-Produkt zweier typgleicher Matrizen berechnet werden kann. Wie bei der Methode `add` soll eine neue Matrix erzeugt werden und im Fall eines flalschen Operanden ein `TypeError` erzeugt werden.\n",
    "\n",
    "Definieren Sie analog zur Methode `__add__` die Methode `__mul__`, sodass `Matrix`-Objekte nun auch mit dem `*`-Operator multipliziert werden können.\n"
   ]
  },
  {
   "cell_type": "code",
   "execution_count": null,
   "metadata": {
    "deletable": false,
    "nbgrader": {
     "grade": false,
     "grade_id": "cell-e510fa5014f0fcdb",
     "locked": false,
     "schema_version": 3,
     "solution": true,
     "task": false
    }
   },
   "outputs": [],
   "source": [
    "class Matrix(Matrix):\n",
    "    # YOUR CODE HERE\n",
    "    raise NotImplementedError()\n",
    "    "
   ]
  },
  {
   "cell_type": "code",
   "execution_count": null,
   "metadata": {
    "deletable": false,
    "editable": false,
    "nbgrader": {
     "grade": true,
     "grade_id": "cell-ee6cf8e9ce35c10e",
     "locked": true,
     "points": 0,
     "schema_version": 3,
     "solution": false,
     "task": false
    }
   },
   "outputs": [],
   "source": [
    "# Test mul\n",
    "werte = [i for i in range(row*col)]\n",
    "m0 = Matrix(row, col, werte)\n",
    "m1 = Matrix(row, col, werte)\n",
    "m2 = m0.mul(m1)\n",
    "for i in range(m2.zeilen):\n",
    "    for j in range(m2.spalten):\n",
    "        assert m2.data[i][j] == m0.data[i][j]**2"
   ]
  },
  {
   "cell_type": "markdown",
   "metadata": {},
   "source": [
    "Für unsere `Matrix`-Klasse können wir noch viele weitere *Magic Methods* ausimplementieren.\n",
    "Z.B. die Methoden `__eq__`, um Matrizen auf Gleichheit zu überprüfen oder `__len__` um die Anzahl der Elemente in der Matrix zu bestimmen.\n",
    "Ebenfalls hilfreich sind die Methoden `__getitem__` und `__setitem__` mit denen man auf einzelne Elemente der Matrix mithilfe der der Index-Notation in `[]` lesen bzw. schreiben kann.\n",
    "\n",
    "**Aufgabe:** Definieren Sie in der folgenden Code Zelle ebenfalls die Methode `__eq__`, die aufgerufen wird, wenn zwei Matrizen mit `==` auf Gleichheit überprüft werden."
   ]
  },
  {
   "cell_type": "code",
   "execution_count": null,
   "metadata": {
    "deletable": false,
    "nbgrader": {
     "grade": false,
     "grade_id": "cell-b266e911108dd9e1",
     "locked": false,
     "schema_version": 3,
     "solution": true,
     "task": false
    }
   },
   "outputs": [],
   "source": [
    "# YOUR CODE HERE\n",
    "raise NotImplementedError()"
   ]
  },
  {
   "cell_type": "code",
   "execution_count": null,
   "metadata": {},
   "outputs": [],
   "source": [
    "m0 = Matrix(row, col, [i for i in range(row*col)])\n",
    "assert len(m0)==row*col, \"Die __len__-Methode funktioniert nicht\"\n",
    "assert m0[2][2]==10\n",
    "m0[2][2]=123\n",
    "assert m0[2][2]==123\n",
    "\n",
    "m0 = Matrix(row, col, [i for i in range(row*col)])\n",
    "m1 = Matrix(row, col, [i for i in range(row*col)])\n",
    "assert m0==m1\n",
    "m0[1][1]=42\n",
    "assert m0!=m1"
   ]
  },
  {
   "cell_type": "markdown",
   "metadata": {},
   "source": [
    "#### Aufgabe: Matrizenmultiplikation\n",
    "\n",
    "Eine der häufigsten Aufgaben im Umgang mit Matrizen ist die Matrizenmultiplikation.\n",
    "Sie werden in kommenden Modulen noch sehen, das etwa *Neuronale Netze* einen Großteil (>90%) ihrer Berechnungszeit mit Matrizenmultiplikationen berechnen.\n",
    "\n",
    "Im Unterschied zum elementweisen (Hadamard) Produkt berechnet die Matrizenmultiplikation für jeden Eintrag der Ergebnis-Matrix das Skalarprodukt der entsprechenden Zeile der linken Operanden mit der entsprechenden Spalte des rechten Operanden.\n",
    "\n",
    "<table><tr><td>\n",
    "<img src=\"https://upload.wikimedia.org/wikipedia/commons/thumb/1/18/Matrix_multiplication_qtl1.svg/320px-Matrix_multiplication_qtl1.svg.png\" alt>\n",
    "</td><td>\n",
    "<img src=\"https://upload.wikimedia.org/wikipedia/commons/thumb/8/87/Matrix_multiplication_qtl2.svg/320px-Matrix_multiplication_qtl2.svg.png\" alt>\n",
    "</td></tr><tr><td colspan=2, style='text-align:center'>\n",
    "<b>Matrizenmultiplikation</b> <i>Quelle: Quartl, wikimedia.org, CC BY-SA 3.0</i>\n",
    "</td></tr></table>\n",
    "\n",
    "**Aufgabe:** Schreiben Sie eine Methode `matrix_multiply`, die die Matrizenmultiplikation zweier `Matrix`-Objekte berechnet. Die Methode soll eine neue Matrix zurückliefern.\n",
    "\n",
    "Wir verwenden diese Methode in der *Magic Method* `__matmul__` die immer dann aufgerufen wird, wenn der Matrizenmultiplikatios-Operator `@` verwendet wird.\n",
    "\n",
    "<!--![](https://github.com/fh-swf-hgi/intro-ml/raw/main/Praktika/A03/matmult.png)-->"
   ]
  },
  {
   "cell_type": "code",
   "execution_count": null,
   "metadata": {
    "deletable": false,
    "nbgrader": {
     "grade": false,
     "grade_id": "cell-5177dd3f3abcfa27",
     "locked": false,
     "schema_version": 3,
     "solution": true,
     "task": false
    }
   },
   "outputs": [],
   "source": [
    "class Matrix(Matrix):\n",
    "    \n",
    "    # YOUR CODE HERE\n",
    "    raise NotImplementedError()\n",
    "    \n",
    "    def __matmul__(self, other):\n",
    "        return self.matrix_multiply(other)"
   ]
  },
  {
   "cell_type": "code",
   "execution_count": null,
   "metadata": {},
   "outputs": [],
   "source": [
    "m0 = Matrix(2, 3, [i for i in range(6)])\n",
    "m1 = Matrix(3, 2, [i for i in range(6)])\n",
    "m2 = Matrix(2, 2, [10,13,28,40])\n",
    "assert m0@m1==m2, \"Die Matrizenmultiplikation stimmt nicht\"\n",
    "\n",
    "print(\"m0:\\n\", m0, sep='')\n",
    "print(\"m1:\\n\", m1, sep='')\n",
    "print(\"m0@m1:\\n\", m0@m1, sep='')\n"
   ]
  }
 ],
 "metadata": {
  "kernelspec": {
   "display_name": "Python 3 (ipykernel)",
   "language": "python",
   "name": "python3"
  },
  "language_info": {
   "codemirror_mode": {
    "name": "ipython",
    "version": 3
   },
   "file_extension": ".py",
   "mimetype": "text/x-python",
   "name": "python",
   "nbconvert_exporter": "python",
   "pygments_lexer": "ipython3",
   "version": "3.10.6"
  },
  "varInspector": {
   "cols": {
    "lenName": 16,
    "lenType": 16,
    "lenVar": 40
   },
   "kernels_config": {
    "python": {
     "delete_cmd_postfix": "",
     "delete_cmd_prefix": "del ",
     "library": "var_list.py",
     "varRefreshCmd": "print(var_dic_list())"
    },
    "r": {
     "delete_cmd_postfix": ") ",
     "delete_cmd_prefix": "rm(",
     "library": "var_list.r",
     "varRefreshCmd": "cat(var_dic_list()) "
    }
   },
   "types_to_exclude": [
    "module",
    "function",
    "builtin_function_or_method",
    "instance",
    "_Feature"
   ],
   "window_display": false
  }
 },
 "nbformat": 4,
 "nbformat_minor": 4
}
