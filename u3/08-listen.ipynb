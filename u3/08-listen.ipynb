{
 "cells": [
  {
   "cell_type": "markdown",
   "id": "4096de52",
   "metadata": {},
   "source": [
    "<figure>\n",
    "  <IMG SRC=\"https://upload.wikimedia.org/wikipedia/commons/thumb/d/d5/Fachhochschule_Südwestfalen_20xx_logo.svg/320px-Fachhochschule_Südwestfalen_20xx_logo.svg.png\" WIDTH=250 ALIGN=\"right\">\n",
    "</figure>\n",
    "\n",
    "# Programmierung für KI\n",
    "### Winterersemester 2022/23\n",
    "Prof. Dr. Heiner Giefers"
   ]
  },
  {
   "cell_type": "markdown",
   "id": "d916f3d3",
   "metadata": {
    "deletable": false,
    "editable": false,
    "nbgrader": {
     "grade": false,
     "grade_id": "cell-64c107d76c27e394",
     "locked": true,
     "schema_version": 3,
     "solution": false,
     "task": false
    }
   },
   "source": [
    "**Aufgabe 1:** Shakespeare hat über 20,000 verschiedene Wörter in seinen\n",
    "Werken verwendet. Aber wie kann man das feststellen? Wie würden Sie die Liste aller Wörter erstellen, die Shakespeare verwendet hat? Würden Sie sein gesamtes Werk herunterladen, es lesen und alle einzigartigen Wörter von Hand nachverfolgen?\n",
    "\n",
    "Lassen Sie uns stattdessen Python verwenden, um das zu erreichen. Listen Sie alle eindeutigen Wörter, sortiert in alphabetischer Reihenfolge, auf, die in einer Datei romeo.txt gespeichert sind, die eine Teilmenge von Shakespeares Werk enthält.\n",
    "\n",
    "Erstellen Sie eine Liste mit eindeutigen Wörtern. Schreiben Sie dazu eine Funktion `sort_words`, um die Datei `romeo.txt` zu öffnen und Zeile für Zeile zu lesen. Teilen Sie jede Zeile der Datei mittels der Funktion `split` in eine Liste von Wörtern auf. Prüfen Sie für jedes Wort, ob das Wort bereits in der Liste der eindeutigen Wörter enthalten ist. Wenn das Wort nicht in der Liste der eindeutigen Wörter enthalten ist, fügen Sie es der Liste hinzu. Wenn das Programm mit dem Lesen der Datei fertig, sortieren Sie die Liste der eindeutigen Wörter in alphabetischer Reihenfolge und geben Sie diese als Ergebnis der Funktion `sort_words` (also mit `return`) zurück.\n",
    "\n",
    "*Tipp: \\n gilt als ein Char.*"
   ]
  },
  {
   "cell_type": "code",
   "execution_count": null,
   "id": "2825057f",
   "metadata": {
    "deletable": false,
    "nbgrader": {
     "grade": false,
     "grade_id": "cell-d343a0656d5e1a2d",
     "locked": false,
     "schema_version": 3,
     "solution": true,
     "task": false
    }
   },
   "outputs": [],
   "source": [
    "def sort_words(filename):\n",
    "    # YOUR CODE HERE\n",
    "    raise NotImplementedError()"
   ]
  },
  {
   "cell_type": "code",
   "execution_count": null,
   "id": "c70c56e1",
   "metadata": {
    "deletable": false,
    "editable": false,
    "nbgrader": {
     "grade": true,
     "grade_id": "cell-14821efd6cc5f2ba",
     "locked": true,
     "points": 1,
     "schema_version": 3,
     "solution": false,
     "task": false
    }
   },
   "outputs": [],
   "source": [
    "# Test für die Funktion sort_words\n",
    "from nose.tools import assert_equal, assert_not_equal\n",
    "\n",
    "fname = \"files/romeo.txt\"\n",
    "assert_not_equal(['Arise', 'But', 'It', 'Juliet', 'Who', 'already', 'and', 'breaks\\n', 'east', 'envious', 'fair', 'grief', 'is', 'kill', 'light', 'moon\\n', 'pale', 'sick', 'soft', 'sun', 'sun\\n', 'the', 'through', 'what', 'window', 'with', 'yonder'], sort_words(fname), \"Prüfe ob du das Umbruchzeichen entfernst\")\n",
    "assert_equal(['Arise', 'But', 'It', 'Juliet', 'Who', 'already', 'and', 'breaks', 'east', 'envious', 'fair', 'grief', 'is', 'kill', 'light', 'moon', 'pale', 'sick', 'soft', 'sun', 'the', 'through', 'what', 'window', 'with', 'yonder'], sort_words(fname), \"Da stimmt etwas noch nicht\")"
   ]
  },
  {
   "cell_type": "markdown",
   "id": "00bf7e41",
   "metadata": {
    "deletable": false,
    "editable": false,
    "nbgrader": {
     "grade": false,
     "grade_id": "cell-905dd6cd02c9f4e8",
     "locked": true,
     "schema_version": 3,
     "solution": false,
     "task": false
    }
   },
   "source": [
    "**Aufgabe 2:** MBOX (Mailbox) ist ein beliebtes Dateiformat zum Speichern und Freigeben einer Sammlung von E-Mails. Dies wurde von frühen E-MailServern und Desktop-Apps verwendet.\n",
    "\n",
    "Ohne zu sehr ins Detail zu gehen, ist MBOX eine Textdatei, die E-Mails fortlaufend speichert.\n",
    "E-Mails werden durch eine spezielle Zeile getrennt, die mit <code>From&nbsp;</code> beginnt (beachten Sie das Leerzeichen).\n",
    "\n",
    "Wichtig ist, dass Zeilen, die mit `From:` beginnen (beachten Sie den Doppelpunkt), die E-Mail selbst beschreiben und nicht als Trennzeichen fungieren.\n",
    "Stellen Sie sich vor, Sie schreiben eine minimalistische E-Mail-App, die die E-Mails der Absender im Posteingang des Benutzers auflistet und die Anzahl der E-Mails zählt.\n",
    "\n",
    "Schreiben Sie ein Programm, das die Daten der Mailbox durchläuft, und wenn Sie eine Zeile finden, die mit `From ` beginnt, teilen Sie die Zeile mit der Funktion split in Wörter auf.\n",
    "Wir sind daran interessiert, wer die Nachricht gesendet hat, also was das zweite Wort in der `From `-Zeile ist.\n",
    "\n",
    "Die Funktion <code>extract_senders</code> soll als Ergebnis (also mit `return`) zurückliefern, wie viele E-Mails in der Inbox stehen, also wie viele Zeilen insgesamt mit <code>From&nbsp;</code> beginnen.\n",
    "\n",
    "Beispieldatenquelle: [http://data.pr4e.org/mbox-short.txt](http://data.pr4e.org/mbox-short.txt)"
   ]
  },
  {
   "cell_type": "code",
   "execution_count": null,
   "id": "f5fa0d56",
   "metadata": {
    "deletable": false,
    "nbgrader": {
     "grade": false,
     "grade_id": "cell-a44cf395ba6c1d6a",
     "locked": false,
     "schema_version": 3,
     "solution": true,
     "task": false
    }
   },
   "outputs": [],
   "source": [
    "def extract_senders(filename):\n",
    "    # YOUR CODE HERE\n",
    "    raise NotImplementedError()"
   ]
  },
  {
   "cell_type": "code",
   "execution_count": null,
   "id": "1c96cef8",
   "metadata": {
    "deletable": false,
    "editable": false,
    "nbgrader": {
     "grade": true,
     "grade_id": "cell-ebbb23d541e71fc2",
     "locked": true,
     "points": 1,
     "schema_version": 3,
     "solution": false,
     "task": false
    }
   },
   "outputs": [],
   "source": [
    "# Test für die Funktion extract_senders\n",
    "from nose.tools import assert_equal\n",
    "\n",
    "assert_equal(27, extract_senders(\"files/mbox-short.mbox\"))"
   ]
  },
  {
   "cell_type": "markdown",
   "id": "53c837ed",
   "metadata": {
    "deletable": false,
    "editable": false,
    "nbgrader": {
     "grade": false,
     "grade_id": "cell-eefc5ee3a0abe785",
     "locked": true,
     "schema_version": 3,
     "solution": false,
     "task": false
    }
   },
   "source": [
    "**Aufgabe 3:** Schreiben Sie das Programm um, das den Benutzer zur Eingabe einer Liste von Zahlen auffordert und am Ende das Maximum und Minimum der Zahlen ausgibt, wenn der Benutzer `done` eingibt.\n",
    "\n",
    "Schreiben Sie das Programm so, dass es die Zahlen, die der Benutzer eingibt, in einer Liste speichert und die Funktionen `max()`und `min()` verwendet, um die größte und kleinste Zahl nach Abschluss der Schleife zu ermitteln.\n",
    "\n",
    "Geben Sie ein Tupel (oder eine Liste) mit 2 Elementen, nämlich dem gesuchten Minimum und Maximum  zurück (ebenfalls mit `return`). Wie bei den Aufgaben 1 und 2 prüft auch hier der Test keine Ausgaben mit `print`, sondern ob die Funktion bestimmte Ergebnisse zurückliefert."
   ]
  },
  {
   "cell_type": "code",
   "execution_count": null,
   "id": "06e914cc",
   "metadata": {
    "deletable": false,
    "nbgrader": {
     "grade": false,
     "grade_id": "cell-bbeb6a1e0cb55e0e",
     "locked": false,
     "schema_version": 3,
     "solution": true,
     "task": false
    }
   },
   "outputs": [],
   "source": [
    "def min_max():\n",
    "    # YOUR CODE HERE\n",
    "    raise NotImplementedError()"
   ]
  },
  {
   "cell_type": "code",
   "execution_count": null,
   "id": "1996390e",
   "metadata": {
    "deletable": false,
    "editable": false,
    "nbgrader": {
     "grade": true,
     "grade_id": "cell-4d6a6440a688b87f",
     "locked": true,
     "points": 1,
     "schema_version": 3,
     "solution": false,
     "task": false
    }
   },
   "outputs": [],
   "source": [
    "# Test für die Funktion min_max\n",
    "\n",
    "def myinput(inputs):\n",
    "    def foo(a):\n",
    "        print(a)\n",
    "        input.counter += 1\n",
    "        if input.counter > len(inputs) :\n",
    "            raise \"Nicht genügend inputs\"\n",
    "        else:\n",
    "            return inputs[input.counter-1]\n",
    "    foo.counter = 0\n",
    "    return foo\n",
    "\n",
    "from nose.tools import assert_equal, assert_not_equal\n",
    "\n",
    "input_old = input\n",
    "input = myinput(['2','4', '6', 'done'])\n",
    "s1 = min_max()\n",
    "input = input_old\n",
    "\n",
    "assert_equal(6, s1[0], \"Die Ausgabe stimmt nicht\")\n",
    "assert_equal(2, s1[1], \"Die Ausgabe stimmt nicht\")"
   ]
  }
 ],
 "metadata": {
  "kernelspec": {
   "display_name": "Python 3 (ipykernel)",
   "language": "python",
   "name": "python3"
  },
  "language_info": {
   "codemirror_mode": {
    "name": "ipython",
    "version": 3
   },
   "file_extension": ".py",
   "mimetype": "text/x-python",
   "name": "python",
   "nbconvert_exporter": "python",
   "pygments_lexer": "ipython3",
   "version": "3.10.6"
  }
 },
 "nbformat": 4,
 "nbformat_minor": 5
}
