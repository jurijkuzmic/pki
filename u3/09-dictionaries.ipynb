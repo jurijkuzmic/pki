{
 "cells": [
  {
   "cell_type": "markdown",
   "id": "17cf5659",
   "metadata": {},
   "source": [
    "<figure>\n",
    "  <IMG SRC=\"https://upload.wikimedia.org/wikipedia/commons/thumb/d/d5/Fachhochschule_Südwestfalen_20xx_logo.svg/320px-Fachhochschule_Südwestfalen_20xx_logo.svg.png\" WIDTH=250 ALIGN=\"right\">\n",
    "</figure>\n",
    "\n",
    "# Programmierung für KI\n",
    "### Winterersemester 2022/23\n",
    "Prof. Dr. Heiner Giefers"
   ]
  },
  {
   "cell_type": "markdown",
   "id": "5465f8f1",
   "metadata": {
    "deletable": false,
    "editable": false,
    "nbgrader": {
     "grade": false,
     "grade_id": "cell-fe9f344ad04c5690",
     "locked": true,
     "schema_version": 3,
     "solution": false,
     "task": false
    }
   },
   "source": [
    "**Aufgabe 1:** Schreiben Sie ein Programm, dass jede E-Mail-Nachricht danach kategorisiert, an welchem Wochentag sie versendet wurde.\n",
    "\n",
    "Suchen Sie dazu nach Zeilen, die mit <code>From&nbsp;</code> beginnen, suchen Sie dann nach dem dritten Wort und führen Sie eine laufende Zählung der einzelnen Wochentage durch.\n",
    "Am Ende des Programms geben Sie Ihr Dictionarys zurück (die Reihenfolge spielt keine Rolle)."
   ]
  },
  {
   "cell_type": "code",
   "execution_count": null,
   "id": "05272895",
   "metadata": {
    "deletable": false,
    "nbgrader": {
     "grade": false,
     "grade_id": "cell-5863b0cfcbd0e4b5",
     "locked": false,
     "schema_version": 3,
     "solution": true,
     "task": false
    }
   },
   "outputs": [],
   "source": [
    "def count_mails_by_weekday(filename):\n",
    "    # YOUR CODE HERE\n",
    "    raise NotImplementedError()"
   ]
  },
  {
   "cell_type": "code",
   "execution_count": null,
   "id": "bd0e1d85",
   "metadata": {
    "deletable": false,
    "editable": false,
    "nbgrader": {
     "grade": true,
     "grade_id": "cell-9cbd479dbf9b0325",
     "locked": true,
     "points": 1,
     "schema_version": 3,
     "solution": false,
     "task": false
    }
   },
   "outputs": [],
   "source": [
    "# Test für die Funktion count_mails_by_weekday\n",
    "from nose.tools import assert_equal\n",
    "\n",
    "fname = \"files/mbox-short.mbox\"\n",
    "res = count_mails_by_weekday(fname)\n",
    "\n",
    "assert_equal(3, len(res), \"Es stehen zu viele Werte im dict\")\n",
    "assert_equal(20, res[\"Fri\"], \"Die Zahl für Freitage stimmt nicht\")\n",
    "assert_equal(1, res[\"Sat\"], \"Die Zahl für Samstag stimmt nicht\")\n",
    "assert_equal(6, res[\"Thu\"], \"Die Zahl für Donnerstage stimmt nicht\")"
   ]
  },
  {
   "cell_type": "markdown",
   "id": "1a8874e3",
   "metadata": {
    "deletable": false,
    "editable": false,
    "nbgrader": {
     "grade": false,
     "grade_id": "cell-65448445cf99f529",
     "locked": true,
     "schema_version": 3,
     "solution": false,
     "task": false
    }
   },
   "source": [
    "**Aufgabe 2:** Schreiben Sie ein Programm, um ein E-Mail-Protokoll zu lesen. Erzeugen Sie ein Histogramm mithilfe eines Dictionarys, um zu zählen, wie viele Nachrichten von den einzelnen E-Mail-Adressen gekommen sind. Geben Sie das Dictionary dann zurück."
   ]
  },
  {
   "cell_type": "code",
   "execution_count": null,
   "id": "39793fb0",
   "metadata": {
    "deletable": false,
    "nbgrader": {
     "grade": false,
     "grade_id": "cell-7442cea4c24e7cff",
     "locked": false,
     "schema_version": 3,
     "solution": true,
     "task": false
    }
   },
   "outputs": [],
   "source": [
    "def count_mail_adresses_by_weekday(filename):\n",
    "    # YOUR CODE HERE\n",
    "    raise NotImplementedError()"
   ]
  },
  {
   "cell_type": "code",
   "execution_count": null,
   "id": "f38bf146",
   "metadata": {
    "deletable": false,
    "editable": false,
    "nbgrader": {
     "grade": true,
     "grade_id": "cell-6b7600855a664333",
     "locked": true,
     "points": 1,
     "schema_version": 3,
     "solution": false,
     "task": false
    }
   },
   "outputs": [],
   "source": [
    "# Test für die Funktion count_mails_by_weekday\n",
    "from nose.tools import assert_equal\n",
    "\n",
    "fname = \"files/mbox-short.mbox\"\n",
    "res = count_mail_adresses_by_weekday(fname)\n",
    "\n",
    "assert_equal(11, len(res), \"Es stehen zu viele Werte im dict\")\n",
    "assert_equal({'stephen.marquard@uct.ac.za': 2, 'louis@media.berkeley.edu': 3, 'zqian@umich.edu': 4, 'rjlowe@iupui.edu': 2, 'cwen@iupui.edu': 5, 'gsilver@umich.edu': 3, 'wagnermr@iupui.edu': 1, 'antranig@caret.cam.ac.uk': 1, 'gopal.ramasammycook@gmail.com': 1, 'david.horwitz@uct.ac.za': 4, 'ray@media.berkeley.edu': 1},\n",
    "             res, \"Die gezählten E-Mails stimmen nicht.\")"
   ]
  },
  {
   "cell_type": "markdown",
   "id": "5601f375",
   "metadata": {
    "deletable": false,
    "editable": false,
    "nbgrader": {
     "grade": false,
     "grade_id": "cell-fb9cdf20d6d071fb",
     "locked": true,
     "schema_version": 3,
     "solution": false,
     "task": false
    }
   },
   "source": [
    "**Aufgabe 3:** Bauen Sie ihr Programm so um, dass es die E-Mail Adresse mit den meisten Nachrichten zurück gibt.\n",
    "\n",
    "Nachdem alle Daten gelesen und das Dictionary erstellt wurde, durchsuchen Sie das Dictionary mithilfe einer Schleife nach dem Maximum (siehe Kapitel 5: Maximum und Minimum ermitteln), um herauszufinden, wer die meisten Nachrichten hat, und berechnen Sie aus, wie viele Nachrichten die Person bekommen hat.\n",
    "\n",
    "Geben Sie ein Tupel (oder eine Liste) mit 2 Elementen, nämlich dem String der gesuchten E-Mail Adresse und der Anzahl der E-Mails (mit `return`) zurück."
   ]
  },
  {
   "cell_type": "code",
   "execution_count": null,
   "id": "e4a7b0b7",
   "metadata": {
    "deletable": false,
    "nbgrader": {
     "grade": false,
     "grade_id": "cell-05713fbbe9800a31",
     "locked": false,
     "schema_version": 3,
     "solution": true,
     "task": false
    }
   },
   "outputs": [],
   "source": [
    "def max_count_mail_adresses(filename):\n",
    "    # YOUR CODE HERE\n",
    "    raise NotImplementedError()"
   ]
  },
  {
   "cell_type": "code",
   "execution_count": null,
   "id": "5702bbbd",
   "metadata": {
    "deletable": false,
    "editable": false,
    "nbgrader": {
     "grade": true,
     "grade_id": "cell-114a763e702f3664",
     "locked": true,
     "points": 1,
     "schema_version": 3,
     "solution": false,
     "task": false
    }
   },
   "outputs": [],
   "source": [
    "# Test für die Funktion  max_count_mails\n",
    "from nose.tools import assert_equal\n",
    "\n",
    "fname = \"files/mbox-short.mbox\"\n",
    "res = max_count_mail_adresses(fname)\n",
    "\n",
    "assert_equal(\"cwen@iupui.edu\", res[0], \"Die E-Mail Adresse ist falsch\")\n",
    "assert_equal(5, res[1], \"Die E-Mail Anzahl ist falsch\")"
   ]
  },
  {
   "cell_type": "markdown",
   "id": "e2d16139",
   "metadata": {},
   "source": [
    "**Aufgabe 4:** Schreiben Sie ein Programm, das nur den Domänennamen (anstelle der Adresse) aufzeichnet, von dem die Nachricht gesendet wurde. Es soll also nicht aufgezeichnet werden, von welchem konkreten Absender die E-Mail kam (das wäre die gesamte E-Mail-Adresse). Geben Sie am Ende der Funktion `count_mail_domains` das erstellte Dictionary (mit `return`) zurück.\n",
    "\n",
    "*Tipp: irgendwas@domäne*"
   ]
  },
  {
   "cell_type": "code",
   "execution_count": null,
   "id": "5b7fc202",
   "metadata": {
    "deletable": false,
    "nbgrader": {
     "grade": false,
     "grade_id": "cell-e7bab576cc6e0f06",
     "locked": false,
     "schema_version": 3,
     "solution": true,
     "task": false
    }
   },
   "outputs": [],
   "source": [
    "def count_mail_domains(filename):\n",
    "    # YOUR CODE HERE\n",
    "    raise NotImplementedError()"
   ]
  },
  {
   "cell_type": "code",
   "execution_count": null,
   "id": "458e6e7f",
   "metadata": {
    "deletable": false,
    "editable": false,
    "nbgrader": {
     "grade": true,
     "grade_id": "cell-532e64bcfc40154e",
     "locked": true,
     "points": 1,
     "schema_version": 3,
     "solution": false,
     "task": false
    }
   },
   "outputs": [],
   "source": [
    "# Test für die Funktion  count_mails_by_domains\n",
    "from nose.tools import assert_equal\n",
    "from nose.tools import assert_dict_equal\n",
    "\n",
    "fname = \"files/mbox-short.mbox\"\n",
    "res = count_mail_domains(fname)\n",
    "\n",
    "assert_equal(6, len(res), \"Die Anzahl der Werte ist falsch\")\n",
    "#assert_equal({'uct.ac.za': 6, 'media.berkeley.edu': 4, 'umich.edu': 7, 'iupui.edu': 8, 'caret.cam.ac.uk': 1, 'gmail.com': 1},\n",
    "#             res, \"Die Werte im dict sind falsch\")\n",
    "assert_dict_equal({'uct.ac.za': 6, 'media.berkeley.edu': 4, 'umich.edu': 7, 'iupui.edu': 8, 'caret.cam.ac.uk': 1, 'gmail.com': 1},\n",
    "             res, \"Die Werte im dict sind falsch\")"
   ]
  }
 ],
 "metadata": {
  "kernelspec": {
   "display_name": "Python 3 (ipykernel)",
   "language": "python",
   "name": "python3"
  },
  "language_info": {
   "codemirror_mode": {
    "name": "ipython",
    "version": 3
   },
   "file_extension": ".py",
   "mimetype": "text/x-python",
   "name": "python",
   "nbconvert_exporter": "python",
   "pygments_lexer": "ipython3",
   "version": "3.10.6"
  }
 },
 "nbformat": 4,
 "nbformat_minor": 5
}
