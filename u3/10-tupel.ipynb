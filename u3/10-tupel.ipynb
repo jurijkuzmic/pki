{
 "cells": [
  {
   "cell_type": "markdown",
   "id": "7510d4c6",
   "metadata": {},
   "source": [
    "<figure>\n",
    "  <IMG SRC=\"https://upload.wikimedia.org/wikipedia/commons/thumb/d/d5/Fachhochschule_Südwestfalen_20xx_logo.svg/320px-Fachhochschule_Südwestfalen_20xx_logo.svg.png\" WIDTH=250 ALIGN=\"right\">\n",
    "</figure>\n",
    "\n",
    "# Programmierung für KI\n",
    "### Winterersemester 2022/23\n",
    "Prof. Dr. Heiner Giefers"
   ]
  },
  {
   "cell_type": "markdown",
   "id": "9382edd8",
   "metadata": {
    "deletable": false,
    "editable": false,
    "nbgrader": {
     "grade": false,
     "grade_id": "cell-561d947c0ab6ce35",
     "locked": true,
     "schema_version": 3,
     "solution": false,
     "task": false
    }
   },
   "source": [
    "**Aufgabe 1:** Das Programm aus Kapitel 9, Übung 3 soll auf folgende Weise überarbeitet werden:\n",
    "\n",
    "Die <code>From&nbsp;</code>-Zeilen sollen gelesen und geparst werden, um im Folgenden die Adressen aus der Zeile zu extrahieren. Dabei soll mit Hilfe eines Wörterbuchs die Anzahl der Nachrichten von jeder Person gezählt werden.\n",
    "\n",
    "Nachdem alle Daten gelesen wurden, soll die Person mit den meisten Nachrichten ausgegeben werden, indem eine Liste von (count, email)-Tupeln aus dem Wörterbuch erstellt wird. Dann muss die Liste in umgekehrter Reihenfolge sortiert und schließlich die Person mit den meisten Nachrichten zurückgegeben werden.\n",
    "\n",
    "Die Funktion `max_count_mail_adresses` soll also ein Tupel zurückliefern (also mit `return`), bei dem das erste Element der String der gesuchten E-Mail Adresse ist und das zweite Element die Anzahl der gesendeten E-Mails."
   ]
  },
  {
   "cell_type": "code",
   "execution_count": null,
   "id": "8d08824d",
   "metadata": {
    "deletable": false,
    "nbgrader": {
     "grade": false,
     "grade_id": "cell-88a0e8684be45c0a",
     "locked": false,
     "schema_version": 3,
     "solution": true,
     "task": false
    }
   },
   "outputs": [],
   "source": [
    "def max_count_mail_adresses(filename):\n",
    "    # YOUR CODE HERE\n",
    "    raise NotImplementedError()"
   ]
  },
  {
   "cell_type": "code",
   "execution_count": null,
   "id": "b27d7b81",
   "metadata": {
    "deletable": false,
    "editable": false,
    "nbgrader": {
     "grade": true,
     "grade_id": "cell-871ba8cd03698f18",
     "locked": true,
     "points": 1,
     "schema_version": 3,
     "solution": false,
     "task": false
    }
   },
   "outputs": [],
   "source": [
    "# Test für die Funktion max_count_mails\n",
    "from nose.tools import assert_equal\n",
    "\n",
    "fname = \"files/mbox-short.mbox\"\n",
    "res = max_count_mail_adresses(fname)\n",
    "\n",
    "assert_equal(\"cwen@iupui.edu\", res[0], \"Die E-Mail Adresse ist falsch\")\n",
    "assert_equal(5, res[1], \"Die E-Mail Anzahl ist falsch\")"
   ]
  },
  {
   "cell_type": "markdown",
   "id": "30f68ac7",
   "metadata": {
    "deletable": false,
    "editable": false,
    "nbgrader": {
     "grade": false,
     "grade_id": "cell-eb1ca4c4eb1d6445",
     "locked": true,
     "schema_version": 3,
     "solution": false,
     "task": false
    }
   },
   "source": [
    "**Aufgabe 2:** Schreiben Sie ein Programm, welches die Häufigkeit von Nachrichten pro Tageszeit ermittelt. Die Tageszeit soll in Intervalle von jeweils einer Stunde eingeteilt werden. Es genügt also, den Stunden-Anteil des Zeitstempels zu betrachten.\n",
    "\n",
    "Die Stunden sollen aus der <code>From&nbsp;</code>-Zeile extrahiert werden, indem die Uhrzeit-Zeichenfolge gefunden und diese Zeichenfolge dann anhand des Doppelpunkts in Teile zergliedert wird. Sobald die Nachrichtenhäufigkeit für jede Stunde gesammelt wurde, sollen diese als Dictionary (mit `return`) zurückgegeben werden."
   ]
  },
  {
   "cell_type": "code",
   "execution_count": null,
   "id": "04c798f4",
   "metadata": {
    "deletable": false,
    "nbgrader": {
     "grade": false,
     "grade_id": "cell-c0448436a6364f59",
     "locked": false,
     "schema_version": 3,
     "solution": true,
     "task": false
    }
   },
   "outputs": [],
   "source": [
    "def count_mail_per_hour(filename):\n",
    "    # YOUR CODE HERE\n",
    "    raise NotImplementedError()"
   ]
  },
  {
   "cell_type": "code",
   "execution_count": null,
   "id": "b864fcc8",
   "metadata": {
    "deletable": false,
    "editable": false,
    "nbgrader": {
     "grade": true,
     "grade_id": "cell-4ad69e362fb2d53a",
     "locked": true,
     "points": 1,
     "schema_version": 3,
     "solution": false,
     "task": false
    }
   },
   "outputs": [],
   "source": [
    "# Test für die Funktion max_count_mails\n",
    "from nose.tools import assert_equal\n",
    "\n",
    "fname = \"files/mbox-short.mbox\"\n",
    "res = count_mail_per_hour(fname)\n",
    "\n",
    "assert_equal(12, len(res), \"Die Uhrzeit-Anzahl ist falsch\")"
   ]
  },
  {
   "cell_type": "markdown",
   "id": "fba2b58c",
   "metadata": {
    "deletable": false,
    "editable": false,
    "nbgrader": {
     "grade": false,
     "grade_id": "cell-efd77419ed7ad332",
     "locked": true,
     "schema_version": 3,
     "solution": false,
     "task": false
    }
   },
   "source": [
    "**Aufgabe 3:** Schreiben Sie ein Programm, das eine Datei liest und die Ziffern in absteigender Reihenfolge der Häufigkeit ausgibt. Das Programm soll nur die Ziffern `0`-`9` zählen. Es soll keine Leerzeichen, Buchstaben, Interpunktionszeichen oder irgendetwas anderes als die Ziffern `0`-`9` zählen.\n",
    "\n",
    "Die Funktion `count_digits` soll ein Dictionary (mit `return`) zurückgegeben werden, bei dem die Ziffern `0`-`9` als Schlüssel und die entsprechenden Häufigkeiten als Werte eingetragen sind.\n",
    "\n",
    "*Tipp: Laden Sie die Dateien mit open(filename, 'r', encoding='utf8')*\n",
    "\n",
    "Beispieltext Deutsch: https://de.wikipedia.org/wiki/Computer"
   ]
  },
  {
   "cell_type": "code",
   "execution_count": null,
   "id": "5145a0ca",
   "metadata": {
    "deletable": false,
    "nbgrader": {
     "grade": false,
     "grade_id": "cell-7ed38953021a3d0b",
     "locked": false,
     "schema_version": 3,
     "solution": true,
     "task": false
    }
   },
   "outputs": [],
   "source": [
    "def count_digits(filename):\n",
    "    # YOUR CODE HERE\n",
    "    raise NotImplementedError()"
   ]
  },
  {
   "cell_type": "code",
   "execution_count": null,
   "id": "d023ffbe",
   "metadata": {
    "deletable": false,
    "editable": false,
    "nbgrader": {
     "grade": true,
     "grade_id": "cell-f4ef98edff3a5ccf",
     "locked": true,
     "points": 1,
     "schema_version": 3,
     "solution": false,
     "task": false
    }
   },
   "outputs": [],
   "source": [
    "# Test für die Funktion count_chars\n",
    "from nose.tools import assert_equal, assert_dict_equal\n",
    "\n",
    "# Test\n",
    "\n",
    "wikipedia_computer = '''Charles Babbage und Ada Lovelace gelten durch die von Babbage 1837 entworfene Rechenmaschine Analytical Engine als Vordenker des modernen universell programmierbaren Computers. Konrad Zuse (Z3, 1941 und Z4, 1945) in Berlin, John Presper Eckert und John William Mauchly (ENIAC, 1946) bauten die ersten funktionstüchtigen Geräte dieser Art. Bei der Klassifizierung eines Geräts als universell programmierbarer Computer spielt die Turing-Vollständigkeit eine wesentliche Rolle. Sie ist benannt nach dem englischen Mathematiker Alan Turing, der 1936 das logische Modell der Turingmaschine eingeführt hatte.[1][2]'''\n",
    "with open('test.txt', 'w') as f:\n",
    "    f.write(wikipedia_computer)\n",
    "\n",
    "fname = \"test.txt\"\n",
    "res = count_digits(fname)\n",
    "assert_equal(9, len(res), \"Die Anzahl der Ziffern stimmt nicht\")\n",
    "assert_dict_equal({'1': 7, '8': 1, '3': 3, '7': 1, '9': 4, '4': 4, '5': 1, '6': 2, '2': 1},res, \"Die gezählten Werte stimmen nicht\")"
   ]
  }
 ],
 "metadata": {
  "kernelspec": {
   "display_name": "Python 3 (ipykernel)",
   "language": "python",
   "name": "python3"
  },
  "language_info": {
   "codemirror_mode": {
    "name": "ipython",
    "version": 3
   },
   "file_extension": ".py",
   "mimetype": "text/x-python",
   "name": "python",
   "nbconvert_exporter": "python",
   "pygments_lexer": "ipython3",
   "version": "3.10.6"
  }
 },
 "nbformat": 4,
 "nbformat_minor": 5
}
