{
 "cells": [
  {
   "cell_type": "markdown",
   "metadata": {},
   "source": [
    "<figure>\n",
    "  <IMG SRC=\"https://upload.wikimedia.org/wikipedia/commons/thumb/d/d5/Fachhochschule_Südwestfalen_20xx_logo.svg/320px-Fachhochschule_Südwestfalen_20xx_logo.svg.png\" WIDTH=250 ALIGN=\"right\">\n",
    "</figure>\n",
    "\n",
    "# Programmierung für KI\n",
    "### Winterersemester 2022/23\n",
    "Prof. Dr. Heiner Giefers"
   ]
  },
  {
   "cell_type": "markdown",
   "metadata": {},
   "source": [
    "# Praktikumstermin 2\n",
    "1. Rückblick auf die Inhalte der letzten Kapitel\n",
    "   - Schleifen und Funktionen\n",
    "   - Dateien lesen und schreiben\n",
    "   - Zeichenketten\n",
    "2. Turtle Grafiken\n",
    "   "
   ]
  },
  {
   "cell_type": "markdown",
   "metadata": {},
   "source": [
    "### Schleifen und Funktionen\n",
    "\n",
    "So gut wie jedes Programm verwendet Schleifen und Funktionen.\n",
    "Es sind, neben der *bedingten Ausführung* (bzw. der *alternativen Ausführung*) die wichtigsten Elemente zur Strukturierung von Programmen.\n",
    "In den kommenden Aufgaben, wollen wir noch einmal das Schreiben von Funktionen und Schleifen üben."
   ]
  },
  {
   "cell_type": "markdown",
   "metadata": {},
   "source": [
    "Funktionen in Python werden über das Schlüsselwort def definiert. Die Syntax einer Funktions-Definition sieht folgendermaßen aus:\n",
    "\n",
    "```python\n",
    "def myfunc(arg1, arg2,... argN):  \n",
    "  '''Dokumentation'''  \n",
    "\n",
    "  #Programmcode, optional mit return Anweisungen\n",
    "```\n",
    "\n",
    "Hier wird die Funktion `myfunc` definiert, welche mit den Parametern `arg1,arg2,....argN` aufgerufen wird.\n",
    "Wir können bereits bei der Definition der Funktion Werte für einzelne Parameter angeben.\n",
    "Jemand, der die Funktion verwendet, kann dann den Paramter weglassen und es wird der *default* Wert übernommen.\n",
    "Die Parameter, die zwingend beim Aufruf der Funktion angegeben werden müssen, stehen vorne in der Liste, die mit *default*-Werten stehen hinten.\n",
    "\n",
    "Wenn beim Programmaufruf Parameter angegeben werden, müssen diese in der gleichen Reihenfolge wie bei der Funktionsdefinition angegeben werden.\n",
    "Sollen einige der *default*-Parameter übernommen werden, *fehlen* dieses Werte beim Funktionsaufruf und die Reihenfolge stimmt ab dem ersten übernommenen *default*-Parameter nicht mehr. In diesem Fall ist es notwendig, die folgenden Parameter, deren *default*-Werte überschrieben werden sollen, namentlich zu benennen."
   ]
  },
  {
   "cell_type": "markdown",
   "metadata": {},
   "source": [
    "Schauen wir uns die folgende Definition der Funktion `operator_tabelle` an.\n",
    "Die Funktion besitzt drei Parameter:\n",
    "`op` soll vom Typ `str` sein und die zu verwendende Operation angeben, `von` und `bis` legen den Start- bzw. Endwert der Operationstabelle fest.\n",
    "Die Angabe eines Wertes für `op` ist von der Funktion gefordert. \n",
    "Für `von` und `bis` sind jeweils Werte vorgegeben, die aber nur verwendet werden, wenn entsprechende Argumente beim Funktionsaufruf weggelassen werden.\n",
    "\n",
    "Was die Funktion tut und wie sie aufgerufen werden soll, wird auch im **`Docstring`** erklärt.\n",
    "Dieser String kann am Anfang einer Funktion gesetzt werden.\n",
    "Er dient zum Einen der besseren Verständlichkeit des Quellcodes.\n",
    "Zum Anderen wird dieser String angezeigt, wenn die Python Hilfe-Funktion `help` mit dem Namen der Funktion aufgerufen wird.\n",
    "Dies hilft den Personen, die die Funktion verwenden wollen, aber nicht unmittelbaren Zugriff auf den Quellcode haben.\n",
    "\n",
    "**`return`** Anweisungen können grundsätzlich überall in der Funktion verwendet werden.\n",
    "Es kann auch an mehreren Stellen ein `return`-Aufruf stehen, allerdings kann eine Funktion nur jeweils eine dieser Anweisungen ausführen.\n",
    "Nach einem `return` wird die Funktion verlassen und bei einem erneuten Aufruf beginnt die Funktion wieder *von Vorne*."
   ]
  },
  {
   "cell_type": "code",
   "execution_count": null,
   "metadata": {},
   "outputs": [],
   "source": [
    "def operator_tabelle(op, von=1, bis=10):\n",
    "    '''Die Funktion berechnet Additions- und Multiplikationstabellen.\n",
    "    \n",
    "    Parameters\n",
    "    ----------\n",
    "    op : str\n",
    "            Der zu verwendende Operator, angegeben als String.\n",
    "            Nur '+' und '*' werden unterstützt.\n",
    "\n",
    "    von, bis: int, optional\n",
    "            Start- und Endwert der Operationstabelle.\n",
    "            \n",
    "    Raises\n",
    "    ------\n",
    "    ValueError\n",
    "            Wenn ein nicht unterstüzter Operator angegben wird.\n",
    "    '''\n",
    "    \n",
    "    tabelle = \"\"\n",
    "    if op=='+' or op=='*':\n",
    "        for zeile in range(von, bis+1):\n",
    "            for spalte in range(von, bis+1):\n",
    "                if op=='+':\n",
    "                    tabelle += f\"{zeile+spalte:4d}\"\n",
    "                else:\n",
    "                    tabelle += f\"{zeile*spalte:4d}\"\n",
    "            tabelle += '\\n'\n",
    "        return tabelle\n",
    "    else:\n",
    "        raise ValueError(\"Fehler: Ich kann nur '+' oder '*' rechnen!\")\n",
    "\n",
    "s = operator_tabelle('*', bis=5)\n",
    "print(s)"
   ]
  },
  {
   "cell_type": "code",
   "execution_count": null,
   "metadata": {},
   "outputs": [],
   "source": [
    "help(operator_tabelle)"
   ]
  },
  {
   "cell_type": "markdown",
   "metadata": {},
   "source": [
    "**Aufgabe 1:** Kann eine Python Funktion (je nach Aufruf) verschiedene Typen zurück liefern?"
   ]
  },
  {
   "cell_type": "code",
   "execution_count": null,
   "metadata": {
    "deletable": false,
    "nbgrader": {
     "grade": true,
     "grade_id": "cell-cda4d023f0634965",
     "locked": false,
     "points": 0,
     "schema_version": 3,
     "solution": true,
     "task": false
    }
   },
   "outputs": [],
   "source": [
    "# Probieren Sie es einfach aus\n",
    "# YOUR CODE HERE\n",
    "raise NotImplementedError()"
   ]
  },
  {
   "cell_type": "markdown",
   "metadata": {},
   "source": [
    "**Aufgabe 2:** Schreiben Sie eine Funktion `fak`, die eine ganze Zahl als Parameter entgegennimmt und die Fakultät dieser Zahl als Ergebnis zurückliefert. Für die Parameter soll weiterhin gelten:\n",
    "- Falls der Parameter eine Fließkommazahl ist, soll diese zu einem Integer umgewandelt werden.\n",
    "- Falls der Parameter weder vom Typ `int`, noch vom Typ `float`ist, soll die Funktion einen `ValueError` erzeugen.\n",
    "- Wenn der Parameter weggelassen wird, soll standardmäßig die Fakultät von 42 berechnet werden."
   ]
  },
  {
   "cell_type": "code",
   "execution_count": null,
   "metadata": {
    "deletable": false,
    "nbgrader": {
     "grade": false,
     "grade_id": "cell-3052fd6ef6e2e89b",
     "locked": false,
     "schema_version": 3,
     "solution": true,
     "task": false
    }
   },
   "outputs": [],
   "source": [
    "# YOUR CODE HERE\n",
    "raise NotImplementedError()"
   ]
  },
  {
   "cell_type": "code",
   "execution_count": null,
   "metadata": {
    "deletable": false,
    "editable": false,
    "nbgrader": {
     "grade": true,
     "grade_id": "cell-ad5460e73674150e",
     "locked": true,
     "points": 1,
     "schema_version": 3,
     "solution": false,
     "task": false
    }
   },
   "outputs": [],
   "source": [
    "### TEST ZELLE\n",
    "assert fak(5)==120, \"Bei der Fakultäts-Funktion stimmt etwas nicht\"\n",
    "assert fak()==1405006117752879898543142606244511569936384000000000, \"Default Parameter verwenden\"\n",
    "\n",
    "try:\n",
    "    etype=False\n",
    "    fak('w')\n",
    "except ValueError:\n",
    "    etype = True\n",
    "except Exception as e:\n",
    "    pass\n",
    "assert etype, \"Bei falschem Paramter einen ValueError erzeugen\""
   ]
  },
  {
   "cell_type": "markdown",
   "metadata": {},
   "source": [
    "**Aufgabe 3:** Schreiben Sie eine Funktion ggt(a,b), die den größten gemeinsamen Teiler (ggT) zweier Zahlen berechnet.\n",
    "\n",
    "\n",
    "Hinweise: Eine effiziente Möglichkeit, den ggT zu berechnen ist der euklidische Algorithmus. Das Verfahren funktioniert folgendermaßen:\n",
    "\n",
    "1. Solange `b!=0` (*b ungleich 0*) gilt, wiederhole folgende Schritte:\n",
    "    - Berechne `r` als den ganzzahligen **Rest** der Division  `𝑎/𝑏`  (also: \"r gleich a modulo b\")\n",
    "    - Setze `a=b` und `b=r`\n",
    "1. Gebe a als Ergebnis zurück\n"
   ]
  },
  {
   "cell_type": "code",
   "execution_count": null,
   "metadata": {
    "deletable": false,
    "nbgrader": {
     "grade": false,
     "grade_id": "cell-bfeb0b8aa13f5cae",
     "locked": false,
     "schema_version": 3,
     "solution": true,
     "task": false
    }
   },
   "outputs": [],
   "source": [
    "def ggt(a, b):\n",
    "    # YOUR CODE HERE\n",
    "    raise NotImplementedError()"
   ]
  },
  {
   "cell_type": "code",
   "execution_count": null,
   "metadata": {
    "deletable": false,
    "editable": false,
    "nbgrader": {
     "grade": true,
     "grade_id": "cell-f3f15388f6852fe6",
     "locked": true,
     "points": 1,
     "schema_version": 3,
     "solution": false,
     "task": false
    }
   },
   "outputs": [],
   "source": [
    "### TEST ZELLE\n",
    "test_cases = [(123, 321, 3),(545,654, 109),(459,666, 9)]\n",
    "assert all([ggt(a,b)==c for a, b, c in test_cases]), ''"
   ]
  },
  {
   "cell_type": "markdown",
   "metadata": {},
   "source": [
    "**Zusatzaufgabe:**\n",
    "\n",
    "Sie haben nun eine `ggt` Funktion, die den größten gemeinsamen Teiler zweier Zahlen berechnet.\n",
    "Falls Sie den ggT von mehr als 2 Zahlen berechnen wollen, können Sie die Funktion `ggt` mehrfach benutzen.\n",
    "Nehmen wir an Sie wollen den ggt der Zahlen `a`, `b`, und `c` berechnen.\n",
    "Es gilt:\n",
    "\n",
    "$ggT(a,b,c)=ggT(ggT(a,b),c)$.\n",
    "\n",
    "Da für die ggT Funktion das Assoziativgesetz gilt, ist es unerheblich, in welcher \"Reihenfolge\" Sie die Funktion aufrufen.\n",
    "Es gilt also:\n",
    "\n",
    "$ggT(ggT(a,b),c)=ggT(a,ggT(b,c)$.\n",
    "\n",
    "**Schreiben Sie eine Funktion `ggt_x`, die den ggT von 2 und mehr Zahlen berechnet.**\n",
    "\n",
    "**Hinweise:** Verwenden Sie variable (Positions-) Parameter nach dem Muster `ggt_x(a, b, *weitere)`."
   ]
  },
  {
   "cell_type": "code",
   "execution_count": null,
   "metadata": {
    "deletable": false,
    "nbgrader": {
     "grade": false,
     "grade_id": "cell-381f67e1bf0eb9bf",
     "locked": false,
     "schema_version": 3,
     "solution": true,
     "task": false
    }
   },
   "outputs": [],
   "source": [
    "def ggt_x(a, b, *weitere):\n",
    "    # YOUR CODE HERE\n",
    "    raise NotImplementedError()"
   ]
  },
  {
   "cell_type": "code",
   "execution_count": null,
   "metadata": {
    "deletable": false,
    "editable": false,
    "nbgrader": {
     "grade": true,
     "grade_id": "cell-f743fd5ad6da7f22",
     "locked": true,
     "points": 0,
     "schema_version": 3,
     "solution": false,
     "task": false
    }
   },
   "outputs": [],
   "source": [
    "### TEST ZELLE\n",
    "assert ggt_x(120, 540) == 60, 'Die Funktion soll auch mit 2 Parametern funktionieren.'\n",
    "assert ggt_x(120, 540, 1200, 3420, 5620) == 20, 'Bei der Lösung stimmt etwas nicht.'"
   ]
  },
  {
   "cell_type": "markdown",
   "metadata": {},
   "source": [
    "### Dateien lesen und Schreiben\n",
    "\n",
    "Daten aus Dateien zu lesen oder zu schreiben benötigt man ständig. Wir wollen das anhand einer kleinen Aufgabe nochmal üben:\n",
    "\n",
    "**Aufgabe 4a:** Schreiben Sie drei oder mehr Strings als Zeilen in eine Datei und schließen Sie die Datei. anschließend."
   ]
  },
  {
   "cell_type": "code",
   "execution_count": null,
   "metadata": {
    "deletable": false,
    "nbgrader": {
     "grade": false,
     "grade_id": "cell-61d2494438025638",
     "locked": false,
     "schema_version": 3,
     "solution": true,
     "task": false
    }
   },
   "outputs": [],
   "source": [
    "file_name = \"ausgabe.txt\"\n",
    "\n",
    "fobj = None # Verwende fobj als Datei Handle\n",
    "# YOUR CODE HERE\n",
    "raise NotImplementedError()"
   ]
  },
  {
   "cell_type": "code",
   "execution_count": null,
   "metadata": {
    "deletable": false,
    "editable": false,
    "nbgrader": {
     "grade": true,
     "grade_id": "cell-201ec32995367ce3",
     "locked": true,
     "points": 0,
     "schema_version": 3,
     "solution": false,
     "task": false
    }
   },
   "outputs": [],
   "source": [
    "### TEST ZELLE\n",
    "assert fobj.closed, 'Datei ist nicht geschlossen'\n",
    "try:\n",
    "    file = open(file_name, \"r\")\n",
    "    assert file.read().count('\\n')>2, '\"ausgabe.txt\" enthält weniger als 3 Zeilen'\n",
    "    file.close()\n",
    "except FileNotFoundError:\n",
    "    print('\"ausgabe.txt\" ist nicht erstellt')\n",
    "    raise"
   ]
  },
  {
   "cell_type": "markdown",
   "metadata": {},
   "source": [
    "**Aufgabe 4b:** Öffnen Sie die Datei `ausgabe.txt` zum Lesen und geben Sie den Inhalt aus."
   ]
  },
  {
   "cell_type": "code",
   "execution_count": null,
   "metadata": {
    "deletable": false,
    "nbgrader": {
     "grade": false,
     "grade_id": "cell-c37104af1f381b84",
     "locked": false,
     "schema_version": 3,
     "solution": true,
     "task": false
    }
   },
   "outputs": [],
   "source": [
    "# YOUR CODE HERE\n",
    "raise NotImplementedError()"
   ]
  },
  {
   "cell_type": "code",
   "execution_count": null,
   "metadata": {
    "deletable": false,
    "editable": false,
    "nbgrader": {
     "grade": true,
     "grade_id": "cell-945b4331136cba10",
     "locked": true,
     "points": 1,
     "schema_version": 3,
     "solution": false,
     "task": false
    }
   },
   "outputs": [],
   "source": [
    "### TEST ZELLE\n",
    "from unittest.mock import patch\n",
    "with patch('__main__.print') as mock_print:\n",
    "     exec(_i)\n",
    "mock_print.assert_called()\n",
    "assert fobj.closed, 'File is not closed'"
   ]
  },
  {
   "cell_type": "markdown",
   "metadata": {},
   "source": [
    "### Strings und Konvertierung\n",
    "\n",
    "**Aufgabe 5:** Implementieren Sie eine Funktion `sternchen`, die als Argument einen String oder eine Zahl akzeptiert. Sie soll als Rückgabewert einen String liefern, der vorne und hinten je drei Sternchen und dazwischen, durch Leerzeichen abgetrennt, den Parameter enthält. Also z. B.:\n",
    "```python\n",
    "sternchen(\"Hallo\") # soll \"*** Hallo ***\" zurückgeben\n",
    "sternchen(42)      # soll \"*** 42 ***\"    zurückgeben\n",
    "sternchen(4.123)   # soll \"*** 4.123 ***\" zurückgeben\n",
    "```\n",
    "Sie können für die Umwandlung von Zahlen in Strings die Funktion `str()` verwenden, sollen diese aber nur aufrufen, wenn der Parameter kein String ist. Bei der Implementierung wird Ihnen die Funktion `type()` helfen."
   ]
  },
  {
   "cell_type": "code",
   "execution_count": null,
   "metadata": {
    "deletable": false,
    "nbgrader": {
     "grade": false,
     "grade_id": "cell-c1c7e574c742012d",
     "locked": false,
     "schema_version": 3,
     "solution": true,
     "task": false
    }
   },
   "outputs": [],
   "source": [
    "def sternchen(x):\n",
    "    # YOUR CODE HERE\n",
    "    raise NotImplementedError()"
   ]
  },
  {
   "cell_type": "code",
   "execution_count": null,
   "metadata": {
    "deletable": false,
    "editable": false,
    "nbgrader": {
     "grade": true,
     "grade_id": "cell-21149defe9cc71ae",
     "locked": true,
     "points": 1,
     "schema_version": 3,
     "solution": false,
     "task": false
    }
   },
   "outputs": [],
   "source": [
    "### TEST ZELLE\n",
    "assert not [a for a in [15, 'Hallo'] if sternchen(a) != f'*** {a} ***'], 'Die Lösung ist nicht korrekt'"
   ]
  },
  {
   "cell_type": "markdown",
   "metadata": {},
   "source": [
    "## Zeichnen mit `Turtle` (optional)\n",
    "\n",
    "\n",
    "Logo ist eine Programmiersprache, die in den 1960-er Jahren am MIT entwickelt wurde und ursprünglich für den Einsatz in Schulen konzipiert war, um Kindern das Programmieren näher zu bringen.\n",
    "Eine *Spezialität* von Logo sind sogenannte **Turtle-Grafiken**. Dabei handelt es sich um Strichzeichnungen, die entstehen, wenn sich eine *virtuelle Schiltkröte*, durch ein Programm gesteuert, über eine Zeichenfläche bewegt und dabei farbige Striche hinterlässt.\n",
    "Auch für Python gibt es entsprechende Bibliotheken/Module, mit den Turtle-Grafiken erstellt werden können.\n",
    "\n",
    "Das Ganze klingt sehr spielerisch, allerdings kann man mit Turtle Grafiken sehr gut Abläufe visualisieren, wie Sie mit Schleifen (für die Wiederholung von *Mustern*) und Funktionen (für das Kapseln von Mustern in wiederverwendbaren Blöcken) programmiert werden können."
   ]
  },
  {
   "cell_type": "markdown",
   "metadata": {},
   "source": [
    "`Turtle` kommt mit sehr wenigen Funktionen aus.\n",
    "Allerdings gibt es, selbst für Python, verschiedenste Turtle Implementierungen, die jeweils einen unterschiedlichen Funktionsumfang bieten.\n",
    "\n",
    "Eine Turtle-Version die sich in Jupyter-Notebooks anzeigen lässt ist `ipyturtle` und bietet nur sehr wenige Funktionen.\n",
    "Hier eine Übersicht dazu:\n",
    "\n",
    "- `position()` Liefert die Position der Schildkröte auf der Zeichenfläche.\n",
    "- `forward(length)` Bewegt die Schildkröte `length`Schritte vorwärts.\n",
    "- `back(length)` Bewegt die Schildkröte `length`Schritte rückwärts.\n",
    "- `heading()` Liefert die aktuelle Richtung Schildkröte als Gradmaß. Die Richtung der x-Achse (\"Blickrichtung nach rechts\") entsricht 0°.\n",
    "- `left(degree=None)` Dreht die Schildkröte um `degree` Grad nach links.\n",
    "- `right(degree=None)` Dreht die Schildkröte um `degree` Grad nach rechts.\n",
    "- `penup()`  \"Hebt den Stift\", die folgenden Bewegungen der Schidkröte hinterlassen keine Linien.\n",
    "- `pendown()` \"Senkt den Stift\", die folgenden Bewegungen der Schidkröte hinterlassen Linien.\n",
    "- `isdown()` Liefert `True`, wenn der Stift \"abgesenkt\" ist, ansonsten `False`.\n",
    "- `hideturtle()` Die Zeichenspitze (Schildkröte bzw. der Pfeil) werden nicht mehr angezeigt.\n",
    "- `showturtle()` Die Zeichenspitze (Schildkröte bzw. der Pfeil) werden angezeigt.\n",
    "- `isvisible()` Liefert `True`, wenn Zeichenspitze ngezeigt wird, ansonsten `False`.\n",
    "- `reset()` Löscht die Zeichenfläche und bringt die Schildkröte in die Ausgangsposition\n",
    "- `pencolor(r=-1,g=-1,b=-1)` Legt die Farbe des Stiftes fest."
   ]
  },
  {
   "cell_type": "markdown",
   "metadata": {},
   "source": [
    "In der folgenden Code Zelle werden die notwendigen Module importiert und die Zeichenfläche initialisiert.\n",
    "Die Turtle-Bibliothek `ipyturtle` ist *objektorientiert*, das bedeutet, dass alle Operationen auf einem *Objekt der Klasse Turtle* ausgeführt werden müssen.\n",
    "Um dies zu umgehen, werden in der folgenden Zelle die Turtle-Funktionen *um-definiert*, sodass Sie auf einem globalen Objekt `t` ausgeführt werden.\n",
    "Schauen Sie sich den Code gerne an, für die Lösung der Aufgaben können Sie ihn aber ignorieren."
   ]
  },
  {
   "cell_type": "code",
   "execution_count": null,
   "metadata": {},
   "outputs": [],
   "source": [
    "ON_JHUB = True\n",
    "\n",
    "from random import randint, choice, random, seed\n",
    "\n",
    "rad = 300\n",
    "XYSIZE = 2*rad\n",
    "STEPSIZE = 20\n",
    "\n",
    "if ON_JHUB:\n",
    "    from ipyturtle import *\n",
    "    t = Turtle(width=XYSIZE, height=XYSIZE)\n",
    "else:\n",
    "    from turtle import Turtle, Screen\n",
    "    t = Turtle()\n",
    "    screen = Screen()\n",
    "    screen.setup(XYSIZE, XYSIZE)\n",
    "    t.speed(0)\n",
    "\n",
    "def position(): return t.position();\n",
    "def forward(length): t.forward(length);\n",
    "def back(length): t.back(length);\n",
    "def heading(): return t.heading();\n",
    "def goto(x, y=0):\n",
    "    # in x-Richtung ausrichten\n",
    "    t.penup()\n",
    "    d = t.heading()\n",
    "    t.right(d)\n",
    "    xi,yi = t.position()\n",
    "    t.forward(x-xi)\n",
    "    t.left(90)\n",
    "    t.forward(y-yi)\n",
    "    t.right(90)\n",
    "    t.left(d)\n",
    "    t.pendown()\n",
    "setattr(type(t), 'goto', goto)\n",
    "def home():\n",
    "    goto(0,0)    \n",
    "def left(degree=None): t.left(degree);\n",
    "def right(degree=None): t.right(degree);\n",
    "def penup(): t.penup();\n",
    "def pendown(): t.pendown();\n",
    "def isdown(): return t.isdown();\n",
    "def hideturtle(): t.hideturtle();\n",
    "def showturtle(): t.showturtle();\n",
    "def isvisible(): return t.isvisible()\n",
    "def reset(): t.reset();\n",
    "def pencolor(r=-1,g=-1,b=-1): t.pencolor(r,g,b);\n",
    "\n",
    "t"
   ]
  },
  {
   "cell_type": "markdown",
   "metadata": {},
   "source": [
    "**Aufgabe A:** Zeichnen Sie einen Fünfstern (*Pentagram*) in die Zeichenfläche. Einen Fünfstern können Sie *in einem Zug* zeichnen, indem Sie zuerst einen Schenkel zeichnen und dann in einen Winkel von 36° weiterzeichen. Diesen Winkel erreichen Sie, indem die Richtung der Schildkräte um 144° drehen (`180°-144°=36°`). Die Schenkellänge soll 100 Längeneinheiten betragen. Dach zeichnen Sie den nächsten Schenkel und drehen die Schildköte erneut um 144°. Diese Schritte wiederholen Sie insgesamt 5 Mal."
   ]
  },
  {
   "cell_type": "code",
   "execution_count": null,
   "metadata": {
    "deletable": false,
    "nbgrader": {
     "grade": true,
     "grade_id": "cell-32a383d9cc2af58a",
     "locked": false,
     "points": 0,
     "schema_version": 3,
     "solution": true,
     "task": false
    }
   },
   "outputs": [],
   "source": [
    "reset()\n",
    "# YOUR CODE HERE\n",
    "raise NotImplementedError()"
   ]
  },
  {
   "cell_type": "markdown",
   "metadata": {},
   "source": [
    "**Aufgabe B:** Schreiben Sie eine Funktion `star` zum Zeichnen eines Fünfsterns. Als Parmeter soll die Schenkellänge an die Funktion Übergeben werden können. Fehlt der Parameter beim Aufruf, soll die Schenkellänge zufällig im Bereich 10 bis 50 Längeneinheiten gewählt werden.\n",
    "Die Ecken der Sterne sollen in zufällige Richtungen (und nicht immer in die gleiche Richtung) zeigen. Dazu drehen Sie vor dem Zeichnen die Schildkröte um einen zufälligen Winkel.\n",
    "\n",
    "Um eine gleichverteilte Zufallszahl im Bereich `[a,b]` zu erhalten, verwenden Sie die Funktion `randint(a,b)`."
   ]
  },
  {
   "cell_type": "code",
   "execution_count": null,
   "metadata": {
    "deletable": false,
    "nbgrader": {
     "grade": true,
     "grade_id": "cell-ae4766290d21eda6",
     "locked": false,
     "points": 0,
     "schema_version": 3,
     "solution": true,
     "task": false
    }
   },
   "outputs": [],
   "source": [
    "# YOUR CODE HERE\n",
    "raise NotImplementedError()\n",
    "\n",
    "reset()\n",
    "star(100)\n",
    "star()\n",
    "star()"
   ]
  },
  {
   "cell_type": "markdown",
   "metadata": {},
   "source": [
    "**Aufgabe C:** Schreiben Sie eine Funktion `draw_a_star` zum Zeichnen eines Fünfsterns an eine zufällige Position auf der Zeichenfläche. Die Farbe des Sterns soll ebenfalls zufällig gewöhlt werden.\n",
    "\n",
    "Für die Position des Sterns kommen die `x`- und `y`-Koordinaten zwischen `-rad` und `rad` infrage. Die Farbe für die Strichkanten wird nach dem RGB-Modell gebildet. Dazu müssen die Rot-/Grün-/Blau-Anteile jeweils in Prozent (im Bereich `[0,1]`) angegeben werden. Eine Fließkommazahl in diesem Bereich erhalten Sie mit dem Aufruf ` random()`."
   ]
  },
  {
   "cell_type": "code",
   "execution_count": null,
   "metadata": {
    "deletable": false,
    "nbgrader": {
     "grade": true,
     "grade_id": "cell-c87f0f36d5a009a8",
     "locked": false,
     "points": 0,
     "schema_version": 3,
     "solution": true,
     "task": false
    }
   },
   "outputs": [],
   "source": [
    "# YOUR CODE HERE\n",
    "raise NotImplementedError()\n",
    "\n",
    "reset()\n",
    "for i in range(10):\n",
    "    draw_a_star()"
   ]
  },
  {
   "cell_type": "markdown",
   "metadata": {},
   "source": [
    "**Aufgabe D:** Der folgenden Python Code implementiert ein kleines Spiel, bei dem ein Marker an eine Stelle des Zeichenfelds positioniert wird und die Schildkröte versucht, durch zufälliges *Wandern* auf dem Zeichenfeld diesen Marker zu erreichen.\n",
    "\n",
    "Um die Bewegungsfreiheit etwas einzuschränken, soll sich die Schildkröte nur auf einem *Raster* (engl. *Grid*) bewegen können. Die Schrittweite ist festgelegt mit `STEPSIZE=20` Längeneinheiten. Die Schildkröte darf sich nur in 90° Winkeln drehen. `grid_position_x` und `grid_position_y` liefern die `x` und `y` Koordinaten der Schildkröte auf dem Zeichenfeld als Ganzzahlen.\n",
    "\n",
    "Implementieren Sie die Funktionen `on_border` und `random_move` korrekt aus:\n",
    "\n",
    "Bei der Funktion `on_board` überprüfen Sie, ob die Schildkröte auf oder über dem Rand der Zeichenfläche steht **und** in die Richtung des Rands schaut. Ist das der Fall, geben Sie `True` zurück andernfalls `False`\n",
    "\n",
    "Bei der Funktion `random_move` überprüfen Sie zunächst, ob die Schildkröte auf oder über dem Rand steht und in Richtung der Ausenfläche ausgerichtet ist. Ist dies der Fall, so drehen Sie die Schidkröte und laufen somit in die entgegengesetzte Richtung (also in Richtung Zeichenfeld). Ist die Schildkröte nicht am Rand, wählen Sie zufällig aus einer der Alternativen *nach rechts*, *gradeaus* und *nach links* aus. Drehen Sie die Schidkröte ggf. nach rechts oder links und laufen Sie in die entsprechende Richtung.\n",
    "\n",
    "Zur Auswahl eines Wertes aus mehreren Alternativen hilft Ihnen die Funktion `choice` aus dem Modul `random`.\n",
    "Der Aufruf `choice(('A', 'B', 'C'))` etwa, liefert ihnen mit jeweils gleicher Wahrscheinlichkeit eines der Zeichen `A`, `B` oder `C`."
   ]
  },
  {
   "cell_type": "code",
   "execution_count": null,
   "metadata": {
    "deletable": false,
    "nbgrader": {
     "grade": true,
     "grade_id": "cell-612aae5183ff029e",
     "locked": false,
     "points": 0,
     "schema_version": 3,
     "solution": true,
     "task": false
    }
   },
   "outputs": [],
   "source": [
    "def grid_position_x():\n",
    "    p = t.position()\n",
    "    return int(p[0])\n",
    "\n",
    "def grid_position_y():\n",
    "    p = t.position()\n",
    "    return int(p[1])\n",
    "\n",
    "def on_border():\n",
    "    # YOUR CODE HERE\n",
    "    raise NotImplementedError()\n",
    "\n",
    "\n",
    "def random_move(stepsize):\n",
    "    # YOUR CODE HERE\n",
    "    raise NotImplementedError()\n",
    "\n",
    "def red_circle():\n",
    "    t.pencolor(1,0,0);\n",
    "    for i in range(36):\n",
    "        t.forward(1)\n",
    "        t.right(10)\n",
    "    t.pencolor(0,0,0)\n",
    "    \n",
    "def play(myseed):\n",
    "    reset()\n",
    "    seed(myseed)\n",
    "    flagx = grid_position_x() - 4 * STEPSIZE \n",
    "    flagy = grid_position_y() - 2 * STEPSIZE\n",
    "    if ON_JHUB:\n",
    "        goto(flagx-9,flagy)\n",
    "    else:\n",
    "        goto(flagx,flagy+9)\n",
    "    red_circle()\n",
    "    home()\n",
    "    moves = 1\n",
    "    max_moves = 300\n",
    "    gewonnen = False\n",
    "    while moves <= max_moves and not gewonnen:\n",
    "        random_move(STEPSIZE)\n",
    "        if abs(grid_position_x()-flagx) + abs(grid_position_y()-flagy) < 2 :\n",
    "            gewonnen = True\n",
    "        moves += 1\n",
    "\n",
    "    if not gewonnen:\n",
    "        print(\"verloren!\")\n",
    "        return 0\n",
    "    else:\n",
    "        print(f\"gewonnen in {moves} Zügen!\")\n",
    "        return moves"
   ]
  },
  {
   "cell_type": "code",
   "execution_count": null,
   "metadata": {},
   "outputs": [],
   "source": [
    "play(2)"
   ]
  },
  {
   "cell_type": "code",
   "execution_count": null,
   "metadata": {},
   "outputs": [],
   "source": [
    "if not ON_JHUB:\n",
    "    screen.bye()"
   ]
  }
 ],
 "metadata": {
  "kernelspec": {
   "display_name": "Python 3 (ipykernel)",
   "language": "python",
   "name": "python3"
  },
  "language_info": {
   "codemirror_mode": {
    "name": "ipython",
    "version": 3
   },
   "file_extension": ".py",
   "mimetype": "text/x-python",
   "name": "python",
   "nbconvert_exporter": "python",
   "pygments_lexer": "ipython3",
   "version": "3.10.8"
  },
  "varInspector": {
   "cols": {
    "lenName": 16,
    "lenType": 16,
    "lenVar": 40
   },
   "kernels_config": {
    "python": {
     "delete_cmd_postfix": "",
     "delete_cmd_prefix": "del ",
     "library": "var_list.py",
     "varRefreshCmd": "print(var_dic_list())"
    },
    "r": {
     "delete_cmd_postfix": ") ",
     "delete_cmd_prefix": "rm(",
     "library": "var_list.r",
     "varRefreshCmd": "cat(var_dic_list()) "
    }
   },
   "types_to_exclude": [
    "module",
    "function",
    "builtin_function_or_method",
    "instance",
    "_Feature"
   ],
   "window_display": false
  }
 },
 "nbformat": 4,
 "nbformat_minor": 4
}
