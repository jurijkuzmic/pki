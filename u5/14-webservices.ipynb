{
 "cells": [
  {
   "cell_type": "markdown",
   "id": "a97e0ae7",
   "metadata": {},
   "source": [
    "<figure>\n",
    "  <IMG SRC=\"https://upload.wikimedia.org/wikipedia/commons/thumb/d/d5/Fachhochschule_Südwestfalen_20xx_logo.svg/320px-Fachhochschule_Südwestfalen_20xx_logo.svg.png\" WIDTH=250 ALIGN=\"right\">\n",
    "</figure>\n",
    "\n",
    "# Programmierung für KI\n",
    "### Winterersemester 2022/23\n",
    "Prof. Dr. Heiner Giefers"
   ]
  },
  {
   "cell_type": "markdown",
   "id": "ff2e2f4e",
   "metadata": {
    "deletable": false,
    "editable": false,
    "nbgrader": {
     "grade": false,
     "grade_id": "cell-12dd09316b5fb126",
     "locked": true,
     "schema_version": 3,
     "solution": false,
     "task": false
    }
   },
   "source": [
    "**Übung 1:**<br>\n",
    "\n",
    "Der offene Webservice zippopotam.us stellt Informationen zu Postleitzahlen in einer vielzahl von Ländern im JSON-Format zur Verfügung.\n",
    "\n",
    "Die Route um Daten abzurufen ist wie folgt aufgebaut:\n",
    "*https://api.zippopotam.us/[country]/[zipcode]\"*\n",
    "\n",
    "Schreiben Sie ein Programm, dass die Informationen zur Postleitzahl `58644` abruft. Zudem soll es die `longitude` sowie die `latitude` in einem Tupel des ersten gefundenen Ortes zurück geben. Die erwarteten Ergebnisse sollen in einem Tupel zurückgegeben werden.<br>\n",
    "\n",
    "*Tipp: Sie können die URL zum Webservice auch mit dem Browser aufrufen*<br>\n",
    "*Tipp: Der Country-Code für Deutschland lautet: de*<br>\n",
    "*Tipp: Interpretieren Sie die JSON Daten mit json.load([daten])*"
   ]
  },
  {
   "cell_type": "code",
   "execution_count": null,
   "id": "6abf72d0",
   "metadata": {
    "deletable": false,
    "nbgrader": {
     "grade": false,
     "grade_id": "cell-241baf5527f685bd",
     "locked": false,
     "schema_version": 3,
     "solution": true,
     "task": false
    }
   },
   "outputs": [],
   "source": [
    "import json\n",
    "import urllib\n",
    "\n",
    "def fetch_58644():\n",
    "    # YOUR CODE HERE\n",
    "    raise NotImplementedError()"
   ]
  },
  {
   "cell_type": "code",
   "execution_count": null,
   "id": "4c1949b2",
   "metadata": {
    "deletable": false,
    "editable": false,
    "nbgrader": {
     "grade": true,
     "grade_id": "cell-3bd8fa3409d1d3d2",
     "locked": true,
     "points": 1,
     "schema_version": 3,
     "solution": false,
     "task": false
    }
   },
   "outputs": [],
   "source": [
    "\"\"\"Tests fetch_58644\"\"\"\n",
    "from nose.tools import assert_equal\n",
    "\n",
    "assert_equal(('7.6968', '51.3246'), fetch_58644(), \"Es wurden die falschen Daten extrahiert.\")"
   ]
  },
  {
   "cell_type": "markdown",
   "id": "19abca89",
   "metadata": {
    "deletable": false,
    "editable": false,
    "nbgrader": {
     "grade": false,
     "grade_id": "cell-2f52559f9cd45c0d",
     "locked": true,
     "schema_version": 3,
     "solution": false,
     "task": false
    }
   },
   "source": [
    "**Übung 2:**<br>\n",
    "\n",
    "Bauen Sie das Programm aus Übung 1 so um, dass mit zwei Parametern das Land und die Postleitzahl übergeben werden können."
   ]
  },
  {
   "cell_type": "code",
   "execution_count": null,
   "id": "fa171d33",
   "metadata": {
    "deletable": false,
    "nbgrader": {
     "grade": false,
     "grade_id": "cell-9c1d4edc9414b33c",
     "locked": false,
     "schema_version": 3,
     "solution": true,
     "task": false
    }
   },
   "outputs": [],
   "source": [
    "import json\n",
    "import urllib\n",
    "\n",
    "def fetch(country, zipcode):\n",
    "    # YOUR CODE HERE\n",
    "    raise NotImplementedError()"
   ]
  },
  {
   "cell_type": "code",
   "execution_count": null,
   "id": "42626627",
   "metadata": {
    "deletable": false,
    "editable": false,
    "nbgrader": {
     "grade": true,
     "grade_id": "cell-84f7900cb7afce02",
     "locked": true,
     "points": 1,
     "schema_version": 3,
     "solution": false,
     "task": false
    }
   },
   "outputs": [],
   "source": [
    "\"\"\"Tests fetch\"\"\"\n",
    "from nose.tools import assert_equal\n",
    "\n",
    "assert_equal(('7.6968', '51.3246'), fetch(\"de\", \"58644\"), \"Es wurden die falschen Daten extrahiert.\")\n",
    "assert_equal(('6.6971', '46.5534'), fetch(\"ch\", \"1000\"), \"Es wurden die falschen Daten extrahiert.\")\n",
    "assert_equal(('28.2294', '-25.7069'), fetch(\"za\", \"0002\"), \"Es wurden die falschen Daten extrahiert.\")"
   ]
  }
 ],
 "metadata": {
  "kernelspec": {
   "display_name": "Python 3",
   "language": "python",
   "name": "python3"
  },
  "language_info": {
   "codemirror_mode": {
    "name": "ipython",
    "version": 3
   },
   "file_extension": ".py",
   "mimetype": "text/x-python",
   "name": "python",
   "nbconvert_exporter": "python",
   "pygments_lexer": "ipython3",
   "version": "3.10.6"
  }
 },
 "nbformat": 4,
 "nbformat_minor": 5
}
