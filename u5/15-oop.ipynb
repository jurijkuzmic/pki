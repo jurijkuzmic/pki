{
 "cells": [
  {
   "cell_type": "markdown",
   "id": "d69709e6",
   "metadata": {},
   "source": [
    "<figure>\n",
    "  <IMG SRC=\"https://upload.wikimedia.org/wikipedia/commons/thumb/d/d5/Fachhochschule_Südwestfalen_20xx_logo.svg/320px-Fachhochschule_Südwestfalen_20xx_logo.svg.png\" WIDTH=250 ALIGN=\"right\">\n",
    "</figure>\n",
    "\n",
    "# Programmierung für KI\n",
    "### Winterersemester 2022/23\n",
    "Prof. Dr. Heiner Giefers"
   ]
  },
  {
   "cell_type": "markdown",
   "id": "dad96146",
   "metadata": {},
   "source": [
    "**Übung 1:**<br>\n",
    "Schreiben Sie eine Klasse `Standort`. Die Klasse soll die Daten *Postleitzahl* (`zipcode`), *Längengrad* (`longitude`) und Breitengrad (`latitude`) speichern. <br> Zudem soll die Klasse eine Funktion `getLocation` enthalten, welche die `latitude` und die `longitude` als Tupel zurückgibt.<br>\n",
    "Der Konstruktor von Standort soll die Parameter `zipcode`, `longitude` und `latitude` entgegennehmen und in den entsprechenden Eigenschaften ablegen."
   ]
  },
  {
   "cell_type": "code",
   "execution_count": null,
   "id": "c7f99ebb",
   "metadata": {
    "deletable": false,
    "nbgrader": {
     "grade": false,
     "grade_id": "cell-e6d754d6e230ab48",
     "locked": false,
     "schema_version": 3,
     "solution": true,
     "task": false
    }
   },
   "outputs": [],
   "source": [
    "class Standort:\n",
    "    # YOUR CODE HERE\n",
    "    raise NotImplementedError()"
   ]
  },
  {
   "cell_type": "code",
   "execution_count": null,
   "id": "0a4e22eb",
   "metadata": {
    "deletable": false,
    "editable": false,
    "nbgrader": {
     "grade": true,
     "grade_id": "cell-ce79c3192186d96e",
     "locked": true,
     "points": 1,
     "schema_version": 3,
     "solution": false,
     "task": false
    }
   },
   "outputs": [],
   "source": [
    "\"\"\"test class standort\"\"\"\n",
    "from nose.tools import assert_equal\n",
    "\n",
    "s = Standort(\"1111\", 1.0, 1.0)\n",
    "assert_equal((1.0, 1.0), s.getLocation(), \"Da stimmt etwas mit der Zuweisung nicht!\")\n"
   ]
  },
  {
   "cell_type": "markdown",
   "id": "97a58959",
   "metadata": {},
   "source": [
    "Der offene Webservice zippopotam.us stellt Informationen zu Postleitzahlen in einer vielzahl von Ländern im JSON-Format zur Verfügung.\n",
    "\n",
    "Die Route um Daten abzurufen ist wie folgt aufgebaut:\n",
    "*https://api.zippopotam.us/[country]/[zipcode]\"*\n",
    "\n",
    "\n",
    "**Übung 2:** <br>\n",
    "\n",
    "Bauen Sie das Programm aus der <u>Übung 2 von Arbeitsblatt `webservices.ipynb`</u> so um, dass ein <u>Objekt vom Typ Standort</u> mit den erhaltenen Daten zurückgegeben wird.\n",
    "\n",
    "*Tipp: Der Country-Code für Deutschland lautet: de*<br>\n",
    "*Tipp: Interpretieren Sie die JSON Daten mit json.load([daten])*"
   ]
  },
  {
   "cell_type": "code",
   "execution_count": null,
   "id": "776203c0",
   "metadata": {
    "deletable": false,
    "nbgrader": {
     "grade": false,
     "grade_id": "cell-e7aab6c95906bfb5",
     "locked": false,
     "schema_version": 3,
     "solution": true,
     "task": false
    }
   },
   "outputs": [],
   "source": [
    "import json\n",
    "import urllib\n",
    "\n",
    "def fetch(country, zipcode):\n",
    "    # YOUR CODE HERE\n",
    "    raise NotImplementedError()"
   ]
  },
  {
   "cell_type": "code",
   "execution_count": null,
   "id": "729384db",
   "metadata": {
    "deletable": false,
    "editable": false,
    "nbgrader": {
     "grade": true,
     "grade_id": "cell-0a5d4c0199321ce1",
     "locked": true,
     "points": 1,
     "schema_version": 3,
     "solution": false,
     "task": false
    }
   },
   "outputs": [],
   "source": [
    "\"\"\"Tests fetch\"\"\"\n",
    "from nose.tools import assert_equal\n",
    "\n",
    "s = fetch(\"de\", \"58644\")\n",
    "\n",
    "assert isinstance(s,Standort), \"Die Funktion 'fetch' soll ein Objekt vom Typ 'Standort' zurückliefern\"\n",
    "assert_equal(('7.6968', '51.3246'), s.getLocation(), \"Es wurden die falschen Daten extrahiert.\")"
   ]
  }
 ],
 "metadata": {
  "kernelspec": {
   "display_name": "Python 3.10.6 ('base')",
   "language": "python",
   "name": "python3"
  },
  "language_info": {
   "codemirror_mode": {
    "name": "ipython",
    "version": 3
   },
   "file_extension": ".py",
   "mimetype": "text/x-python",
   "name": "python",
   "nbconvert_exporter": "python",
   "pygments_lexer": "ipython3",
   "version": "3.10.6"
  },
  "vscode": {
   "interpreter": {
    "hash": "c6e4e9f98eb68ad3b7c296f83d20e6de614cb42e90992a65aa266555a3137d0d"
   }
  }
 },
 "nbformat": 4,
 "nbformat_minor": 5
}
