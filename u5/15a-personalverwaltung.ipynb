{
 "cells": [
  {
   "cell_type": "markdown",
   "id": "c6514347",
   "metadata": {},
   "source": [
    "<figure>\n",
    "  <IMG SRC=\"https://upload.wikimedia.org/wikipedia/commons/thumb/d/d5/Fachhochschule_Südwestfalen_20xx_logo.svg/320px-Fachhochschule_Südwestfalen_20xx_logo.svg.png\" WIDTH=250 ALIGN=\"right\">\n",
    "</figure>\n",
    "\n",
    "# Programmierung für KI\n",
    "### Winterersemester 2022/23\n",
    "Prof. Dr. Heiner Giefers"
   ]
  },
  {
   "cell_type": "markdown",
   "id": "f1636d9c",
   "metadata": {},
   "source": [
    "Im folgenden entwickeln wir eine Software zur Personalverwaltung. Die einzelnen Aufgaben bauen aufeinander auf und sollten in der aufgelisteten Reihenfolge bearbeitet werden."
   ]
  },
  {
   "cell_type": "markdown",
   "id": "148cb2a8",
   "metadata": {},
   "source": [
    "**Übung 1** <br>\n",
    "Definieren Sie eine Klasse `Mitarbeiter`. Ein Mitarbeiter besitzt einen Vornamen (`first_name`), einen Nachnamen (`last_name`) und eine Adresse (`address`). Fügen Sie zugehörige getter und setter, sowie einen Konstruktor für die Attribute hinzu."
   ]
  },
  {
   "cell_type": "code",
   "execution_count": null,
   "id": "837f0d81",
   "metadata": {
    "deletable": false,
    "nbgrader": {
     "grade": false,
     "grade_id": "cell-ff6919536b040b48",
     "locked": false,
     "schema_version": 3,
     "solution": true,
     "task": false
    }
   },
   "outputs": [],
   "source": [
    "class Mitarbeiter:\n",
    "    # YOUR CODE HERE\n",
    "    raise NotImplementedError()"
   ]
  },
  {
   "cell_type": "code",
   "execution_count": null,
   "id": "f67c3276",
   "metadata": {
    "deletable": false,
    "editable": false,
    "nbgrader": {
     "grade": true,
     "grade_id": "cell-ff047e8db8238a15",
     "locked": true,
     "points": 1,
     "schema_version": 3,
     "solution": false,
     "task": false
    }
   },
   "outputs": [],
   "source": [
    "\"\"\"Tests für Mitarbeiter\"\"\"\n",
    "from nose.tools import assert_equal\n",
    "\n",
    "arbeiter = Mitarbeiter(\"Max\", \"Mustermann\", \"Musterstraße 3, Iserlohn\")\n",
    "\n",
    "\"\"\"Test Konstruktor\"\"\"\n",
    "assert_equal(\"Max\", arbeiter.first_name, \"Der Konstruktor weißt den Vornamen nicht richtig zu, oder es existiert kein korreker Getter.\")\n",
    "assert_equal(\"Mustermann\", arbeiter.last_name, \"Der Konstrukor weißt den Nachnamen nicht richtig zu, oder es existiert kein korreker Getter.\")\n",
    "assert_equal(\"Musterstraße 3, Iserlohn\", arbeiter.address, \"Der Konstruktor weißt die Adresse nicht richtig zu, oder es existiert kein korreker Getter.\")\n",
    "\n",
    "arbeiter.first_name = \"Ursula\"\n",
    "arbeiter.last_name = \"Musterfrau\"\n",
    "arbeiter.address = \"Musterplatz 3, Iserlohn\"\n",
    "\n",
    "assert_equal(\"Ursula\", arbeiter.first_name, \"Der Setter weißt den Vornamen nicht richtig zu.\")\n",
    "assert_equal(\"Musterfrau\", arbeiter.last_name, \"Der Setter weißt den Nachnamen nicht richtig zu.\")\n",
    "assert_equal(\"Musterplatz 3, Iserlohn\", arbeiter.address, \"Der Setter weißt die Adresse nicht richtig zu.\")"
   ]
  },
  {
   "cell_type": "markdown",
   "id": "09ee3507",
   "metadata": {},
   "source": [
    "**Übung 2** <br>\n",
    "Definieren Sie eine Klasse `Freier_Mitarbeiter`. Sie soll die Eigenschaften der Klasse `Mitarbeiter` erben und um ein Attribut Stundenlohn (`stundenlohn`) erweitert werden. Fügen Sie einen Konstruktor für alle Attribute hinzu (Achtung: auf Vererbung achten!)."
   ]
  },
  {
   "cell_type": "code",
   "execution_count": null,
   "id": "cfec9aa1",
   "metadata": {
    "deletable": false,
    "nbgrader": {
     "grade": false,
     "grade_id": "cell-637f0661ce75f999",
     "locked": false,
     "schema_version": 3,
     "solution": true,
     "task": false
    }
   },
   "outputs": [],
   "source": [
    "class Freier_Mitarbeiter(Mitarbeiter):\n",
    "    # YOUR CODE HERE\n",
    "    raise NotImplementedError()"
   ]
  },
  {
   "cell_type": "code",
   "execution_count": null,
   "id": "055f6f69",
   "metadata": {
    "deletable": false,
    "editable": false,
    "nbgrader": {
     "grade": true,
     "grade_id": "cell-6e9680c9b1952223",
     "locked": true,
     "points": 1,
     "schema_version": 3,
     "solution": false,
     "task": false
    }
   },
   "outputs": [],
   "source": [
    "\"\"\"Tests für Freier_Mitarbeiter\"\"\"\n",
    "from nose.tools import assert_equal\n",
    "\n",
    "freier_arbeiter = Freier_Mitarbeiter(\"Max\", \"Mustermann\", \"Musterstraße 3, Iserlohn\", 100.00)\n",
    "\n",
    "\"\"\"Konstruktor Test\"\"\"\n",
    "assert_equal(100.00, freier_arbeiter.stundenlohn, \"Der Konstruktor weißt den Stundenlohn falsch zu, oder es existiert kein korrekter Getter.\")\n",
    "\n",
    "freier_arbeiter.stundenlohn = 200.0\n",
    "assert_equal(200.00, freier_arbeiter.stundenlohn, \"Der Setter weißt den Stundenlohn falsch zu.\")"
   ]
  },
  {
   "cell_type": "markdown",
   "id": "2341997d",
   "metadata": {},
   "source": [
    "**Übung 3** <br>\n",
    "Definieren Sie eine Klasse `Personaldatenbank`. Eine Personaldatenbank besitzt *eine* Liste aller *Mitarbeiter* und *Freien-Mitarbeiter* (`Personalliste`). Schreiben Sie Funktionen, die es erlauben einen Mitarbeiter (oder Freien-Mitarbeiter) der Liste hinzuzufügen (`add_mitarbeiter`) und zu entfernen (`remove_mitarbeiter`). Den Funktionen soll das hinzuzufügende/zu entfernende  Objekt als Parameter übergeben werden.\n",
    "\n",
    "Schreiben Sie eine Funktion die aus der *Personalliste* eine Liste von Freien-Mitarbeitern (`freie_mitarbeiter`) zurück gibt.\n",
    "\n",
    "Schreiben Sie eine Funktion (`count_mitarbeiter`), die zählt wie viele Mitarbeiter in der Personaldatenbank registriert sind. Ziehen Sie jedoch die Anzahl der Freien-Mitarbeiter davon ab, da diese nicht direkt dem Unternehmen zugehörig sind. Geben Sie das Ergebnis zurück.\n",
    "\n",
    "Schreiben Sie eine Funktion (`daily_costs`), die berechnet wie viel Geld das Unternehmen für alle Freie-Mitarbeiter an einem Arbeitstag mit 8 Stunden insgesamt bezahlt. Nutzen Sie den Stundenlohn der freien Mitarbeiter. Geben Sie das Ergebnis zurück.\n",
    "\n",
    "\n",
    "**Achtung bei den Tests kann es zu Fehlern aufgrund von Speicherdaten aus dem vorherrigen Durchlauf kommen. Führen Sie, um die Fehler zu beheben, den Codeblock unten erneut aus oder starten Sie den Kernel neu und löschen Sie den Output.**"
   ]
  },
  {
   "cell_type": "code",
   "execution_count": null,
   "id": "a113c8f4",
   "metadata": {
    "deletable": false,
    "nbgrader": {
     "grade": false,
     "grade_id": "cell-841bc2299d89e02b",
     "locked": false,
     "schema_version": 3,
     "solution": true,
     "task": false
    }
   },
   "outputs": [],
   "source": [
    "class Personaldatenbank:\n",
    "   \n",
    "    # YOUR CODE HERE\n",
    "    raise NotImplementedError()"
   ]
  },
  {
   "cell_type": "code",
   "execution_count": null,
   "id": "c9bb2ebb",
   "metadata": {
    "deletable": false,
    "editable": false,
    "nbgrader": {
     "grade": true,
     "grade_id": "cell-3f053ed02cfdc185",
     "locked": true,
     "points": 1,
     "schema_version": 3,
     "solution": false,
     "task": false
    }
   },
   "outputs": [],
   "source": [
    "\"\"\"Tests für die Personaldatenbank\"\"\"\n",
    "from nose.tools import assert_equal\n",
    "\n",
    "m1 = Mitarbeiter(\"Max\", \"Mustermann\", \"Kreisstraße 1, Iserlohn\")\n",
    "m2 = Mitarbeiter(\"Wilfred\", \"Meier\", \"Hauptstraße 2, Dortmund\")\n",
    "m3 = Mitarbeiter(\"Marianne\", \"Müller\", \"Zur alten Post 3, Hagen\")\n",
    "\n",
    "f1 = Freier_Mitarbeiter(\"Eva\", \"Fabel\", \"Friedensstraße 4, Essen\", 45.4)\n",
    "f2 = Freier_Mitarbeiter(\"Michelle\", \"Krone\", \"Wendeplatz 5, Bochum\", 98.2)\n",
    "f3 = Freier_Mitarbeiter(\"Leon\", \"Mustermann\", \"Lampenweg 6, Düsseldorf\", 34.7)\n",
    "\n",
    "datenbank = Personaldatenbank()\n",
    "\n",
    "# Mitarbeiter hinzugefügen prüfen\n",
    "datenbank.add_mitarbeiter(m1)\n",
    "datenbank.add_mitarbeiter(m2)\n",
    "datenbank.add_mitarbeiter(m3)\n",
    "datenbank.add_mitarbeiter(f1)\n",
    "datenbank.add_mitarbeiter(f2)\n",
    "datenbank.add_mitarbeiter(f3)\n",
    "\n",
    "assert_equal(3, len(datenbank.freie_mitarbeiter()), \"Da Stimmt etwas beim Hinzufügen der Mitarbeiter oder in der Funktion get_freie_mitarbeiter nicht.\")\n",
    "assert_equal(3, datenbank.count_mitarbeiter(), \"Da Stimmt etwas in der Funktion count_mitarbeiter nicht.\")\n",
    "\n",
    "# daily_costs prüfen\n",
    "assert_equal(1426.4, datenbank.daily_costs(), \"Die täglichen Kosten der freien Mitarbeiter werden falsch berechnet.\")\n",
    "\n",
    "# Mitarbeiter entfernen prüfen\n",
    "datenbank.remove_mitarbeiter(f1)\n",
    "assert_equal(2, len(datenbank.freie_mitarbeiter()), \"Da Stimmt etwas beim entfernen eines Mitarbeiters nicht.\")"
   ]
  },
  {
   "cell_type": "markdown",
   "id": "095d753c",
   "metadata": {},
   "source": [
    "**Übung 4** <br>\n",
    "Für ein Tochterunternehmen soll die Personaldatenbank angepasst werden. Neben Mitarbeitern sollen auch Arbeitsplätze verwaltet werden können.\n",
    "\n",
    "Implementieren Sie dazu eine Klasse `Workplace` mit den Eigenschaften Standort (`location`) und Mitarbeiter (`mitarbeiter`). Definieren Sie zudem passende Getter und Setter, sowie einen Konstruktor für die Eigenschaften."
   ]
  },
  {
   "cell_type": "code",
   "execution_count": null,
   "id": "964f7a5c",
   "metadata": {
    "deletable": false,
    "nbgrader": {
     "grade": false,
     "grade_id": "cell-a8678b6b1c9ff1a3",
     "locked": false,
     "schema_version": 3,
     "solution": true,
     "task": false
    }
   },
   "outputs": [],
   "source": [
    "class Workplace:\n",
    "    \n",
    "    # YOUR CODE HERE\n",
    "    raise NotImplementedError()"
   ]
  },
  {
   "cell_type": "code",
   "execution_count": null,
   "id": "d12f0a93",
   "metadata": {
    "deletable": false,
    "editable": false,
    "nbgrader": {
     "grade": true,
     "grade_id": "cell-8b0dc323c2138a23",
     "locked": true,
     "points": 1,
     "schema_version": 3,
     "solution": false,
     "task": false
    }
   },
   "outputs": [],
   "source": [
    "from nose.tools import assert_equal\n",
    "\n",
    "m = Mitarbeiter(\"Max\", \"Mustermann\", \"Kreisstraße 1, Iserlohn\")\n",
    "w = Workplace(\"Hauptgebäude\", m)\n",
    "\n",
    "#Konstruktor testen\n",
    "assert_equal(m, w.mitarbeiter, \"Fehler im Konstruktor oder im Getter für Mitarbeiter\")\n",
    "assert_equal(\"Hauptgebäude\", w.location, \"Fehler im Konstruktor oder im Getter für Location\")\n",
    "\n",
    "w.location = \"Nebengebäude\"\n",
    "m2 = Mitarbeiter(\"Max\", \"Mustermann\", \"Kreisstraße 1, Iserlohn\")\n",
    "w.mitarbeiter = m2\n",
    "\n",
    "assert_equal(m2, w.mitarbeiter, \"Fehler im Setter für Mitarbeiter\")\n",
    "assert_equal(\"Nebengebäude\", w.location, \"Fehler im Setter für Location\")\n"
   ]
  },
  {
   "cell_type": "markdown",
   "id": "9d97cb7d",
   "metadata": {},
   "source": [
    "**Übung 5** <br>\n",
    "Implementieren Sie eine Klasse `Unternehmensdatenbank`, welche von der *Personaldatenbank* erbt und zusätzlich eine Arbeitsplatz-Liste (`workplace_list`) führt. Definieren Sie für die Liste jeweils eine Funktion zum Hinzufügen (`add_workplace`) und zum entfernen (`remove_workplace`) eines Arbeitsplatzes. Überprüfen Sie beim hinzufügen eines Arbeitsplatzes, *ob der Mitarbeiter der Personaldatenbank bekannt ist*. Geben Sie `Der Mitarbeiter muss der Datenbank bekannt sein` zurück, wenn der Mitarbeiter unbekannt ist, fügen Sie ansonsten den Arbeitsplatz hinzu. \n",
    "\n",
    "Überschreiben Sie zudem Funktion `daily_costs`, sodass eine Stundenanzahl ansteller des Standartwerts von 8 Stunden verwendet wird.\n",
    "\n",
    "**Achtung bei den Tests kann es zu Fehlern aufgrund von Speicherdaten aus dem vorherrigen Durchlauf kommen. Führen Sie, um die Fehler zu beheben, den Codeblock unten erneut aus oder starten Sie den Kernel neu und löschen Sie den Output.**"
   ]
  },
  {
   "cell_type": "code",
   "execution_count": null,
   "id": "bc3fc5ac",
   "metadata": {
    "deletable": false,
    "nbgrader": {
     "grade": false,
     "grade_id": "cell-e885700193e05a42",
     "locked": false,
     "schema_version": 3,
     "solution": true,
     "task": false
    }
   },
   "outputs": [],
   "source": [
    "class Unternehmensdatenbank(Personaldatenbank):\n",
    "    \n",
    "    # YOUR CODE HERE\n",
    "    raise NotImplementedError()"
   ]
  },
  {
   "cell_type": "code",
   "execution_count": null,
   "id": "0a8b4f72",
   "metadata": {
    "deletable": false,
    "editable": false,
    "nbgrader": {
     "grade": true,
     "grade_id": "cell-45a712db07459e84",
     "locked": true,
     "points": 1,
     "schema_version": 3,
     "solution": false,
     "task": false
    }
   },
   "outputs": [],
   "source": [
    "from nose.tools import assert_equal\n",
    "\n",
    "u = Unternehmensdatenbank()\n",
    "m = Mitarbeiter(\"Max\", \"Mustermann\", \"Kreisstraße 1, Iserlohn\")\n",
    "w = Workplace(\"Hauptgebäude\", m)\n",
    "\n",
    "# Test add_workplace ohne Mitarbeiter\n",
    "assert_equal(\"Der Mitarbeiter muss der Datenbank bekannt sein\", u.add_workplace(w))\n",
    "\n",
    "# Test add_workplace mit Mitarbeiter\n",
    "u.add_mitarbeiter(m)\n",
    "assert_equal(None, u.add_workplace(w))\n",
    "\n",
    "# Test remove_workplace\n",
    "assert_equal(None, u.remove_workplace(w))\n",
    "\n",
    "# Test daily_costs mit halben Arbeitstag (4 Stunden)\n",
    "f1 = Freier_Mitarbeiter(\"Eva\", \"Fabel\", \"Friedensstraße 4, Essen\", 45.4)\n",
    "u.add_mitarbeiter(f1)\n",
    "assert_equal(181.6, u.daily_costs(4))\n",
    "u.remove_mitarbeiter(f1)"
   ]
  }
 ],
 "metadata": {
  "kernelspec": {
   "display_name": "Python 3",
   "language": "python",
   "name": "python3"
  },
  "language_info": {
   "codemirror_mode": {
    "name": "ipython",
    "version": 3
   },
   "file_extension": ".py",
   "mimetype": "text/x-python",
   "name": "python",
   "nbconvert_exporter": "python",
   "pygments_lexer": "ipython3",
   "version": "3.10.6"
  }
 },
 "nbformat": 4,
 "nbformat_minor": 5
}
