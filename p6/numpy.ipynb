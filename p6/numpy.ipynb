{
 "cells": [
  {
   "cell_type": "markdown",
   "metadata": {},
   "source": [
    "<figure>\n",
    "  <IMG SRC=\"https://upload.wikimedia.org/wikipedia/commons/thumb/d/d5/Fachhochschule_Südwestfalen_20xx_logo.svg/320px-Fachhochschule_Südwestfalen_20xx_logo.svg.png\" WIDTH=250 ALIGN=\"right\">\n",
    "</figure>\n",
    "\n",
    "# Programmierung für KI\n",
    "### Winterersemester 2022/23\n",
    "Prof. Dr. Heiner Giefers"
   ]
  },
  {
   "cell_type": "markdown",
   "metadata": {},
   "source": [
    "In diesem Aufgabenblatt soll es um das Thema **NumPy** gehen.\n",
    "Wir benötigen für die Aufgaben hauptsächlich zwei Bibliotheken.\n",
    "Einerseits `numpy`, das wir wie üblich mit `import numpy as np` importieren.\n",
    "Wir können nun auf alles, was \"in NumPy steckt\" über den *Namensraum* `np` zugreifen.\n",
    "Die zweite Bibliothek, die wir verwenden, ist die *Matplotlib*, aus der wir das Modul `pyplot` unter dem Namensraum `plt` importieren.\n",
    "Wie Matplotlib funktioniert, werden Sie zum kommenden Termin anschauen.\n",
    "Wir verwenden hier aber bereits einige Funktionen, um unsere Daten zu visualisieren."
   ]
  },
  {
   "cell_type": "code",
   "execution_count": null,
   "metadata": {},
   "outputs": [],
   "source": [
    "import matplotlib.pyplot as plt\n",
    "import numpy as np"
   ]
  },
  {
   "cell_type": "markdown",
   "metadata": {},
   "source": [
    "### Matrizenmultiplikation\n",
    "Zum Einstieg in das Thema **NumPy** wollen wir einige `ndarrays` anlegen und Berechnungen durchführen.\n",
    "\n",
    "**Aufgabe:** Erstellen Sie die folgenden Matrizen und Vektoren:\n",
    "\n",
    "$\n",
    "A=\\begin{bmatrix} 1 & 2 & -3\\\\ 3 & 4 & -1 \\end{bmatrix},\\ \\ \n",
    "B=\\begin{bmatrix} 1 & -5 & 1\\\\ 1 & 4 & 5\\\\ 2 & -1 & 6 \\end{bmatrix},\\ \\ \n",
    "y=\\begin{bmatrix} 2\\\\ -4\\\\ 1\\end{bmatrix},\\ \\ \n",
    "z=\\begin{bmatrix} -15\\\\ -8\\\\ -22\\end{bmatrix}\n",
    "$\n",
    "\n",
    "und führen Sie folgende Berechnungen aus:\n",
    "\n",
    "- $a = AB$ (Matrizenmultiplikation)<br>\n",
    "- $b = BA^T$<br>\n",
    "- $c = By$<br>\n",
    "- $d = y^Tz$ (Skalarprodukt, engl. *inner product* oder*dot-product*)<br>\n",
    "- $e = yz^T$ (Äußeres Produkt, engl. *outer product*)<br>"
   ]
  },
  {
   "cell_type": "code",
   "execution_count": null,
   "metadata": {
    "deletable": false,
    "nbgrader": {
     "grade": false,
     "grade_id": "cell-458a26a7ae453abd",
     "locked": false,
     "schema_version": 3,
     "solution": true,
     "task": false
    }
   },
   "outputs": [],
   "source": [
    "A = B = y = z = None\n",
    "a = b = c = d = e = None\n",
    "\n",
    "# YOUR CODE HERE\n",
    "raise NotImplementedError()\n",
    "\n",
    "print(\"\\nA = \\n\", A)\n",
    "print(\"\\nB = \\n\", B)\n",
    "print(\"\\ny = \\n\", y)\n",
    "print(\"\\nz = \\n\", z)\n",
    "\n",
    "print(\"\\nAB = \\n\", a)\n",
    "print(\"\\nBA' = \\n\", b)\n",
    "print(\"\\nBy = \\n\", c)\n",
    "print(\"\\ny'z = \\n\", d)\n",
    "print(\"\\nyz' = \\n\", e)"
   ]
  },
  {
   "cell_type": "code",
   "execution_count": null,
   "metadata": {
    "deletable": false,
    "editable": false,
    "nbgrader": {
     "grade": true,
     "grade_id": "cell-6bc2c65eeee47e7e",
     "locked": true,
     "points": 0,
     "schema_version": 3,
     "solution": false,
     "task": false
    }
   },
   "outputs": [],
   "source": [
    "# Testzelle\n",
    "assert a.sum() == 20\n",
    "assert b.sum() == -44\n",
    "assert c.sum() == 28\n",
    "assert d.sum() == -20\n",
    "assert e.sum() == 45"
   ]
  },
  {
   "cell_type": "markdown",
   "metadata": {},
   "source": [
    "### Zufallszahlen\n",
    "\n",
    "Wir wollen nun ein 3-dimensionale *ndarray* anlegen und dieses mit Zufallszahlen füllen.\n",
    "\n",
    "Um zufällige Werte zu generieren, können wir die Funktion `random` aus dem Modul `np.random` verwenden (ja, die Funktion und das Modul heißen beide *random*). Diese Funktion erzeugt ein mit Zufallswerten aus dem Bereich $[0,1)$ gefülltes *ndarray* in der Größe, die Sie als ersten Parameter angeben. Dieser Parameter kann ein Tupel sein, z.B. steht `(3,3,3)` für eine Größe von $3\\times{}3\\times{}3$, also einer 3-dimensionalen Matrix mit 27 Werten.\n",
    "\n",
    "Es gibt Zufallszahlengeneratoren für verschiedene Zufallsverteilungen. Nach welcher Verteilung sind die Zahlen von `random` verteilt? Sie können zur Beantwortung der Frage in die Dokumentation schauen. Einen guten Eindruck über die Verteilung erhält man aber auch, indem man sich den Mittelwert der Daten ansieht und berechnet, wie viele Zahlen in bestimmte Werte-Intervalle fallen."
   ]
  },
  {
   "cell_type": "markdown",
   "metadata": {},
   "source": [
    "**Aufgabe:** Legen Sie mit `np.random.random` ein 3D *ndarray* der Größe $100\\times{}100\\times{}10$ an. Beantworten Sie folgende Fragen:\n",
    "\n",
    " a) Wie viele der Werte sind kleiner als $0.1$?<br>\n",
    " b) Wie viele der Werte  sind größer als $0.1$ und kleiner als $0.2$?<br>\n",
    " c) Was ist das arithmetische Mittel der Werte?<br>"
   ]
  },
  {
   "cell_type": "code",
   "execution_count": null,
   "metadata": {
    "deletable": false,
    "nbgrader": {
     "grade": true,
     "grade_id": "cell-c1200e9fa024c2d8",
     "locked": false,
     "points": 0,
     "schema_version": 3,
     "solution": true,
     "task": false
    }
   },
   "outputs": [],
   "source": [
    "a = None # Werte kleiner 0.1\n",
    "b = None # Werte im Intervall (0.1,0.2)\n",
    "c = None # Mittelwert\n",
    "\n",
    "# YOUR CODE HERE\n",
    "raise NotImplementedError()\n",
    "a, b, c"
   ]
  },
  {
   "cell_type": "markdown",
   "metadata": {},
   "source": [
    "Mit der Matplotlib Funktion `pyplot.imshow()` können NumPy Arrays als Bilder angezeigt werden.\n",
    "Dabei sind die ersten beiden Dimensionen die Zeilen bzw. die Spalten des Bildes.\n",
    "Besitzt das Array nur 2 Dimensionen, so werden die Werte als *Helligkeitswerte* auf einer Farbskala interpretiert. \n",
    "Standardmäßig ist die Blau-Grün-Gelbe Farbskala `viridis` voreingestellt.\n",
    "Falls Sie eine andere Skala nutzen wollen, können Sie den Parameter `cmap` verwenden, z.B. mit `cmap=\"gray\"` für ein Graustufenbild.\n",
    "\n",
    "Besitzt das NumPy Array 3 Dimensionen, können auch Farbbilder angezeigt werden.\n",
    "Bei einem 3-Tupel in der 3. Dimension wird dieses Tupel als *RGB-Pixel* interpretiert, bei einem 4-Tupel steht der letzte Wert für die Transparenz des Pixels.\n"
   ]
  },
  {
   "cell_type": "code",
   "execution_count": null,
   "metadata": {},
   "outputs": [],
   "source": [
    "# Ein 3D Array der Größe 200x200x3 mit 120.000\n",
    "# Zufallswerten im Bereich [0,255) anlegen\n",
    "rand_array = 255 * np.random.random((200,200,3))\n",
    "\n",
    "# Standardmäßig verwendet NumPy float-Werte unser Pixel-Werte sind\n",
    "# 8-bit vorzeichenlose Ganzzahlen (uint8)\n",
    "rand_array = rand_array.astype(\"uint8\")\n",
    "\n",
    "# Die 1. und 2. Dimension sind die Zeilen und\n",
    "# Spalten des Bildes. Die drei werte der 3. Dimension\n",
    "# sind die RGB-Farbanteile des entsprechenden Pixels\n",
    "plt.imshow(rand_array)"
   ]
  },
  {
   "cell_type": "markdown",
   "metadata": {},
   "source": [
    "**Aufgabe:** Erzeugen Sie ein Bild mit der Schweizer Flagge. Legen Sie dazu ein Bild mit 300 mal 300 Pixeln an. Der Hintergrund soll Rot sein, in der Mitte des Bildes soll ein weißes Kreuz erscheinen."
   ]
  },
  {
   "cell_type": "code",
   "execution_count": null,
   "metadata": {
    "deletable": false,
    "nbgrader": {
     "grade": true,
     "grade_id": "cell-a0940d8baeb63c65",
     "locked": false,
     "points": 0,
     "schema_version": 3,
     "solution": true,
     "task": false
    }
   },
   "outputs": [],
   "source": [
    "imgsize = (300,300,3)\n",
    "swiss = np.zeros(imgsize, dtype=\"uint8\")\n",
    "\n",
    "# Ein weißes Pixel:\n",
    "weiss = (255,255,255)\n",
    "\n",
    "# YOUR CODE HERE\n",
    "raise NotImplementedError()\n",
    "\n",
    "plt.imshow(swiss)"
   ]
  },
  {
   "cell_type": "markdown",
   "metadata": {},
   "source": [
    "**Aufgabe (optional):** Erzeugen Sie ein $8\\times{}8$ Graustufen-Bild mit einem Schachbrett-Muster."
   ]
  },
  {
   "cell_type": "code",
   "execution_count": null,
   "metadata": {
    "deletable": false,
    "nbgrader": {
     "grade": true,
     "grade_id": "cell-bd085c84b461b1a0",
     "locked": false,
     "points": 0,
     "schema_version": 3,
     "solution": true,
     "task": false
    }
   },
   "outputs": [],
   "source": [
    "checkboard = np.zeros((8,8), dtype=\"uint8\")\n",
    "\n",
    "# YOUR CODE HERE\n",
    "raise NotImplementedError()\n",
    "\n",
    "plt.imshow(checkboard, cmap=\"gray\")"
   ]
  },
  {
   "cell_type": "markdown",
   "metadata": {},
   "source": [
    "### Gesichter erkennen\n",
    "\n",
    "Der *Labeled Faces in the Wild* Datensatz (LFW) ist eine Sammlung von Portrait-Fotos, die sich als Beispiel-Daten für Problemstellungen wie Gesichtserkennung einsetzen lassen.\n",
    "Die Datenbank wurde an der University of Massachusetts in Amherst erstellt und wird dort auch weiterhin gepflegt.\n",
    "Sie enthält über 13.000 Bilder von mehr als 5.000 Personen.\n",
    "\n",
    "Über die *Scikit-Learn* Bibliothek können wir den Datensatz recht einfach laden.\n",
    "In der Code-Zelle unten, laden wir die Bilder von denjenigen Personen herunter, die mit 100 oder mehr bildern im Datensatz vertreten sind.\n",
    "\n",
    "Das Ergebnis ist eine Art Dictionary mit folgenden Schlüsseln\n",
    "- `data` Die Graustufen-Pixel aller geladenen Bilder als eindimensionales NumPy-Array. Jedes Bild besitz 62x47 Pixel und damit 2914 Graustufenwerte\n",
    "- `images` Die gleichen Werte wie in `data` nur als zweidimensionale NumPy-Arrays der Größe 62x47\n",
    "- `target` Die ID der Person auf dem Bild. Das Attribut `target_names` liefert ein Array mit den Namen zu den entsprechenden IDs zurück\n",
    "- `DESCR` Eine Beschreibung zum LFW Datensatz\n"
   ]
  },
  {
   "cell_type": "code",
   "execution_count": null,
   "metadata": {},
   "outputs": [],
   "source": [
    "from sklearn.datasets import fetch_lfw_people\n",
    "\n",
    "# Lade alle Personen mit mehr als 100 Bildern in der DB herunter\n",
    "people = fetch_lfw_people(min_faces_per_person=100)"
   ]
  },
  {
   "cell_type": "markdown",
   "metadata": {},
   "source": [
    "Wir sehen, dass es nur wenige Personen mit 100 oder mehr Bildern im Datensatz gibt. Wir können nun nachschauen, um welche Personen es sich handelt:"
   ]
  },
  {
   "cell_type": "code",
   "execution_count": null,
   "metadata": {},
   "outputs": [],
   "source": [
    "ids = set(people['target'])\n",
    "for i in ids:\n",
    "    print(f\"ID{i} -> {people.target_names[i]}\")"
   ]
  },
  {
   "cell_type": "markdown",
   "metadata": {},
   "source": [
    "Nun wollen wir ein zufälliges Bild ausgeben.\n",
    "Dazu generieren wir uns eine Zufallszahl im Bereich von 0 bis zur Anzahl der Bilder im Datensatz.\n",
    "Wir laden die Bilddaten aus dem Datensatz und geben Sie mit der Funktion `imshow` aus.\n",
    "\n",
    "**Aufgabe:** Überlegen Sie sich, warum wir hier die Methode `squeeze()` einsetzen. Was tut die Funktion?"
   ]
  },
  {
   "cell_type": "code",
   "execution_count": null,
   "metadata": {},
   "outputs": [],
   "source": [
    "num_images, _ = people.data.shape\n",
    "rand_num = np.random.randint(num_images, size=1)\n",
    "rand_img = people.images[rand_num].squeeze()\n",
    "plt.imshow(rand_img, cmap='gray')\n"
   ]
  },
  {
   "cell_type": "markdown",
   "metadata": {},
   "source": [
    "**Aufgabe:** Schreiben Sie nun eine Funktion `get_images_of(person_id)` die als Ergebnis alle Bilder (`images`) einer bestimmten Person zurückliefert. Die Person soll über die ID, und nicht Ihren Namen ausgewählt werden. Gerhard Schröder z.B. hat die ID 3 im Datensatz. "
   ]
  },
  {
   "cell_type": "code",
   "execution_count": null,
   "metadata": {
    "deletable": false,
    "nbgrader": {
     "grade": true,
     "grade_id": "cell-0000b26c25e08467",
     "locked": false,
     "points": 0,
     "schema_version": 3,
     "solution": true,
     "task": false
    }
   },
   "outputs": [],
   "source": [
    "def get_images_of(person_id):\n",
    "    # YOUR CODE HERE\n",
    "    raise NotImplementedError()\n",
    "\n",
    "schroeder = get_images_of(3)\n",
    "plt.imshow(schroeder[0], cmap='gray')"
   ]
  },
  {
   "cell_type": "markdown",
   "metadata": {},
   "source": [
    "**Aufgabe:** Schreiben Sie eine Funktion `avg_image(person_id)`, die das \"Durchschnittsbild\" einer Person berechnet.\n",
    "Dieses Durchschnittsbild erhalten Sie, indem Sie die Pixel aller Bilder (an jeweils einer Stelle) aufsummieren und davon den Mittelwert wilden.\n",
    "\n",
    "Beachten Sie, dass die einzelnen Bilder 2-dimensionale NumPy Arrays sind, also Matrizen.\n",
    "Sie können die Werte zweier Matrizen punktweise addieren, indem Sie einfach den `+`-Operator verwenden.\n",
    "Den Mittelwert erhalten Sie, indem Sie einfach durch die Anzahl der aufaddierten Bilder teilen."
   ]
  },
  {
   "cell_type": "code",
   "execution_count": null,
   "metadata": {
    "deletable": false,
    "nbgrader": {
     "grade": true,
     "grade_id": "cell-c6a036b19e61a380",
     "locked": false,
     "points": 0,
     "schema_version": 3,
     "solution": true,
     "task": false
    }
   },
   "outputs": [],
   "source": [
    "def avg_image(person_id):\n",
    "    # YOUR CODE HERE\n",
    "    raise NotImplementedError()\n",
    "\n",
    "avg_schroeder = avg_image(3)\n",
    "\n",
    "plt.imshow(avg_schroeder, cmap=\"gray\")"
   ]
  },
  {
   "cell_type": "markdown",
   "metadata": {},
   "source": [
    "**Aufgabe:** Schreiben Sie eine Funktion `img_diff(i0, i1)`, die die mittlere Abweichung der Pixel-Werte zweier Graustufenbilder `i0` und `i1` zurückliefert.\n",
    "\n",
    "Sie können die Aufgabe lösen, indem Sie die Werte der beiden Bilder voneinander abziehen und dann mit `np.abs()` die absoluten Werte bestimmen. `np.sum()` gibt Ihnen die Summer aller Werte in einem `ndarray` zurück, das Attribut `size` liefert Ihnen die Anzahl der Werte im Array."
   ]
  },
  {
   "cell_type": "code",
   "execution_count": null,
   "metadata": {
    "deletable": false,
    "nbgrader": {
     "grade": true,
     "grade_id": "cell-c58568c51a9975c9",
     "locked": false,
     "points": 0,
     "schema_version": 3,
     "solution": true,
     "task": false
    }
   },
   "outputs": [],
   "source": [
    "def img_diff(i0, i1):\n",
    "    # YOUR CODE HERE\n",
    "    raise NotImplementedError()\n",
    "\n",
    "\n",
    "bush = get_images_of(2)\n",
    "avg_bush = avg_image(2)\n",
    "\n",
    "img_diff(avg_bush, bush[0])\n"
   ]
  },
  {
   "cell_type": "markdown",
   "metadata": {},
   "source": [
    "Wir können nun versuchen, mit unseren Durchschnittsbildern eine Personenerkennung zu Programmieren.\n",
    "Die Idee ist folgende:\n",
    "- Wir kennen die Durchschnittsbildern für verschiedene Personen\n",
    "- Wir bekommen ein neues Bild und sollen schätzen, welche Person darauf abgebildet ist\n",
    "- Wir nehmen an, dass das Durchschnittsbild für die gesuchte Person den geringsten Fehler (geringsten Unterschied der Pixel Werte) zum vorliegenden Bild besitzt\n",
    "\n",
    "\n",
    "**Aufgabe:** Berechnen Sie die Durchschnittsbilder von Gerhard Schröder und George W. Bush. Durchlaufen Sie dann alle Bilder von George W. Bush und bestimmen Sie jeweils, ob die Abweichung des Bildes zum Durchschnittsbild von Bush oder zum Durchschnittsbild von Schröder geringer ist. In wie vielen Fällen ist die Abweichung zum Durchschnittsbilde von George W. Bush geringer (*richtige* Vorhersage), in wie vielen Fällen zu dem von Gerhard Schröder (*falsche* Vorhersage)?"
   ]
  },
  {
   "cell_type": "code",
   "execution_count": null,
   "metadata": {
    "deletable": false,
    "nbgrader": {
     "grade": true,
     "grade_id": "cell-e28d73704047c5c8",
     "locked": false,
     "points": 0,
     "schema_version": 3,
     "solution": true,
     "task": false
    }
   },
   "outputs": [],
   "source": [
    "bush = get_images_of(2)\n",
    "avg_bush = avg_image(2)\n",
    "avg_schroeder = avg_image(3)\n",
    "\n",
    "richtig = 0\n",
    "falsch = 0\n",
    "# YOUR CODE HERE\n",
    "raise NotImplementedError()\n",
    "print(\"richtig: \", richtig)\n",
    "print(\"falsch: \", falsch)\n"
   ]
  }
 ],
 "metadata": {
  "kernelspec": {
   "display_name": "Python 3 (ipykernel)",
   "language": "python",
   "name": "python3"
  },
  "language_info": {
   "codemirror_mode": {
    "name": "ipython",
    "version": 3
   },
   "file_extension": ".py",
   "mimetype": "text/x-python",
   "name": "python",
   "nbconvert_exporter": "python",
   "pygments_lexer": "ipython3",
   "version": "3.10.6"
  },
  "varInspector": {
   "cols": {
    "lenName": 16,
    "lenType": 16,
    "lenVar": 40
   },
   "kernels_config": {
    "python": {
     "delete_cmd_postfix": "",
     "delete_cmd_prefix": "del ",
     "library": "var_list.py",
     "varRefreshCmd": "print(var_dic_list())"
    },
    "r": {
     "delete_cmd_postfix": ") ",
     "delete_cmd_prefix": "rm(",
     "library": "var_list.r",
     "varRefreshCmd": "cat(var_dic_list()) "
    }
   },
   "types_to_exclude": [
    "module",
    "function",
    "builtin_function_or_method",
    "instance",
    "_Feature"
   ],
   "window_display": false
  }
 },
 "nbformat": 4,
 "nbformat_minor": 4
}
