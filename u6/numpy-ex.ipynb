{
 "cells": [
  {
   "cell_type": "markdown",
   "id": "95cfe0b1",
   "metadata": {},
   "source": [
    "<figure>\n",
    "  <IMG SRC=\"https://upload.wikimedia.org/wikipedia/commons/thumb/d/d5/Fachhochschule_Südwestfalen_20xx_logo.svg/320px-Fachhochschule_Südwestfalen_20xx_logo.svg.png\" WIDTH=250 ALIGN=\"right\">\n",
    "</figure>\n",
    "\n",
    "# Programmierung für KI\n",
    "### Winterersemester 2022/23\n",
    "Prof. Dr. Heiner Giefers"
   ]
  },
  {
   "cell_type": "markdown",
   "id": "0e2d010a",
   "metadata": {
    "deletable": false,
    "editable": false,
    "nbgrader": {
     "grade": false,
     "grade_id": "cell-70b329aceb4d8db0",
     "locked": true,
     "schema_version": 3,
     "solution": false,
     "task": false
    }
   },
   "source": [
    "**1.** Importieren Sie das numpy Package mit dem namen ``np``."
   ]
  },
  {
   "cell_type": "code",
   "execution_count": null,
   "id": "7e1101c7",
   "metadata": {
    "deletable": false,
    "nbgrader": {
     "grade": false,
     "grade_id": "cell-2c216d4a55e3848c",
     "locked": false,
     "schema_version": 3,
     "solution": true,
     "task": false
    }
   },
   "outputs": [],
   "source": [
    "# YOUR CODE HERE\n",
    "raise NotImplementedError()"
   ]
  },
  {
   "cell_type": "markdown",
   "id": "c4c1eab9",
   "metadata": {
    "deletable": false,
    "editable": false,
    "nbgrader": {
     "grade": false,
     "grade_id": "cell-4c2c73ecfded9ed1",
     "locked": true,
     "schema_version": 3,
     "solution": false,
     "task": false
    }
   },
   "source": [
    "**2.** Erstellen Sie in der Funktion ``create_null_vector`` einen ``null`` Vector der größe 10 und geben Sie diesen zurück."
   ]
  },
  {
   "cell_type": "code",
   "execution_count": null,
   "id": "59bd7290",
   "metadata": {
    "deletable": false,
    "nbgrader": {
     "grade": false,
     "grade_id": "cell-d184b11b2b0aeffa",
     "locked": false,
     "schema_version": 3,
     "solution": true,
     "task": false
    }
   },
   "outputs": [],
   "source": [
    "def create_null_vector():\n",
    "    # YOUR CODE HERE\n",
    "    raise NotImplementedError()"
   ]
  },
  {
   "cell_type": "code",
   "execution_count": null,
   "id": "63a53ef0",
   "metadata": {
    "deletable": false,
    "editable": false,
    "nbgrader": {
     "grade": true,
     "grade_id": "cell-21527004334d46bd",
     "locked": true,
     "points": 1,
     "schema_version": 3,
     "solution": false,
     "task": false
    }
   },
   "outputs": [],
   "source": [
    "from nose.tools import assert_equal\n",
    "\n",
    "assert_equal(np.zeros(10).all(), create_null_vector().all())"
   ]
  },
  {
   "cell_type": "markdown",
   "id": "1009294b",
   "metadata": {
    "deletable": false,
    "editable": false,
    "nbgrader": {
     "grade": false,
     "grade_id": "cell-62f5a5ed8ee12a31",
     "locked": true,
     "schema_version": 3,
     "solution": false,
     "task": false
    }
   },
   "source": [
    "**3.** Schreiben Sie eine Funktion ``array_size``, welche die Speichergröße eines übergebenen Vectors berechnet und zurück gibt."
   ]
  },
  {
   "cell_type": "code",
   "execution_count": null,
   "id": "3293e5fc",
   "metadata": {
    "deletable": false,
    "nbgrader": {
     "grade": false,
     "grade_id": "cell-de5ffe690c4f997b",
     "locked": false,
     "schema_version": 3,
     "solution": true,
     "task": false
    }
   },
   "outputs": [],
   "source": [
    "def array_size(vec):\n",
    "    # YOUR CODE HERE\n",
    "    raise NotImplementedError()"
   ]
  },
  {
   "cell_type": "code",
   "execution_count": null,
   "id": "44df9519",
   "metadata": {
    "deletable": false,
    "editable": false,
    "nbgrader": {
     "grade": true,
     "grade_id": "cell-56eee22182c8019c",
     "locked": true,
     "points": 0,
     "schema_version": 3,
     "solution": false,
     "task": false
    }
   },
   "outputs": [],
   "source": [
    "from nose.tools import assert_equal\n",
    "\n",
    "temp_vector = np.zeros((10, 10))\n",
    "assert_equal(800, array_size(temp_vector))"
   ]
  },
  {
   "cell_type": "markdown",
   "id": "44b637a8",
   "metadata": {
    "deletable": false,
    "editable": false,
    "nbgrader": {
     "grade": false,
     "grade_id": "cell-fd144e4ac9ec779d",
     "locked": true,
     "schema_version": 3,
     "solution": false,
     "task": false
    }
   },
   "source": [
    "**4.** Schreiben Sie eine Funktion ``create_vector_with_range``, welche einen Vector mit Werten erzeugt. Geben Sie den erzeugten Vector zurück. Als Parameter soll der Start und das Ende des Zahlenbereichs übergeben werden."
   ]
  },
  {
   "cell_type": "code",
   "execution_count": null,
   "id": "97f059ce",
   "metadata": {
    "deletable": false,
    "nbgrader": {
     "grade": false,
     "grade_id": "cell-a736159a0423c444",
     "locked": false,
     "schema_version": 3,
     "solution": true,
     "task": false
    }
   },
   "outputs": [],
   "source": [
    "def create_vector_with_range(start, end):\n",
    "    # YOUR CODE HERE\n",
    "    raise NotImplementedError()"
   ]
  },
  {
   "cell_type": "code",
   "execution_count": null,
   "id": "90487c2a",
   "metadata": {
    "deletable": false,
    "editable": false,
    "nbgrader": {
     "grade": true,
     "grade_id": "cell-e82708912f893caa",
     "locked": true,
     "points": 1,
     "schema_version": 3,
     "solution": false,
     "task": false
    }
   },
   "outputs": [],
   "source": [
    "from nose.tools import assert_equal\n",
    "\n",
    "assert_equal(np.arange(10, 50).all(), create_vector_with_range(10, 50).all())"
   ]
  },
  {
   "cell_type": "markdown",
   "id": "ad63fb8b",
   "metadata": {
    "deletable": false,
    "editable": false,
    "nbgrader": {
     "grade": false,
     "grade_id": "cell-73796c5e39a783de",
     "locked": true,
     "schema_version": 3,
     "solution": false,
     "task": false
    }
   },
   "source": [
    "**5.** Schreiben Sie eine Funktion ``array_3_3_3`` welche eine dreidimensionale Matrix mit zufälligen Werten erzeugt."
   ]
  },
  {
   "cell_type": "code",
   "execution_count": null,
   "id": "0db22417",
   "metadata": {
    "deletable": false,
    "nbgrader": {
     "grade": false,
     "grade_id": "cell-aee00ff400d84998",
     "locked": false,
     "schema_version": 3,
     "solution": true,
     "task": false
    }
   },
   "outputs": [],
   "source": [
    "def array_3_3_3():\n",
    "    # YOUR CODE HERE\n",
    "    raise NotImplementedError()"
   ]
  },
  {
   "cell_type": "code",
   "execution_count": null,
   "id": "608196ab",
   "metadata": {
    "deletable": false,
    "editable": false,
    "nbgrader": {
     "grade": true,
     "grade_id": "cell-ad198a08b7430541",
     "locked": true,
     "points": 1,
     "schema_version": 3,
     "solution": false,
     "task": false
    }
   },
   "outputs": [],
   "source": [
    "from nose.tools import assert_equal\n",
    "\n",
    "assert_equal((3, 3, 3), array_3_3_3().shape, \"Die Arraygröße stimmt nicht.\")"
   ]
  },
  {
   "cell_type": "markdown",
   "id": "994a8e62",
   "metadata": {
    "deletable": false,
    "editable": false,
    "nbgrader": {
     "grade": false,
     "grade_id": "cell-fdf479c81dc2ef7c",
     "locked": true,
     "schema_version": 3,
     "solution": false,
     "task": false
    }
   },
   "source": [
    "**6.** Schreiben Sie eine Funktion ``calculate_array_extrema`` welche eine Matrix als Parameter übernimmt und ihren höchsten sowie niedrigsten Wert als Tupel zurückgibt."
   ]
  },
  {
   "cell_type": "code",
   "execution_count": null,
   "id": "42d693e1",
   "metadata": {
    "deletable": false,
    "nbgrader": {
     "grade": false,
     "grade_id": "cell-a9ffdc7376513ba1",
     "locked": false,
     "schema_version": 3,
     "solution": true,
     "task": false
    }
   },
   "outputs": [],
   "source": [
    "def calculate_array_extrema(arr):\n",
    "    # YOUR CODE HERE\n",
    "    raise NotImplementedError()"
   ]
  },
  {
   "cell_type": "code",
   "execution_count": null,
   "id": "87f5a797",
   "metadata": {
    "deletable": false,
    "editable": false,
    "nbgrader": {
     "grade": true,
     "grade_id": "cell-d727c43cee9a8f83",
     "locked": true,
     "points": 1,
     "schema_version": 3,
     "solution": false,
     "task": false
    }
   },
   "outputs": [],
   "source": [
    "from nose.tools import assert_equal\n",
    "\n",
    "temp = np.arange(21,30).reshape(3, 3)\n",
    "assert_equal((21, 29), calculate_array_extrema(temp))"
   ]
  },
  {
   "cell_type": "markdown",
   "id": "c49688f3",
   "metadata": {
    "deletable": false,
    "editable": false,
    "nbgrader": {
     "grade": false,
     "grade_id": "cell-ba9ac760cb4bbc68",
     "locked": true,
     "schema_version": 3,
     "solution": false,
     "task": false
    }
   },
   "source": [
    "**7.** Schreiben Sie eine Funktion ``checkboard_matrix`` welche eine 2-Dimensionale Matrix mit Schachbrettmuster erzeugt. Das Schachbrett soll aus den Einträgen ``0`` und ``1`` bestehen. Mit den Parametern ``x`` und ``y`` kann die Matrixgröße übergeben werden."
   ]
  },
  {
   "cell_type": "code",
   "execution_count": null,
   "id": "a841c258",
   "metadata": {
    "deletable": false,
    "nbgrader": {
     "grade": false,
     "grade_id": "cell-af25f252752f2f68",
     "locked": false,
     "schema_version": 3,
     "solution": true,
     "task": false
    }
   },
   "outputs": [],
   "source": [
    "def checkboard_matrix(x, y):\n",
    "    # YOUR CODE HERE\n",
    "    raise NotImplementedError()\n",
    "checkboard_matrix(3, 5)"
   ]
  },
  {
   "cell_type": "code",
   "execution_count": null,
   "id": "ebe12fb4",
   "metadata": {
    "deletable": false,
    "editable": false,
    "nbgrader": {
     "grade": true,
     "grade_id": "cell-7fbc83bb06f560f3",
     "locked": true,
     "points": 1,
     "schema_version": 3,
     "solution": false,
     "task": false
    }
   },
   "outputs": [],
   "source": [
    "from nose.tools import assert_equal\n",
    "\n",
    "assert_equal(0, checkboard_matrix(3, 3).min(), \"Der niedrigste Wert soll 0 sein.\")\n",
    "assert_equal(1, checkboard_matrix(3, 3).max(), \"Der höchste Wert soll 1 sein.\")\n",
    "assert_equal((3, 4), checkboard_matrix(3, 4).shape, \"Die Arraygröße stimmt nicht.\")\n",
    "assert_equal(0, checkboard_matrix(3, 4)[1, 1], \"Die Schachbrettgenerierung stimmt nicht.\")\n",
    "assert_equal(1, checkboard_matrix(3, 4)[1, 2], \"Die Schachbrettgenerierung stimmt nicht.\")"
   ]
  },
  {
   "cell_type": "markdown",
   "id": "3f21f17f",
   "metadata": {
    "deletable": false,
    "editable": false,
    "nbgrader": {
     "grade": false,
     "grade_id": "cell-93bef4a504c24c8a",
     "locked": true,
     "schema_version": 3,
     "solution": false,
     "task": false
    }
   },
   "source": [
    "**8.** Schreiben Sie eine Funktion ``multiply_matrix`` welche zwei übergebene Matrizen multipliziert zurück gibt."
   ]
  },
  {
   "cell_type": "code",
   "execution_count": null,
   "id": "6271f52d",
   "metadata": {
    "deletable": false,
    "nbgrader": {
     "grade": false,
     "grade_id": "cell-48e9b1f18cd7174e",
     "locked": false,
     "schema_version": 3,
     "solution": true,
     "task": false
    }
   },
   "outputs": [],
   "source": [
    "def normalize_matrix(matrix1, matrix2):\n",
    "    # YOUR CODE HERE\n",
    "    raise NotImplementedError()"
   ]
  },
  {
   "cell_type": "code",
   "execution_count": null,
   "id": "e4b1b73b",
   "metadata": {
    "deletable": false,
    "editable": false,
    "nbgrader": {
     "grade": true,
     "grade_id": "cell-b56062f21dbdbbc4",
     "locked": true,
     "points": 1,
     "schema_version": 3,
     "solution": false,
     "task": false
    }
   },
   "outputs": [],
   "source": [
    "from nose.tools import assert_equal\n",
    "\n",
    "temp = normalize_matrix(np.ones((5, 3)), np.ones((3, 2)))\n",
    "assert_equal(3, temp.min(), \"Der niedrigste Wert soll 3 sein.\")\n",
    "assert_equal(3, temp.max(), \"Der höchste Wert soll 3 sein.\")\n",
    "assert_equal((5, 2), temp.shape)"
   ]
  },
  {
   "cell_type": "markdown",
   "id": "e903f050",
   "metadata": {
    "deletable": false,
    "editable": false,
    "nbgrader": {
     "grade": false,
     "grade_id": "cell-c04f1df2c9e17894",
     "locked": true,
     "schema_version": 3,
     "solution": false,
     "task": false
    }
   },
   "source": [
    "**9** Schreiben Sie eine Funktion ``common_values``, welche die gemeinsamen Werte von zwei übergebenen Matrizen findet und als Standartliste zurückgibt."
   ]
  },
  {
   "cell_type": "code",
   "execution_count": null,
   "id": "f0858ddb",
   "metadata": {
    "deletable": false,
    "nbgrader": {
     "grade": false,
     "grade_id": "cell-51eeef2ec55456ca",
     "locked": false,
     "schema_version": 3,
     "solution": true,
     "task": false
    }
   },
   "outputs": [],
   "source": [
    "def common_values(matrix1, matrix2):\n",
    "    # YOUR CODE HERE\n",
    "    raise NotImplementedError()"
   ]
  },
  {
   "cell_type": "code",
   "execution_count": null,
   "id": "b8724f5d",
   "metadata": {
    "deletable": false,
    "editable": false,
    "nbgrader": {
     "grade": true,
     "grade_id": "cell-3913521fd97b9d40",
     "locked": true,
     "points": 1,
     "schema_version": 3,
     "solution": false,
     "task": false
    }
   },
   "outputs": [],
   "source": [
    "from nose.tools import assert_equal\n",
    "\n",
    "m1 = np.arange(9).reshape(3,3)\n",
    "m2 = np.arange(18).reshape(3, 6)\n",
    "\n",
    "assert_equal([0, 1, 2, 3, 4, 5, 6, 7, 8], common_values(m1, m2), \"Die gefundenen Werte stimmen noch nicht!\")"
   ]
  },
  {
   "cell_type": "markdown",
   "id": "334b38f8",
   "metadata": {
    "deletable": false,
    "editable": false,
    "nbgrader": {
     "grade": false,
     "grade_id": "cell-9b3018a6799ca4f6",
     "locked": true,
     "schema_version": 3,
     "solution": false,
     "task": false
    }
   },
   "source": [
    "**10** Schreiben Sie eine Funktion ``dates`` welche ein Numpyarray mit allen Daten (von Datum) zwischen einem übergebenen Start und Endzeitpunkt generiert. Geben Sie das erstellte Objekt zurück.\n",
    "\n",
    "*Tipp: dytpe='datetime64[D]'*"
   ]
  },
  {
   "cell_type": "code",
   "execution_count": null,
   "id": "c4a55f02",
   "metadata": {
    "deletable": false,
    "nbgrader": {
     "grade": false,
     "grade_id": "cell-f18f69286b6e9637",
     "locked": false,
     "schema_version": 3,
     "solution": true,
     "task": false
    }
   },
   "outputs": [],
   "source": [
    "def dates(start, end):\n",
    "    # YOUR CODE HERE\n",
    "    raise NotImplementedError()"
   ]
  },
  {
   "cell_type": "code",
   "execution_count": null,
   "id": "b9df33cf",
   "metadata": {
    "deletable": false,
    "editable": false,
    "nbgrader": {
     "grade": true,
     "grade_id": "cell-a0d1968cd16f1cb9",
     "locked": true,
     "points": 1,
     "schema_version": 3,
     "solution": false,
     "task": false
    }
   },
   "outputs": [],
   "source": [
    "from nose.tools import assert_equal\n",
    "\n",
    "temp = dates('2022-01', '2022-04')\n",
    "assert_equal(90, len(temp), \"Es wurden nicht entsprechend viele Daten gefunden.\")\n",
    "assert_equal(np.datetime64('2022-01-01'), min(temp), \"Die untere Datumsgrenze ist falsch.\")\n",
    "assert_equal(np.datetime64('2022-03-31'), max(temp), \"Die obere Datumsgrenze ist falsch.\")"
   ]
  },
  {
   "cell_type": "markdown",
   "id": "8a0e77de",
   "metadata": {
    "deletable": false,
    "editable": false,
    "nbgrader": {
     "grade": false,
     "grade_id": "cell-a6655a85511fbaa3",
     "locked": true,
     "schema_version": 3,
     "solution": false,
     "task": false
    }
   },
   "source": [
    "**11** Schreiben Sie eine Funktion ``small_vector`` welche einen Vektor der größe 10 erstellt und dessen Werte nur den Wertebereich ``0 < x < 1`` besitzen. Geben Sie den erstellten Vektor zurück."
   ]
  },
  {
   "cell_type": "code",
   "execution_count": null,
   "id": "d7fb6c2e",
   "metadata": {
    "deletable": false,
    "nbgrader": {
     "grade": false,
     "grade_id": "cell-011369ef405566ff",
     "locked": false,
     "schema_version": 3,
     "solution": true,
     "task": false
    }
   },
   "outputs": [],
   "source": [
    "def small_vector():\n",
    "    # YOUR CODE HERE\n",
    "    raise NotImplementedError()"
   ]
  },
  {
   "cell_type": "code",
   "execution_count": null,
   "id": "35aa9a32",
   "metadata": {
    "deletable": false,
    "editable": false,
    "nbgrader": {
     "grade": true,
     "grade_id": "cell-7887c51d75257bde",
     "locked": true,
     "points": 1,
     "schema_version": 3,
     "solution": false,
     "task": false
    }
   },
   "outputs": [],
   "source": [
    "temp = small_vector()\n",
    "assert min(temp) > 0, \"Der kleinste Wert muss größer als 0 sein.\"\n",
    "assert max(temp) < 1, \"Der größte Wert muss kleiner als 1 sein.\"\n",
    "assert 10 == len(temp), \"Der Vektor soll die Größe 10 besitzen.\""
   ]
  },
  {
   "cell_type": "markdown",
   "id": "1635d347",
   "metadata": {
    "deletable": false,
    "editable": false,
    "nbgrader": {
     "grade": false,
     "grade_id": "cell-b617ab0646a0d813",
     "locked": true,
     "schema_version": 3,
     "solution": false,
     "task": false
    }
   },
   "source": [
    "**12** Schreiben Sie eine Funktion ``convert_int_to_float`` welche ein übergebenes float Array in ein integer Array überführt und zurückgibt."
   ]
  },
  {
   "cell_type": "code",
   "execution_count": null,
   "id": "1ada2c8b",
   "metadata": {
    "deletable": false,
    "nbgrader": {
     "grade": false,
     "grade_id": "cell-a8e4e28d0c26929c",
     "locked": false,
     "schema_version": 3,
     "solution": true,
     "task": false
    }
   },
   "outputs": [],
   "source": [
    "def convert_int_to_float(m1):\n",
    "    # YOUR CODE HERE\n",
    "    raise NotImplementedError()"
   ]
  },
  {
   "cell_type": "code",
   "execution_count": null,
   "id": "c9de310e",
   "metadata": {
    "deletable": false,
    "editable": false,
    "nbgrader": {
     "grade": true,
     "grade_id": "cell-ba2c6b851baf3860",
     "locked": true,
     "points": 1,
     "schema_version": 3,
     "solution": false,
     "task": false
    }
   },
   "outputs": [],
   "source": [
    "from nose.tools import assert_equal\n",
    "\n",
    "temp = (np.random.rand(10)*100).astype(np.float32)\n",
    "temp2 = convert_int_to_float(temp)\n",
    "assert_equal(np.int32, type(temp2[1]), \"Die Konvertierung war nicht erfolgreich.\")"
   ]
  },
  {
   "cell_type": "markdown",
   "id": "08b4cb01",
   "metadata": {
    "deletable": false,
    "editable": false,
    "nbgrader": {
     "grade": false,
     "grade_id": "cell-091791d3dd0f10a8",
     "locked": true,
     "schema_version": 3,
     "solution": false,
     "task": false
    }
   },
   "source": [
    "**13.** Schreiben Sie ein Programm ``random_matrix`` womit Sie eine 5x3 Matrix erzeugen, welche mit 0en initialisiert ist. Platzieren Sie anschließend in dieser Matrix die übergebene Anzahl von ``1`` an zufälligen Stellen. Geben Sie die generierte Matrix zurück."
   ]
  },
  {
   "cell_type": "code",
   "execution_count": null,
   "id": "22bcbdfd",
   "metadata": {
    "deletable": false,
    "nbgrader": {
     "grade": false,
     "grade_id": "cell-523f142a5e9ef09e",
     "locked": false,
     "schema_version": 3,
     "solution": true,
     "task": false
    }
   },
   "outputs": [],
   "source": [
    "def random_matrix(number):\n",
    "    # YOUR CODE HERE\n",
    "    raise NotImplementedError()"
   ]
  },
  {
   "cell_type": "code",
   "execution_count": null,
   "id": "74bb17ec",
   "metadata": {
    "deletable": false,
    "editable": false,
    "nbgrader": {
     "grade": true,
     "grade_id": "cell-d036bf1c547ced30",
     "locked": true,
     "points": 1,
     "schema_version": 3,
     "solution": false,
     "task": false
    }
   },
   "outputs": [],
   "source": [
    "import collections\n",
    "from nose.tools import assert_equal\n",
    "\n",
    "temp = random_matrix(4)\n",
    "unique, counts = np.unique(temp, return_counts=True)\n",
    "x = dict(zip(unique, counts))\n",
    "\n",
    "assert_equal(x[1], 4, \"Die generierte Anzahl stimmt nicht.\")\n",
    "\n",
    "temp2 = random_matrix(4)\n",
    "assert_equal(False, (temp==temp2).all(), \"Generieren Sie die Wertpositionen zufällig.\")"
   ]
  },
  {
   "cell_type": "markdown",
   "id": "8509bf16",
   "metadata": {
    "deletable": false,
    "editable": false,
    "nbgrader": {
     "grade": false,
     "grade_id": "cell-cf428bc225065db6",
     "locked": true,
     "schema_version": 3,
     "solution": false,
     "task": false
    }
   },
   "source": [
    "**14.** Sortieren Sie das Array nach der Nten Spalte. Implementieren Sie dafür eine Funktion ``sort_matrix``. Die Funktion nimmt als Parameter ein Array und eine Spaltennummer nach welcher sortiert werden soll an. Geben Sie das sortierte Array zurück."
   ]
  },
  {
   "cell_type": "code",
   "execution_count": null,
   "id": "3dfb9a25",
   "metadata": {
    "deletable": false,
    "nbgrader": {
     "grade": false,
     "grade_id": "cell-ec64b9fa891cd711",
     "locked": false,
     "schema_version": 3,
     "solution": true,
     "task": false
    }
   },
   "outputs": [],
   "source": [
    "def sort_matrix(array, column):\n",
    "    # YOUR CODE HERE\n",
    "    raise NotImplementedError()"
   ]
  },
  {
   "cell_type": "code",
   "execution_count": null,
   "id": "6a473754",
   "metadata": {
    "deletable": false,
    "editable": false,
    "nbgrader": {
     "grade": true,
     "grade_id": "cell-da8a71f89e9cd320",
     "locked": true,
     "points": 1,
     "schema_version": 3,
     "solution": false,
     "task": false
    }
   },
   "outputs": [],
   "source": [
    "from nose.tools import assert_equal\n",
    "array = np.array([[1,3,5,7,9], [15, 2, 9, 6, 3], [2,4,6,8,10]])\n",
    "\n",
    "r = sort_matrix(array, 1)\n",
    "r1 = np.array([[15,2,9,6,3],[1,3,5,7,9],[2,4,6,8,10]])\n",
    "\n",
    "assert_equal(True, (r==r1).all(), \"Das Array wurde nicht richtig sortiert.\")"
   ]
  },
  {
   "cell_type": "markdown",
   "id": "d62a96b2",
   "metadata": {
    "deletable": false,
    "editable": false,
    "nbgrader": {
     "grade": false,
     "grade_id": "cell-36c1debbcb913674",
     "locked": true,
     "schema_version": 3,
     "solution": false,
     "task": false
    }
   },
   "source": [
    "**15.** Schreiben Sie eine Funktion ``find_next`` welche ein Array entgegennimmt. Geben Sie den am nächsten an einem übergebenen Wert liegenden Wert zurück. "
   ]
  },
  {
   "cell_type": "code",
   "execution_count": null,
   "id": "08e890e0",
   "metadata": {
    "deletable": false,
    "nbgrader": {
     "grade": false,
     "grade_id": "cell-c04dc1112e92696d",
     "locked": false,
     "schema_version": 3,
     "solution": true,
     "task": false
    }
   },
   "outputs": [],
   "source": [
    "def find_next(array, value):\n",
    "    # YOUR CODE HERE\n",
    "    raise NotImplementedError()"
   ]
  },
  {
   "cell_type": "code",
   "execution_count": null,
   "id": "a91ae628",
   "metadata": {
    "deletable": false,
    "editable": false,
    "nbgrader": {
     "grade": true,
     "grade_id": "cell-0e39d64d1728c8bd",
     "locked": true,
     "points": 1,
     "schema_version": 3,
     "solution": false,
     "task": false
    }
   },
   "outputs": [],
   "source": [
    "from nose.tools import assert_equal\n",
    "\n",
    "array = np.array([[1,3,5,7,9], [15, 2, 9, 6, 3], [2,4,6,8,10]])\n",
    "assert_equal(15, find_next(array, 20), \"Es wurde der falsche Wert gefunden.\")"
   ]
  },
  {
   "cell_type": "markdown",
   "id": "f4ff4cbc",
   "metadata": {
    "deletable": false,
    "editable": false,
    "nbgrader": {
     "grade": false,
     "grade_id": "cell-e76d14704a7240bb",
     "locked": true,
     "schema_version": 3,
     "solution": false,
     "task": false
    }
   },
   "source": [
    "**16.** Schreiben Sie eine Funktion ``split_array`` die aus einem übergebenen Array die höchsten 5 Zahlen findet und zurückgibt."
   ]
  },
  {
   "cell_type": "code",
   "execution_count": null,
   "id": "fc64fa57",
   "metadata": {
    "deletable": false,
    "nbgrader": {
     "grade": false,
     "grade_id": "cell-93fdc67224c5c399",
     "locked": false,
     "schema_version": 3,
     "solution": true,
     "task": false
    }
   },
   "outputs": [],
   "source": [
    "# YOUR CODE HERE\n",
    "raise NotImplementedError()"
   ]
  },
  {
   "cell_type": "code",
   "execution_count": null,
   "id": "3c642a22",
   "metadata": {
    "deletable": false,
    "editable": false,
    "nbgrader": {
     "grade": true,
     "grade_id": "cell-92aa3223fe8d7ce8",
     "locked": true,
     "points": 1,
     "schema_version": 3,
     "solution": false,
     "task": false
    }
   },
   "outputs": [],
   "source": [
    "from nose.tools import assert_equal\n",
    "array = np.arange(40,60,dtype=np.uint32)\n",
    "\n",
    "assert_equal(True, (np.array([55,56,57,58,59])==split_array(array)).all(), \"Es wurden die falschen Elemente gefunden.\")"
   ]
  },
  {
   "cell_type": "markdown",
   "id": "2ee1831f",
   "metadata": {
    "deletable": false,
    "editable": false,
    "nbgrader": {
     "grade": false,
     "grade_id": "cell-35ee900268e6ce61",
     "locked": true,
     "schema_version": 3,
     "solution": false,
     "task": false
    }
   },
   "source": [
    "**17.** Schreiben Sie eine Funktion ``remove_equal`` welche Zeilen aus einer übergebenen Matrix entfernt, die ausschließlich den selben Wert enthalten (z.B. [1,1,1]). Geben Sie die korrigierte Matrix zurück."
   ]
  },
  {
   "cell_type": "code",
   "execution_count": null,
   "id": "b6305c51",
   "metadata": {
    "deletable": false,
    "nbgrader": {
     "grade": false,
     "grade_id": "cell-ab03147bf79098c9",
     "locked": false,
     "schema_version": 3,
     "solution": true,
     "task": false
    }
   },
   "outputs": [],
   "source": [
    "def remove_equal(array):\n",
    "    # YOUR CODE HERE\n",
    "    raise NotImplementedError()"
   ]
  },
  {
   "cell_type": "code",
   "execution_count": null,
   "id": "acfadfaf",
   "metadata": {
    "deletable": false,
    "editable": false,
    "nbgrader": {
     "grade": true,
     "grade_id": "cell-10ec3fb98721646c",
     "locked": true,
     "points": 1,
     "schema_version": 3,
     "solution": false,
     "task": false
    }
   },
   "outputs": [],
   "source": [
    "from nose.tools import assert_equal\n",
    "\n",
    "array = np.array([[4,1,0],[4,2,2],[1,1,3],[3,2,0],[4,4,3],[0,4,2],[4,4,4],[0,1,2],[3,4,2],[3,0,3]])\n",
    "r = np.array([[4,1,0],[4,2,2],[1,1,3],[3,2,0],[4,4,3],[0,4,2],[0,1,2],[3,4,2],[3,0,3]])\n",
    "\n",
    "assert_equal(True, (r == remove_equal(array)).all(), \"Es wurden nicht die richtigen Werte entfernt.\")"
   ]
  }
 ],
 "metadata": {
  "kernelspec": {
   "display_name": "Python 3 (ipykernel)",
   "language": "python",
   "name": "python3"
  },
  "language_info": {
   "codemirror_mode": {
    "name": "ipython",
    "version": 3
   },
   "file_extension": ".py",
   "mimetype": "text/x-python",
   "name": "python",
   "nbconvert_exporter": "python",
   "pygments_lexer": "ipython3",
   "version": "3.10.6"
  }
 },
 "nbformat": 4,
 "nbformat_minor": 5
}
