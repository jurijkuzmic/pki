{
 "cells": [
  {
   "cell_type": "markdown",
   "metadata": {},
   "source": [
    "<figure>\n",
    "  <IMG SRC=\"https://upload.wikimedia.org/wikipedia/commons/thumb/d/d5/Fachhochschule_Südwestfalen_20xx_logo.svg/320px-Fachhochschule_Südwestfalen_20xx_logo.svg.png\" WIDTH=250 ALIGN=\"right\">\n",
    "</figure>\n",
    "\n",
    "# Programmierung für KI\n",
    "### Winterersemester 2022/23\n",
    "Prof. Dr. Heiner Giefers"
   ]
  },
  {
   "cell_type": "markdown",
   "metadata": {},
   "source": [
    "# Reguläre Ausdrücke\n",
    "\n",
    "In diesem Aufgabenblatt wollen wir uns einige Prblemstellungen ansehen, die man mit *regulären Ausdrücken* lösen kann.\n",
    "Im ersten Teil sollen Sie verschiedene reguläre Ausdrücke schreiben, um Informationen aus einem kurzen Text zu extrahieren.\n",
    "Im zweiten Teil schauen wir uns ein Beispiel für ein Einsatzgebiet an, in dem reguläre Ausdrücke häufig verwendet werden: dem Abgreifen von Information aus Internetseiten.\n",
    "\n",
    "*Hinweis:* Beim Finden der rgulären Ausdrücke kann Ihnen die Seite [regex101.com](https://regex101.com) helfen."
   ]
  },
  {
   "cell_type": "markdown",
   "metadata": {},
   "source": [
    "Betrachten Sie folgenden kurzen Text über die Fachhochschule Südwestfalen."
   ]
  },
  {
   "cell_type": "code",
   "execution_count": null,
   "metadata": {},
   "outputs": [],
   "source": [
    "text = \"\"\"Die Fachhochschule Südwestfalen mit Sitz in 58590 Iserlohn besitzt weitere Standorte in\n",
    "58095 Hagen, 59872 Meschede, 59494 Soest und 58507 Lüdenscheid. Der Rektor der Hochschule ist seit\n",
    "2008 Claus Schuster. Die Vorgänger im Amt waren Teusner, Michael und J. Liese.\"\"\""
   ]
  },
  {
   "cell_type": "markdown",
   "metadata": {},
   "source": [
    "**Aufgabe:** Finden Sie alle Postleitzahlen im Text mit einem regulären Ausdruck. Die Postleitzahlen sollen als Liste (von Strings) unter dem Namen `plzn` abgespeichert werden."
   ]
  },
  {
   "cell_type": "code",
   "execution_count": null,
   "metadata": {
    "deletable": false,
    "nbgrader": {
     "grade": false,
     "grade_id": "cell-a1d2ad970ab1fa0d",
     "locked": false,
     "schema_version": 3,
     "solution": true,
     "task": false
    }
   },
   "outputs": [],
   "source": [
    "import re\n",
    "\n",
    "plzn = []\n",
    "\n",
    "# YOUR CODE HERE\n",
    "raise NotImplementedError()\n",
    "\n",
    "print(plzn)"
   ]
  },
  {
   "cell_type": "code",
   "execution_count": null,
   "metadata": {
    "deletable": false,
    "editable": false,
    "nbgrader": {
     "grade": true,
     "grade_id": "cell-ab037d4f84fc0314",
     "locked": true,
     "points": 0,
     "schema_version": 3,
     "solution": false,
     "task": false
    }
   },
   "outputs": [],
   "source": [
    "# Test Zelle\n",
    "assert len(plzn)==5, \"Falsch Anzahl von Postleitzahlen gefunden\"\n",
    "for p in [58590, 58095, 59872, 59494, 58507]:\n",
    "    assert str(p) in plzn, f\"PLZ {p} nicht gefunden\""
   ]
  },
  {
   "cell_type": "markdown",
   "metadata": {},
   "source": [
    "In den nächsten Aufgaben wollen wir alle Eigennamen im Text identifizieren. Dazu gehen wir schrittweise vor und verbessern unser Lösung nach und nach.\n",
    "\n",
    "**Aufgabe:** Schreiben Sie zwei reguläre Ausdrücke um mögliche Eigennamen zu identifizieren. Die Namen sollen nach folgenden Musters zusammengesetzt sein:\n",
    "\n",
    "- Regulärer Ausdruck 1: `Wort Wort` oder\n",
    "- Regulärer Ausdruck 2: `Wort, Wort`\n",
    "\n",
    "wobei `Wort` jeweils mit einem Großbuchstaben beginnen muss, dem eine Reihe von mindestens einem Kleinbuchstaben folgen muss.\n",
    "\n",
    "Beachten Sie, dass im Deutschen die Buchstaben auch Umlaute und das Eszett enthalten können."
   ]
  },
  {
   "cell_type": "code",
   "execution_count": null,
   "metadata": {
    "deletable": false,
    "nbgrader": {
     "grade": false,
     "grade_id": "cell-e665bce69c34fd2e",
     "locked": false,
     "schema_version": 3,
     "solution": true,
     "task": false
    }
   },
   "outputs": [],
   "source": [
    "namen = []\n",
    "\n",
    "# YOUR CODE HERE\n",
    "raise NotImplementedError()\n",
    "\n",
    "print(namen)"
   ]
  },
  {
   "cell_type": "code",
   "execution_count": null,
   "metadata": {
    "deletable": false,
    "editable": false,
    "nbgrader": {
     "grade": true,
     "grade_id": "cell-bc3e7e390d44b2a5",
     "locked": true,
     "points": 0,
     "schema_version": 3,
     "solution": false,
     "task": false
    }
   },
   "outputs": [],
   "source": [
    "# Test Zelle\n",
    "\n",
    "assert \"Claus Schuster\" in namen, \"Eigenname 'Claus Schuster' sollte mit einem einfachen re. Ausdruck erkannt werden\"\n",
    "uml = False\n",
    "for n in namen:\n",
    "    if 'Vorgänger' in n:\n",
    "        uml = True\n",
    "assert uml, \"Auch 'Vorgänge' sollte hier erkannt werden\""
   ]
  },
  {
   "cell_type": "markdown",
   "metadata": {},
   "source": [
    "Artikel (z.b. *Der*, *Die* oder *Das*), die nach einem Zeilenumbruch oder Nach einem Punkt folgen, \"verunreinigen\" leider unsere Ergebnisse. So wird mit einem einfachen regulären Ausdruck etwa der Teilstring *Die Fachhochschule* als Eigenname erkannt.\n",
    "\n",
    "Um dies zu umgehen, können wir komplexere reguläre Audrücke aufstellen, die mit solchen Sonderfällen umgehen können. Eine Alternative, die oftmals etwas einfacher programmiert werden kann, ist, den ursprünglichen Text vorzuverarbeiten. \n",
    "\n",
    "**Aufgabe:** Erzeugen sie aus der Zeichenkette `text` eine neue Zeichenkette in der alle Vorkommen von der bestimmten Artikel *Der*, *Die* und *Das* am <u>Zeilenanfang und Satzanfang</u> entfernt sind. Wenden Sie die regulären Ausdrücke aus der vorherigen Aufgabe erneut an, um nun die Eigennamen zu extrahieren.\n",
    "\n",
    "Sie sollten nun die Namen *Fachhochschule Südwestfalen*, *Claus Schuster* und *Teusner, Michael* finden.\n",
    "\n",
    "*Hinweise:*\n",
    " - Das Löschen der Zeichen können Sie über die `re`-Funktion `sub()` erledigen\n",
    " - Wenn Sie in einem regulären Ausdruck mehrere Möglichkeiten für eine Zeichenfolge angeben, spricht man von Alternativen. Alternativen werden durch einen senkrechten Strich `|` (auch *Pipe*-Symbol genannt) voneinander getrennt. `r'T(ic|ac|oe)'` passt also gleichermaßen auf *Tic*, *Tac* und *Toe*."
   ]
  },
  {
   "cell_type": "code",
   "execution_count": null,
   "metadata": {
    "deletable": false,
    "nbgrader": {
     "grade": false,
     "grade_id": "cell-5ff1ff87b6cef337",
     "locked": false,
     "schema_version": 3,
     "solution": true,
     "task": false
    }
   },
   "outputs": [],
   "source": [
    "namen = []\n",
    "\n",
    "# YOUR CODE HERE\n",
    "raise NotImplementedError()\n",
    "\n",
    "print(namen)\n"
   ]
  },
  {
   "cell_type": "code",
   "execution_count": null,
   "metadata": {
    "deletable": false,
    "editable": false,
    "nbgrader": {
     "grade": true,
     "grade_id": "cell-51026b1cca4381e8",
     "locked": true,
     "points": 0,
     "schema_version": 3,
     "solution": false,
     "task": false
    }
   },
   "outputs": [],
   "source": [
    "# Test Zelle\n",
    "assert len(namen)==3, \"Falsche Anzahl von Matches\"\n",
    "alle_gefunden = True\n",
    "for n in ['Fachhochschule Südwestfalen', 'Claus Schuster', 'Teusner, Michael']:\n",
    "    if n not in namen:\n",
    "        alle_gefunden = False\n",
    "assert alle_gefunden, \"Nicht alle Namen extrahiert\""
   ]
  },
  {
   "cell_type": "markdown",
   "metadata": {},
   "source": [
    "Manchmal werden bei Personennamen die Vornamen durch ein Initial abgekürzt, wie hier im Beispiel bei Jörg Liese mit *J. Liese*.\n",
    "\n",
    "**Aufgabe:** Ändern Sie die reguläre Ausdrücke so ab, dass auch abgekürzte Vornamen erkannt werden. Also:\n",
    "- Regulärer Ausdruck 1: `Wort Wort` oder `W. Wort` oder\n",
    "- Regulärer Ausdruck 2: `Wort, Wort` oder  `Wort, W.`\n",
    "\n",
    "wobei `Wort` jeweils mit einem Großbuchstaben beginnen muss, dem eine Reihe von mindestens einem Kleinbuchstaben folgen muss. `W.` sthet für einen Großbuchstaben, aud den direkt ein Punkt folgt.\n",
    "\n",
    "*Hinweis:* Wenn Sie in einem regulären Ausdruck Alternativen mit einem senkrechten Strich `|` angeben, müsssen sie diese Alternativen häufig mit Klammern gruppieren. `r'A|U|Im'` passt also auf die Zeichenketten *A*, *U* und *Im*. Möchte man *Am*, *Um* und *Im* matchen, müsste der Ausdruck `r'(A|U|I)m'` lauten.\n",
    "\n",
    "Allerdings werden in regulären Ausdrücken *zusammengefasste Teilausdrücke* (die sogenannten *Capturing Groups*) mit runden Klammern eingefasst. In unserer Ergebniosliste würden also die geklammerten Alternativen als einzelne Teil-Matches erscheinen.\n",
    "\n",
    "Ein Weg um dieses Bilden von Teilausdrücken zu vermeiden, sind *Non-Capturing Groups*. Im Grunde müssen wir unserer Klammerung sagen, dass der geklammerte Ausdruck nicht in einer Gruppe resultieren soll. In den meisten Sprachen für reguläre Ausdrücke macht man dies, indem man der öffnenden Klammer ein `:?` nachstellt. In unserem Beispiel von oben sieht das folgendermaßen aus: `r'(?:A|U|I)m)'`"
   ]
  },
  {
   "cell_type": "code",
   "execution_count": null,
   "metadata": {
    "deletable": false,
    "nbgrader": {
     "grade": false,
     "grade_id": "cell-6af7fed24481e149",
     "locked": false,
     "schema_version": 3,
     "solution": true,
     "task": false
    }
   },
   "outputs": [],
   "source": [
    "namen = []\n",
    "\n",
    "# YOUR CODE HERE\n",
    "raise NotImplementedError()\n",
    "\n",
    "print(namen)"
   ]
  },
  {
   "cell_type": "code",
   "execution_count": null,
   "metadata": {
    "deletable": false,
    "editable": false,
    "nbgrader": {
     "grade": true,
     "grade_id": "cell-9228fafb9303a2c0",
     "locked": true,
     "points": 0,
     "schema_version": 3,
     "solution": false,
     "task": false
    }
   },
   "outputs": [],
   "source": [
    "# Test Zelle\n",
    "assert len(namen)==4, \"Falsche Anzahl von Matches\"\n",
    "alle_gefunden = True\n",
    "for n in ['Fachhochschule Südwestfalen', 'Claus Schuster', 'J. Liese', 'Teusner, Michael']:\n",
    "    if n not in namen:\n",
    "        alle_gefunden = False\n",
    "assert alle_gefunden, \"Nicht alle Namen extrahiert\""
   ]
  },
  {
   "cell_type": "markdown",
   "metadata": {},
   "source": [
    "Zum Schluss wollen wir nun aus den gefunden Namen noch Tupel der Form `(Vorname, Nachname)` bilden. Damit es nicht zu kompliziert wird, lassen wir an dieser Stelle *Fachhochschule* mal als Vornamen, und *Südwestfalen* als Nachnamen durchgehen:-)\n",
    "\n",
    "**Aufgabe:** Erstellen Sie eine Liste `namen` die alle Eigennamen in Form der oben beschrieben Tupel enthält.\n",
    "\n",
    "*Hinweis:* Für diese Aufgabe können *Capturing Groups* sehr hilfreich sein. Wir wissen, an welcher Stelle im regulären Ausdruck der Vorname und wo der Nachname steht, können wir beide Teile gruppieren. Ein *Match* `m` hat dann zwei Komponenten, die man mit `m[0]` und `m[1]` einzeln ansprechen und in die richtige Reihenfolge bringen kann."
   ]
  },
  {
   "cell_type": "code",
   "execution_count": null,
   "metadata": {
    "deletable": false,
    "nbgrader": {
     "grade": false,
     "grade_id": "cell-d95e63f752a996e9",
     "locked": false,
     "schema_version": 3,
     "solution": true,
     "task": false
    }
   },
   "outputs": [],
   "source": [
    "namen = []\n",
    "\n",
    "# YOUR CODE HERE\n",
    "raise NotImplementedError()\n",
    "\n",
    "namen"
   ]
  },
  {
   "cell_type": "code",
   "execution_count": null,
   "metadata": {
    "deletable": false,
    "editable": false,
    "nbgrader": {
     "grade": true,
     "grade_id": "cell-913253362f97c562",
     "locked": true,
     "points": 0,
     "schema_version": 3,
     "solution": false,
     "task": false
    }
   },
   "outputs": [],
   "source": [
    "# Test Zelle\n",
    "assert len(namen)==4, \"Falsche Anzahl von Matches\"\n",
    "alle_gefunden = True\n",
    "tupel = [('Fachhochschule', 'Südwestfalen'), ('Claus', 'Schuster'), ('J.', 'Liese'), ('Michael', 'Teusner')]\n",
    "for n in tupel:\n",
    "    if n not in namen:\n",
    "        alle_gefunden = False\n",
    "assert alle_gefunden, \"Nicht alle Namen extrahiert\""
   ]
  },
  {
   "cell_type": "markdown",
   "metadata": {},
   "source": [
    "## Beliebteste Vornamen bestimmen\n",
    "\n",
    "Es gibt einige Webseiten auf denen die beliebtesten Vornamen für Neugeborene der letzten Jaher abrufbar sind.\n",
    "Eine dieser Seiten ist [https://gfds.de/vornamen/beliebteste-vornamen](https://gfds.de/vornamen/beliebteste-vornamen) von der *Gesellschaft für deutsche Sprache e. V.*\n",
    "\n",
    "Unser Ziel ist es, den HTML-Text dieser Seite abzurufen und die gelisteten Vornamen zu extrahieren. Wir wollen diese Namen mitzählen und am Ende eine Rangliste der beliebtesten Namen ausgeben."
   ]
  },
  {
   "cell_type": "markdown",
   "metadata": {},
   "source": [
    "**Aufgabe:** Rufen Sie die URL `https://gfds.de/vornamen/beliebteste-vornamen` auf und lesen Sie den Inhalt der Seite als `UTF-8` kodierten String in die Variable `text`."
   ]
  },
  {
   "cell_type": "code",
   "execution_count": null,
   "metadata": {
    "deletable": false,
    "nbgrader": {
     "grade": false,
     "grade_id": "cell-1126e46626045b97",
     "locked": false,
     "schema_version": 3,
     "solution": true,
     "task": false
    }
   },
   "outputs": [],
   "source": [
    "import urllib\n",
    "import ssl\n",
    "\n",
    "# Create SSL Context\n",
    "ctx = ssl.create_default_context()\n",
    "ctx.check_hostname = False\n",
    "ctx.verify_mode = ssl.CERT_NONE\n",
    "\n",
    "url = 'https://gfds.de/vornamen/beliebteste-vornamen/'\n",
    "\n",
    "# In text soll der HTML Quelltext der Seite (als String) gespeichert werden\n",
    "text = \"\"\n",
    "\n",
    "# YOUR CODE HERE\n",
    "raise NotImplementedError()\n",
    "\n",
    "print(text)"
   ]
  },
  {
   "cell_type": "code",
   "execution_count": null,
   "metadata": {
    "deletable": false,
    "editable": false,
    "nbgrader": {
     "grade": true,
     "grade_id": "cell-456e794396f023f0",
     "locked": true,
     "points": 0,
     "schema_version": 3,
     "solution": false,
     "task": false
    }
   },
   "outputs": [],
   "source": [
    "assert text[:15] == \"<!DOCTYPE html>\", \"Falsches Format.\""
   ]
  },
  {
   "cell_type": "markdown",
   "metadata": {},
   "source": [
    "**Aufgabe:** Extrahieren Sie den HTML-Body aus dem gesamten HTML-Quelltext. Schreiben Sie dazu einen entsprechenden *regulären Ausdruck* `regex`. Der Body einer Internetseite ist die HTML-Tags `<body>` `</body>` geklammert."
   ]
  },
  {
   "cell_type": "code",
   "execution_count": null,
   "metadata": {
    "deletable": false,
    "nbgrader": {
     "grade": false,
     "grade_id": "cell-3fff87940931109d",
     "locked": false,
     "schema_version": 3,
     "solution": true,
     "task": false
    }
   },
   "outputs": [],
   "source": [
    "import re\n",
    "\n",
    "re_options = re.MULTILINE | re.IGNORECASE | re.DOTALL \n",
    "\n",
    "regex = r'.*'\n",
    "\n",
    "# YOUR CODE HERE\n",
    "raise NotImplementedError()\n",
    "\n",
    "match = re.search(regex, text, re_options)\n",
    "if match:\n",
    "    body = match.group(1)\n",
    "else:\n",
    "    print('Nichts gefunden')"
   ]
  },
  {
   "cell_type": "code",
   "execution_count": null,
   "metadata": {
    "deletable": false,
    "editable": false,
    "nbgrader": {
     "grade": true,
     "grade_id": "cell-e9e56265f921a24d",
     "locked": true,
     "points": 0,
     "schema_version": 3,
     "solution": false,
     "task": false
    }
   },
   "outputs": [],
   "source": [
    "assert body!='', \"Match ist leer. RegEx stimmt nicht.\"\n",
    "assert '<body>' not in body, \"HTML body soll extrahiert werden\""
   ]
  },
  {
   "cell_type": "markdown",
   "metadata": {},
   "source": [
    "**Aufgabe:** Schauen Sie in den HTML-Quelltext der Seite. Die Kindernamen tauchen alle mit dem selben Muster auf der Seite auf. Finden Sie alle Vorkommen von Namen auf der Seite und zählen Sie die Vorkommen der einzelnen Namen mit.\n",
    "\n",
    "Erstellen Sie eine Liste `rangliste` aller Namen geordnete nach der Anzahl ihrer Vorkommen auf der Seite. Die einzelnen Einträge von `rangliste` sollen Tupel aus 2 Elementen sein. Das erste Element ist die Anzahl der Nennungen des Namens, der zweite ist der Name als String), z.B. `(10, 'Tim')`.\n",
    "\n",
    "Geben Sie die häufigsten 20 Namen aus."
   ]
  },
  {
   "cell_type": "code",
   "execution_count": null,
   "metadata": {
    "deletable": false,
    "nbgrader": {
     "grade": false,
     "grade_id": "cell-6cf4efddfa8c12d0",
     "locked": false,
     "schema_version": 3,
     "solution": true,
     "task": false
    }
   },
   "outputs": [],
   "source": [
    "namen = {}\n",
    "\n",
    "# YOUR CODE HERE\n",
    "raise NotImplementedError()\n",
    "\n",
    "rangliste[:20]"
   ]
  },
  {
   "cell_type": "code",
   "execution_count": null,
   "metadata": {
    "deletable": false,
    "editable": false,
    "nbgrader": {
     "grade": true,
     "grade_id": "cell-e604547fb54e3d19",
     "locked": true,
     "points": 0,
     "schema_version": 3,
     "solution": false,
     "task": false
    }
   },
   "outputs": [],
   "source": [
    "assert rangliste[0][0]==44, \"Der Namen 'Alexander' müsste eigentlich 44-mal vorkommen\"\n",
    "assert rangliste[0][1]=='Alexander', \"Bei der Rangliste stimmt etwas nicht\""
   ]
  },
  {
   "cell_type": "markdown",
   "metadata": {},
   "source": [
    "**Aufgabe:** Extrahieren Sie alle Links auf HTTP (oder HTTPS) Seiten aus dem Body. Schreiben Sie den regulären Ausdruck so, dass nur der Webseiten Link, aber keine zusätzlichen Artefakte extrahiert werden. In der Liste `links` sollen alle Links der Seite gespeichert werden. Dabei soll `links` keine doppelten Einträge enthalten."
   ]
  },
  {
   "cell_type": "code",
   "execution_count": null,
   "metadata": {
    "deletable": false,
    "nbgrader": {
     "grade": false,
     "grade_id": "cell-792509d01f91029e",
     "locked": false,
     "schema_version": 3,
     "solution": true,
     "task": false
    }
   },
   "outputs": [],
   "source": [
    "links = []\n",
    "\n",
    "# YOUR CODE HERE\n",
    "raise NotImplementedError()\n",
    "\n",
    "for l in links[:20]:\n",
    "    print(l)"
   ]
  },
  {
   "cell_type": "code",
   "execution_count": null,
   "metadata": {
    "deletable": false,
    "editable": false,
    "nbgrader": {
     "grade": true,
     "grade_id": "cell-b596a8b33dfd1c92",
     "locked": true,
     "points": 0,
     "schema_version": 3,
     "solution": false,
     "task": false
    }
   },
   "outputs": [],
   "source": [
    "assert \"https://gfds.de/agbs/\" in links, \"Nicht alle Links enthalten\"\n",
    "for l in links:\n",
    "    assert l[:3]==\"htt\", \"Kein HTTP Link\""
   ]
  },
  {
   "cell_type": "markdown",
   "metadata": {},
   "source": [
    "\n",
    "## Zusammenfassung: Reguläre Ausdrücke in Python\n",
    "\n",
    "Das Modul `re` liefert Methoden, um mit regulären Ausdrücken in Python zu arbeiten.\n",
    "Eine Suche mit regulären Ausdrücken kann wie folgt durchgeführt werden:\n",
    "```python\n",
    "match = re.search(pat, string)\n",
    "```\n",
    "\n",
    "Die Methode `re.search()` erhält als Parameter einen regulären Ausdruck `pat` sowie eine Zeichenkette `string` und sucht nach diesem Muster innerhalb des Strings.\n",
    "Ist  die Suche erfolgreich ist, gibt `search()` ein Match-Objekt zurück, andernfalls `None`.\n",
    "Nach einer `search`-Operation sollte Sie also normalerweise prüfen, ob die Suche erfolgreich war:\n",
    "\n",
    "```python\n",
    "str = 'an example word:cat!!'\n",
    "match = re.search(r'word:\\w\\w\\w', str)\n",
    "# If-statement after search() tests if it succeeded\n",
    "if match:\n",
    "  print 'found', match.group() ## 'found word:cat'\n",
    "else:\n",
    "  print 'did not find'\n",
    "```\n",
    "\n",
    "\n",
    "Die Zuweisung `match = re.search()` speichert das Suchergebnis in einer Variablen namens `match`.\n",
    "Dann testet die `if`-Anweisung die Übereinstimmung -- wenn wahr, war die Suche erfolgreich und `match.group()` ist der passende Text (zB 'word:cat'). Andernfalls, wenn die Übereinstimmung falsch ist (Keine, um genauer zu sein), war die Suche nicht erfolgreich und es gibt keinen übereinstimmenden Text.\n",
    "\n",
    "Das `r` am Anfang des Muster-Strings bezeichnet einen \"rohen\" Python-String, der Backslashes ohne Änderung durchläuft, was für reguläre Ausdrücke sehr praktisch ist (Java braucht diese Funktion dringend!). Ich empfehle, dass Sie aus Gewohnheit immer Musterzeichenfolgen mit dem `r` schreiben.\n",
    "\n",
    "Die Stärke von regulären Ausdrücken besteht darin, dass sie Muster angeben können, nicht nur feste Zeichen. Hier sind die grundlegendsten Muster, die einzelnen Zeichen entsprechen:\n",
    "\n",
    "- `a`, `X`, `9`, `<` gewöhnliche Zeichen stimmen einfach genau überein. Die Metazeichen, die nicht zu sich selbst passen, weil sie eine besondere Bedeutung haben, sind: `.` `^` `$` `*` `+` `?` `{` `[` `]` `\\` `|` `(` `)`\n",
    "- `[...]` beschreibt eine Zeichenklasse. Alle Zeichen in den eckigen Klammern passen auf das Muster. Die meisten Metazeichen müssen innerhalb einer Zeichenklasse nicht maskiert werden.\n",
    "- `.` (ein Punkt) entspricht jedem einzelnen Zeichen außer Newline `'\\n'`\n",
    "- `\\w` (Kleinbuchstabe w) entspricht einem \"Wort\"-Zeichen: einem Buchstaben oder einer Ziffer oder einem Unterstrich `[a-zA-Z0-9_]`. \n",
    "- `\\W` (Großbuchstabe W) entspricht jedem Nicht-Wort-Zeichen.\n",
    "- `\\b` Grenze zwischen Wort und Nicht-Wort\n",
    "- `\\s` (Kleinbuchstabe s) entspricht einem einzelnen Leerzeichen -- Leerzeichen, Zeilenumbruch, Return, Tabulator, Form `[ \\n\\r\\t\\f]`.\n",
    "- `\\S` (Großbuchstabe S) entspricht jedem Zeichen, das kein Leerzeichen ist.\n",
    "- `\\t`, `\\n`, `\\r` Tabulator, Zeilenumbruch, Return\n",
    "- `\\d` Dezimalziffer `[0-9]`\n",
    "- `^`, `$` Zeilenanfang bzw. -ende\n",
    "- `\\` maskiert Metazeichen. Verwenden Sie also beispielsweise `\\.` für einen Punkt oder `\\\\` für einen Schrägstrich\n",
    "\n",
    "Eine Suche mit `search` durchläuft die Zeichenfolge von Anfang bis Ende und stoppt bei der ersten gefundenen Übereinstimmung mit dem regulären Ausdruck.\n",
    "Das gesamte Muster muss übereinstimmen, aber nicht die gesamte Zeichenfolge.\n",
    "\n",
    "Wenn `match = re.search(pat, str)` erfolgreich, ist `match` nicht `None`. Mit `match.group()` erhält man den als passend gefundenen Textabschnitt.\n",
    "\n",
    "Mit `+` und `*` können Sie angeben, dass bestimmte Zeichen oder Abschnitte mehrfach (also Widerholt) im passenden Textabschnitt vorkommen dürfen. \n",
    "- `+` 1 oder mehr Vorkommen des Musters links davon. Z.B. passt `'i+'` auf *ein oder mehrere i's* \n",
    "- `*` 0 oder mehr Vorkommen des Musters links davon.\n",
    "- `?` Übereinstimmung mit 0 oder 1 Vorkommen des Musters links davon\n",
    "\n",
    "Die *Quantoren* `+` und `*` arbeiten *gready*, d.h. sie konsumieren so viele Zeichen wie möglich.\n",
    "\n",
    "\n",
    "Die \"Gruppe\"-Funktion eines regulären Ausdrucks ermöglicht es, Teile des übereinstimmenden Textes herauszusuchen. Angenommen, wir möchten E-Mail-Adressen finden und dabei den Benutzernamen und die Domäne (also die Zeichen vor bzw. nach dem @-Symbol) extrahieren. \n",
    "In einem regulären Ausdrück könnten wir beide Teile klammern `r'([\\w.-]+)@([\\w.-]+)'`. In diesem Fall ändern die Klammern nicht, was mit dem Muster übereinstimmt, sondern bilden logische \"Gruppen\" innerhalb des Übereinstimmungstextes. Bei einer erfolgreichen Suche ist `match.group(1)` der Übereinstimmungstext, der der ersten linken Klammer entspricht, und `match.group(2)` ist der Text, der der zweiten linken Klammer entspricht. Ein `match.group()` ohne Index gibt den gesamten Match-Text an."
   ]
  },
  {
   "cell_type": "markdown",
   "metadata": {},
   "source": [
    "Einführung zu regulären Ausdrücken in Python:<br>\n",
    "[1] [Google Education, *Python Regular Expressions*, 2021](https://developers.google.com/edu/python/regular-expressions)"
   ]
  }
 ],
 "metadata": {
  "kernelspec": {
   "display_name": "Python 3",
   "language": "python",
   "name": "python3"
  },
  "language_info": {
   "codemirror_mode": {
    "name": "ipython",
    "version": 3
   },
   "file_extension": ".py",
   "mimetype": "text/x-python",
   "name": "python",
   "nbconvert_exporter": "python",
   "pygments_lexer": "ipython3",
   "version": "3.10.6"
  }
 },
 "nbformat": 4,
 "nbformat_minor": 4
}
