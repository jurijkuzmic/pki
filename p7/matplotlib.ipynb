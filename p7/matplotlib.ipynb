{
 "cells": [
  {
   "cell_type": "markdown",
   "metadata": {},
   "source": [
    "<figure>\n",
    "  <IMG SRC=\"https://upload.wikimedia.org/wikipedia/commons/thumb/d/d5/Fachhochschule_Südwestfalen_20xx_logo.svg/320px-Fachhochschule_Südwestfalen_20xx_logo.svg.png\" WIDTH=250 ALIGN=\"right\">\n",
    "</figure>\n",
    "\n",
    "# Programmierung für KI\n",
    "### Winterersemester 2022/23\n",
    "Prof. Dr. Heiner Giefers"
   ]
  },
  {
   "cell_type": "markdown",
   "metadata": {},
   "source": [
    "## Klimadaten Plotten\n",
    "\n",
    "*Das 1961 gegründete Goddard Institute for Space Studies (GISS) ist ein Forschungsinstitut der NASA mit Sitz in New York. Seit den 1980er Jahren zählt das GISS zu den weltweit führenden Forschungszentren im Bereich Atmosphärenmodellierung und Klimaforschung, wobei Klimaprognosen für das 21. Jahrhundert zu den Schlüsselfeldern zählen. Seit den 1970er Jahren werden zudem, unter Federführung des langjährigen Direktors James E. Hansen, aus verschiedenen Datensätzen Analysen zur globalen Oberflächentemperaturänderung entwickelt, die einen wertvollen Beitrag zur Erforschung des Klimawandels darstellen.*\n",
    "(Quelle: [sicherheitspolitik.bpb.de](https://sicherheitspolitik.bpb.de/de/m8/layers/climate-change/temp-inc/infotext))\n",
    "\n",
    "Ein Fokus der Arbeit des GISS besteht in der Beobachtung von langfristigen Temperaturänderungen über den Zeitraum von Jahrzehnten bis Jahrhunderten. Aus den Daten berechnnet das GISS Temperatur-Anomalien gegenüber einer eine festen Basisperiode.\n",
    "Die GISTEMP-Analyse basiert auf Temperaturberichten von Wetterstationen und Wassertemperaturberichten von Schiffen und Bojen.\n",
    "\n",
    "Über die Homepage [data.giss.nasa.gov](data.giss.nasa.gov) bietet das GISS Datensätze zum Download an.\n",
    "Für dieses Aufgabenblatt verwenden wir den [GISTEMP v4](https://data.giss.nasa.gov/gistemp/graphs_v4/) Datensatz.\n",
    "Darin wird der Verlauf der globalen Durschnittstemperatur über die Jahresmonate und relativ zur mittleren globalen Temperatur im Zeitraum von 1980 bis 2015 erfasst."
   ]
  },
  {
   "cell_type": "markdown",
   "metadata": {},
   "source": [
    "#### Beschaffen des Datensatzes\n",
    "\n",
    "Zuerst müssen wir den Datensatz von der GISS Homepage herunterladen.\n",
    "Als Datenformat wählen wir das *Comma Separated Values* Format (csv) und speichern die Daten lokal in der Datei *gistemp.csv*."
   ]
  },
  {
   "cell_type": "code",
   "execution_count": null,
   "metadata": {},
   "outputs": [],
   "source": [
    "import requests\n",
    "url = \"https://data.giss.nasa.gov/gistemp/graphs/graph_data/GISTEMP_Seasonal_Cycle_since_1880/graph.csv\"\n",
    "headers={'User-Agent': 'Mozilla/5.0'} \n",
    "r = requests.get(url, headers=headers)\n",
    "if r.status_code == 200:\n",
    "    try:\n",
    "        f = open(\"gistemp.csv\", 'wb')\n",
    "        f.write(r.content)\n",
    "    except:\n",
    "        print(\"Irgendetwas ist schief gegangen!\")\n",
    "else:\n",
    "    print(\"Status code\",  r.status_code)"
   ]
  },
  {
   "cell_type": "markdown",
   "metadata": {},
   "source": [
    "#### Verwendete Bibliotheken\n",
    "\n",
    "Für dieses Beispiel verwenden wir neben NumPy, Matplotlib und Pyplot auch die Bibliothek Pandas.\n",
    "Pandas ist eine extrem nützliche Bibliothek zur Verarbeitung *tabellarischer Daten* in Python.\n",
    "Wir werden an dieser Stelle nicht länger auf die Möglichkeiten der Bibliothek eingehen, sondern uns auf das beschränken, was wir für unsere Aufgaben benötigen.\n",
    "\n",
    "Das Wichtigste, was Sie über Pandas wissen müssen ist, dass Tabellen in einer Datenstruktur namens *DataFrame* abgelegt werden.\n",
    "*DataFrames* haben benannte Spalten mit denen man ähnlich rechnen kann, wie mit NumPy Arrays (tatsächlich sind die Daten auch als `ndarrays` abrufbar).\n",
    "Wie in Tabellenkalkulationen (wie z.B. Excel) kann man auch in *DataFrames* sehr einfach neue Spalten anlegen, z.B. indem man die Werte andere Spalten durch Berechnungen kombiniert."
   ]
  },
  {
   "cell_type": "code",
   "execution_count": null,
   "metadata": {},
   "outputs": [],
   "source": [
    "import pandas as pd\n",
    "import numpy as np\n",
    "import matplotlib as mpl\n",
    "import matplotlib.pyplot as plt"
   ]
  },
  {
   "cell_type": "markdown",
   "metadata": {},
   "source": [
    "Im folgenden Code abschnitt laden wir die GISS Temperaturdaten aus der CSV-Datei in den *DataFrame* `temp`.\n",
    "Die erste Zeile der Detei enthält ein Kommentar, daher überspringen wir sie.\n",
    "Mit der Methode `head()` können wir uns die ersten Zeilen des *DataFrames* anzeigen lassen.\n",
    "Jupyter formatiert die Tabelle, so dass sie gut lesbar ist."
   ]
  },
  {
   "cell_type": "code",
   "execution_count": null,
   "metadata": {},
   "outputs": [],
   "source": [
    "temp = pd.read_csv(\"gistemp.csv\", skiprows=1)\n",
    "temp.head(12)"
   ]
  },
  {
   "cell_type": "markdown",
   "metadata": {},
   "source": [
    "Wir sehen, dass die Daten lediglich aus 2 Spalten bestehen, die mit *Year* und *Anomaly* benannt sind.\n",
    "Ganz links sehen wir einen fortlaufenden Spaltenindex, den Pandas beim Erstellen des *DataFrames* erzeugt.\n",
    "\n",
    "Die Jahreszahl ist etwas irritierend. Wir sehen, dass die Variable `Year` eine Kommazahl ist.\n",
    "Ein Wert `1880.04` bedeutet, dass die Temperatur nach 4% der Tage im Jahr 1880 gemessen wurde.\n",
    "4% von 365 Tagen sind 14,6 Tage, man kann also erkennen, dass hier die Temperaturen circa zu Mitte eines Monats bestimmt werden.\n",
    "\n",
    "Ein Vorteil dieser Notation ist, dass man die \"Jahreszahlen\" direkt Plotten kann, da sie einer metrischen Skalierung folgen."
   ]
  },
  {
   "cell_type": "code",
   "execution_count": null,
   "metadata": {},
   "outputs": [],
   "source": [
    "plt.plot(temp[\"Year\"],temp[\"Anomaly\"])"
   ]
  },
  {
   "cell_type": "markdown",
   "metadata": {},
   "source": [
    "Leider hilft dieser Plot kaum. Die Temperaturen unterliegen Schwankungen im Jahresverlauf um ca 5 °C. Außerdem ist der Zeitraum zu lang für einen Plot dieses Formats.\n",
    "\n",
    "Eine Einschränkung des Datensatzes auf die Jahre ab 1990 macht die Abbildung *lesbar*, liefert aber ebenfalls keine besonderen Erkenntnisse."
   ]
  },
  {
   "cell_type": "code",
   "execution_count": null,
   "metadata": {},
   "outputs": [],
   "source": [
    "neuer_df = temp[temp[\"Year\"]>1990]\n",
    "plt.plot(neuer_df[\"Year\"],neuer_df[\"Anomaly\"])"
   ]
  },
  {
   "cell_type": "markdown",
   "metadata": {},
   "source": [
    "Eine Darstellung, die interessant wäre ist, die Temperatur-Anomalie für einen bestimmten Monat (z.B. den Juli) seit 1880 zu plotten.\n",
    "\n",
    "Zum Glück bietet Pandas eine Möglichkeit, Daten-Zeilen und -Spalten über Indizes auszuwählen.\n",
    "Dies funktioniert sehr ähnlich wie das *Array Slicing* in NumPy.\n",
    "Auf die Indizes eines *DataFrames* greift man über das Attribut `iloc` zu.\n",
    "\n",
    "Die folgende Code Zelle plottet die Temperatur-Anomalien in den Januar Monaten von 1880 bis 2022.\n",
    "\n",
    "**Aufgabe:** Ändern Sie den Code so ab, dass die Juli-Temperaturen verwendet werden."
   ]
  },
  {
   "cell_type": "code",
   "execution_count": null,
   "metadata": {
    "deletable": false,
    "nbgrader": {
     "grade": true,
     "grade_id": "cell-87bdbbf59b86c76b",
     "locked": false,
     "points": 0,
     "schema_version": 3,
     "solution": true,
     "task": false
    }
   },
   "outputs": [],
   "source": [
    "neuer_df = temp.iloc[::12, :]\n",
    "# YOUR CODE HERE\n",
    "raise NotImplementedError()\n",
    "plt.plot(neuer_df[\"Year\"],neuer_df[\"Anomaly\"])"
   ]
  },
  {
   "cell_type": "markdown",
   "metadata": {},
   "source": [
    "Statt nur jeweils einen Monat auszuwählen, wäre es besser, den Mittelwert der Temperatur-Anomalien über einen gewissen Zeitraum zu betrachten. Ist der Zeitraum groß genug, so gleichen sich die Abweichungen im Jahresverlauf gegeneinander aus.\n",
    "\n",
    "Ein solcher *gleitender Mittelwert* wird allgemein zur Glättung von Zeit- bzw. Datenreihen eingesetzt.\n",
    "Pandas besitzt eine Methode `rolling(k)`, die, angewendet auf eine oder mehrere Spalten eines *DataFrames*, ein Fenster von `k` aufeinander folgenden Elementen liefert.\n",
    "Auf dieses Fester kann dann eine zusammenfassende Funktion angewendet werden, wie etwa:\n",
    "- `mean()` zum Berechnen des arithmetischen Mittelwerts\n",
    "- `max()` oder `min()` zum Bestimmen von Extremwerten im Bereich des Fensters\n",
    "- `median()` zum Bestimmen des Median-Elements im Bereich des Fensters\n",
    "\n",
    "Im Beispiel unten wenden wir eine Mittelwert-Berechnung über ein Fenster von 3 Elementen auf die Spalte `x_0` unseres *DataFrames* an, die Resultate werden in der Spalte `x_1` abgelgt.\n",
    "Man sieht, dass `rolling` (jedenfalls mit den Standardeinstellungen) \"zurück schaut\", also erst nach 3 Werten einen sinnvollen Mittelwert berechnen kann."
   ]
  },
  {
   "cell_type": "code",
   "execution_count": null,
   "metadata": {},
   "outputs": [],
   "source": [
    "df = pd.DataFrame(data={\"x_0\": [x for x in range(10)]})\n",
    "df[\"x_1\"] = df[\"x_0\"].rolling(3).mean()\n",
    "df"
   ]
  },
  {
   "cell_type": "markdown",
   "metadata": {},
   "source": [
    "**Aufgabe:** Erstellen Sie eine *verrauschte* Datenreihe auf Basis einer Linearen Funktion $f(x)=1.7x+3.2$.\n",
    "100 $x$-Werte im Bereich von 0 bis 10, für die die Funktion berechnet soll, sind bereits im *ndarray* `x` abgelgt.\n",
    "Außerdem ist bereits ein *ndarray* `noise` angelegt, dass 100 normalverteilte Werte mit dem Erwartungswert $\\mu=0$ und der Standardabweichung $\\sigma=5$ enthält.\n",
    "Sie können `noise` verwenden, um die Funktion $f$ zu *verrauschen*.\n",
    "Die Werte von $f(x)$ sollen im *ndarray* `y` abgelegt werden. Plotten Sie anschließend die Funktion über die Datenreihen `x` und `y`."
   ]
  },
  {
   "cell_type": "code",
   "execution_count": null,
   "metadata": {
    "deletable": false,
    "nbgrader": {
     "grade": true,
     "grade_id": "cell-79f4357a0c2fd46b",
     "locked": false,
     "points": 0,
     "schema_version": 3,
     "solution": true,
     "task": false
    }
   },
   "outputs": [],
   "source": [
    "x = np.linspace(0,10,100)\n",
    "noise = np.random.randn(x.size)*5\n",
    "y = None\n",
    "# YOUR CODE HERE\n",
    "raise NotImplementedError()\n",
    "df = pd.DataFrame(data={\"x\": x, \"y\": y})\n",
    "df.head()"
   ]
  },
  {
   "cell_type": "markdown",
   "metadata": {},
   "source": [
    "**Aufgabe:** Glätten Sie die Datenreihe `y` über einen Bereich von 10 Werten. Plotten Sie die ursprüngliche sowie die geglättete Funktion in ein Koordinatensystem."
   ]
  },
  {
   "cell_type": "code",
   "execution_count": null,
   "metadata": {
    "deletable": false,
    "nbgrader": {
     "grade": true,
     "grade_id": "cell-56962e485a586d21",
     "locked": false,
     "points": 0,
     "schema_version": 3,
     "solution": true,
     "task": false
    }
   },
   "outputs": [],
   "source": [
    "# YOUR CODE HERE\n",
    "raise NotImplementedError()"
   ]
  },
  {
   "cell_type": "markdown",
   "metadata": {},
   "source": [
    "Kommen wir zurück auf unseren Temperatur Datensatz.\n",
    "Wir können die `rolling`-Methode nun auch auf die Temperatur-Anomalien anwenden.\n",
    "\n",
    "**Aufgabe:** Glätten Sie die Temperatur-Anomalien von 1880 bis heute über einen Zeitraum von 5 Jahren und Plotten Sie das Ergebnis."
   ]
  },
  {
   "cell_type": "code",
   "execution_count": null,
   "metadata": {
    "deletable": false,
    "nbgrader": {
     "grade": true,
     "grade_id": "cell-58559a292ff334b2",
     "locked": false,
     "points": 0,
     "schema_version": 3,
     "solution": true,
     "task": false
    }
   },
   "outputs": [],
   "source": [
    "# YOUR CODE HERE\n",
    "raise NotImplementedError()"
   ]
  },
  {
   "cell_type": "markdown",
   "metadata": {},
   "source": [
    "## Saisonaler Temperaturverlauf\n",
    "\n",
    "Statt eines Plots, bei dem sich die x-, bzw. die Zeitachse über den Zeitraum von 1880 bis heute erstreckt, kann man sich auch die Temperatur-Abweichungen im Verlauf eines Jahres anzeigen lassen.\n",
    "Eine solche Grafik enthält mehr Details, da sie nicht einfach über die Monate hinweg mittelt.\n",
    "\n",
    "Um mehrere Jahre zu vergleichen, kann man mehrere Datenreihen in das gleiche Koordinatensystem plotten.\n",
    "Stellt man die Verläufe in den unterschiedlichen Jahren (und Jahrzehnten) farblich unterschiedlich da, so können auch aus diesem Graph langfristige Veränderungen abgelesen werden.\n",
    "\n",
    "Eine solche Darstellung erstellt auch das GISS Institut, von dem der Datensatz stammt.\n",
    "Die folgende Abbildung zeigt den aktuellen *GISTEMP Seasonal Cycle* Graph von der GISS Homepage.\n",
    "Unser Ziel ist es nun, diesen Graph mit *Matplotlib* möglichst getreu nachzustellen."
   ]
  },
  {
   "cell_type": "markdown",
   "metadata": {},
   "source": [
    "![](https://data.giss.nasa.gov/gistemp/graphs_v4/graph_data/GISTEMP_Seasonal_Cycle_since_1880/graph.png)"
   ]
  },
  {
   "cell_type": "markdown",
   "metadata": {},
   "source": [
    "Schauen wir uns die obige Abbildung an. Wir sehen folgende Elemente\n",
    "- Die Temperatur-Anomalien alle Jahrgänge sind in ein Diagramm gezeichnet.\n",
    "- Die Farben der einzelnen \"Jahres-Plots\" variieren nach einem bestimmten Farbschema. Beginnend vom ersten Jahr 1880 bis zum aktuellen Jahr nimmt die *Farbtemperatur* zu, von Blau zu Grün, über Gelb hin zu Rot und schließlich einem dunklen Violett. Durch diese Farbgebung wird aus dem Graph ersichtlich, dass sich die Temperaturen *nach oben* verschieben.\n",
    "- Das Diagramm besitzt einen Titel, beide Achsen sind ebenfalls mit einem Titel (*Label*) versehen.\n",
    "- Die x-Achse ist mit Markern (*Ticks*) versehen, die mit den Abkürzungen der Monatsnamen beschriftet sind.\n",
    "- Die Abbildung besitzt eine Legende. Die Farbcodierung der einzelnen Plots ist im-20 Jahres-Rhythmus angegeben.\n",
    "- Das letzte Jahr ist mit kreisrunden Markern für die einzelnen Messpunkte dargestellt und endet im November\n",
    "- Das letzte Messergebnis ist mit einer Annotation versehen.\n",
    "\n",
    "**Aufgabe:** Bilden Sie das oben dargestellte Diagramm mit Matplotlib möglichst getreu nach. Am besten gehen Sie so vor, dass Sie die oben genannten Elemente nach und nach in den Matplotlib Graphen einfügen."
   ]
  },
  {
   "cell_type": "markdown",
   "metadata": {},
   "source": [
    "Hier noch einige Tipps/Vorarbeiten, um die Aufgabe vorzubereiten.\n",
    "Wir fügen dem *DataFrame* zwei Spalten `Jahr` und `Tag` hinzu, die die (echte) Jahreszahl bzw. die Tageszahl enthalten."
   ]
  },
  {
   "cell_type": "code",
   "execution_count": null,
   "metadata": {},
   "outputs": [],
   "source": [
    "temp[\"Jahr\"] = (temp[\"Year\"]//1).astype(int)\n",
    "temp[\"Tag\"] = ((temp[\"Year\"]-temp[\"Jahr\"])*365).astype(int)\n",
    "temp.head()"
   ]
  },
  {
   "cell_type": "markdown",
   "metadata": {},
   "source": [
    "Sie wissen ja bereits, dass man mehrere Datensreihen in ein Koordinatensystem plotten.\n",
    "Das geht natürlich auch in einer `for`-Schleife:"
   ]
  },
  {
   "cell_type": "code",
   "execution_count": null,
   "metadata": {},
   "outputs": [],
   "source": [
    "x = np.linspace(0,10,20)\n",
    "for s in np.linspace(0.1,6,10):\n",
    "    y = s*x\n",
    "    plt.plot(x,y)"
   ]
  },
  {
   "cell_type": "markdown",
   "metadata": {},
   "source": [
    "Matplotib besitzt eine Vielzahl verschiedener *Colormaps*, die zum Einfärben der Plots verwendet werden können.\n",
    "Im folgenden Code-Beispiel geben wir einige Punkte entlang der *Colormap* `jet` aus.\n",
    "Diese passt bereits recht gut zum gewünschten Farbverlauf."
   ]
  },
  {
   "cell_type": "code",
   "execution_count": null,
   "metadata": {},
   "outputs": [],
   "source": [
    "colors = mpl.cm.get_cmap('jet')\n",
    "N = 10\n",
    "x = np.arange(N)\n",
    "y = np.zeros(N)\n",
    "col = colors(np.linspace(0,1,N))\n",
    "fig, ax = plt.subplots(figsize=(12,1))\n",
    "ax.scatter(x, y, c=col, s=500, marker='s')\n",
    "ax.set_xticks(x)\n",
    "plt.show()"
   ]
  },
  {
   "cell_type": "code",
   "execution_count": null,
   "metadata": {
    "deletable": false,
    "nbgrader": {
     "grade": true,
     "grade_id": "cell-d4b5d47ade3bc0a0",
     "locked": false,
     "points": 0,
     "schema_version": 3,
     "solution": true,
     "task": false
    }
   },
   "outputs": [],
   "source": [
    "# YOUR CODE HERE\n",
    "raise NotImplementedError()"
   ]
  },
  {
   "cell_type": "markdown",
   "metadata": {},
   "source": [
    "**Aufgabe:** Speichern Sie abschließend Ihren Plot in eine Bilddatei (z.B. in ein PNG)."
   ]
  }
 ],
 "metadata": {
  "kernelspec": {
   "display_name": "Python 3 (ipykernel)",
   "language": "python",
   "name": "python3"
  },
  "language_info": {
   "codemirror_mode": {
    "name": "ipython",
    "version": 3
   },
   "file_extension": ".py",
   "mimetype": "text/x-python",
   "name": "python",
   "nbconvert_exporter": "python",
   "pygments_lexer": "ipython3",
   "version": "3.10.8"
  },
  "varInspector": {
   "cols": {
    "lenName": 16,
    "lenType": 16,
    "lenVar": 40
   },
   "kernels_config": {
    "python": {
     "delete_cmd_postfix": "",
     "delete_cmd_prefix": "del ",
     "library": "var_list.py",
     "varRefreshCmd": "print(var_dic_list())"
    },
    "r": {
     "delete_cmd_postfix": ") ",
     "delete_cmd_prefix": "rm(",
     "library": "var_list.r",
     "varRefreshCmd": "cat(var_dic_list()) "
    }
   },
   "types_to_exclude": [
    "module",
    "function",
    "builtin_function_or_method",
    "instance",
    "_Feature"
   ],
   "window_display": false
  }
 },
 "nbformat": 4,
 "nbformat_minor": 4
}
